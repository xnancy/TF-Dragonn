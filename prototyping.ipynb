{
 "cells": [
  {
   "cell_type": "code",
   "execution_count": 117,
   "metadata": {
    "collapsed": false
   },
   "outputs": [
    {
     "name": "stdout",
     "output_type": "stream",
     "text": [
      "The autoreload extension is already loaded. To reload it, use:\n",
      "  %reload_ext autoreload\n"
     ]
    }
   ],
   "source": [
    "%load_ext autoreload\n",
    "%autoreload 2\n",
    "import pybedtools\n",
    "import numpy as np\n",
    "from intervals import bed_intersection_labels, multibed_intersection_labels, bin_bed\n",
    "\n",
    "atf1_k562_bed = '/mnt/data/ENCODE/peaks_spp/mar2012/distinct/idrOptimal/\\\n",
    "wgEncodeSydhTfbsK562Atf106325StdAlnRep0.bam_VS_wgEncodeSydhTfbsK562InputStdAlnRep0.bam.regionPeak.gz'\n",
    "\n",
    "bcl3_k562_bed = '/mnt/data/ENCODE/peaks_spp/mar2012/distinct/idrOptimal/\\\n",
    "wgEncodeHaibTfbsK562Bcl3Pcr1xAlnRep0.bam_VS_wgEncodeHaibTfbsK562RxlchPcr1xAlnRep0.bam.regionPeak.gz'\n",
    "\n",
    "dnase_562_bed = '/mnt/data/epigenomeRoadmap/peaks/consolidated/narrowPeak/E123-DNase.macs2.narrowPeak.gz'"
   ]
  },
  {
   "cell_type": "code",
   "execution_count": 3,
   "metadata": {
    "collapsed": false
   },
   "outputs": [],
   "source": [
    "def add_flanks_to_bed(bed, flank_size):\n",
    "    pass"
   ]
  },
  {
   "cell_type": "code",
   "execution_count": 4,
   "metadata": {
    "collapsed": false
   },
   "outputs": [],
   "source": [
    "atf1_k562 = pybedtools.BedTool(atf1_k562_bed)\n",
    "bcl3_k562 = pybedtools.BedTool(bcl3_k562_bed)\n",
    "dnase_k562 = pybedtools.BedTool(dnase_562_bed)"
   ]
  },
  {
   "cell_type": "code",
   "execution_count": 44,
   "metadata": {
    "collapsed": false
   },
   "outputs": [],
   "source": [
    "atf1_labels = bed_intersection_labels(dnase_k562, atf1_k562)"
   ]
  },
  {
   "cell_type": "code",
   "execution_count": 45,
   "metadata": {
    "collapsed": false
   },
   "outputs": [],
   "source": [
    "bcl3_labels = bed_intersection_labels(dnase_k562, bcl3_k562)"
   ]
  },
  {
   "cell_type": "code",
   "execution_count": 46,
   "metadata": {
    "collapsed": false
   },
   "outputs": [
    {
     "data": {
      "text/plain": [
       "13653"
      ]
     },
     "execution_count": 46,
     "metadata": {},
     "output_type": "execute_result"
    }
   ],
   "source": [
    "atf1_labels.sum()"
   ]
  },
  {
   "cell_type": "code",
   "execution_count": 7,
   "metadata": {
    "collapsed": false
   },
   "outputs": [
    {
     "data": {
      "text/plain": [
       "(341918, 1)"
      ]
     },
     "execution_count": 7,
     "metadata": {},
     "output_type": "execute_result"
    }
   ],
   "source": [
    "atf1_labels.shape"
   ]
  },
  {
   "cell_type": "code",
   "execution_count": 8,
   "metadata": {
    "collapsed": false
   },
   "outputs": [
    {
     "data": {
      "text/plain": [
       "(341918, 1)"
      ]
     },
     "execution_count": 8,
     "metadata": {},
     "output_type": "execute_result"
    }
   ],
   "source": [
    "bcl3_labels.shape"
   ]
  },
  {
   "cell_type": "code",
   "execution_count": 9,
   "metadata": {
    "collapsed": false
   },
   "outputs": [],
   "source": [
    "all_labels = multibed_intersection_labels(dnase_k562, [atf1_k562, bcl3_k562])"
   ]
  },
  {
   "cell_type": "code",
   "execution_count": 10,
   "metadata": {
    "collapsed": false
   },
   "outputs": [
    {
     "data": {
      "text/plain": [
       "(341918, 2)"
      ]
     },
     "execution_count": 10,
     "metadata": {},
     "output_type": "execute_result"
    }
   ],
   "source": [
    "all_labels.shape"
   ]
  },
  {
   "cell_type": "code",
   "execution_count": 118,
   "metadata": {
    "collapsed": false
   },
   "outputs": [],
   "source": [
    "#binned_dnase = dnase_k562.window_maker(dnase_k562, w=1000, s=600, i=\"winnum\")\n",
    "binned_dnase = bin_bed(dnase_k562, bin_size=1000, stride=600)"
   ]
  },
  {
   "cell_type": "code",
   "execution_count": 119,
   "metadata": {
    "collapsed": false
   },
   "outputs": [
    {
     "name": "stdout",
     "output_type": "stream",
     "text": [
      "chrM\t0\t1000\t1\n",
      "\n",
      "chrM\t1208\t2208\t1\n",
      "\n",
      "chrM\t1808\t2808\t2\n",
      "\n",
      "chrM\t2408\t3408\t3\n",
      "\n",
      "chrM\t3008\t4008\t4\n",
      "\n",
      "chrM\t8866\t9866\t1\n",
      "\n",
      "chrM\t9466\t10466\t2\n",
      "\n",
      "chrM\t10066\t11066\t3\n",
      "\n",
      "chrM\t10666\t11666\t4\n",
      "\n",
      "chrM\t11266\t12266\t5\n",
      "\n"
     ]
    }
   ],
   "source": [
    "for interval in binned_dnase[:10]:\n",
    "    print interval"
   ]
  },
  {
   "cell_type": "code",
   "execution_count": 71,
   "metadata": {
    "collapsed": false
   },
   "outputs": [],
   "source": [
    "window_indx = np.array([window.count for window in binned_dnase])"
   ]
  },
  {
   "cell_type": "code",
   "execution_count": 49,
   "metadata": {
    "collapsed": false
   },
   "outputs": [],
   "source": [
    "first_window_indxs = np.where(window_indx == 1)[0]"
   ]
  },
  {
   "cell_type": "code",
   "execution_count": 51,
   "metadata": {
    "collapsed": false
   },
   "outputs": [],
   "source": [
    "last_window_indxs = first_window_indxs[1:] - 1"
   ]
  },
  {
   "cell_type": "code",
   "execution_count": 75,
   "metadata": {
    "collapsed": false
   },
   "outputs": [],
   "source": [
    "indxs = set(range(len(window_indx))) - set(last_window_indxs)"
   ]
  },
  {
   "cell_type": "code",
   "execution_count": 78,
   "metadata": {
    "collapsed": false
   },
   "outputs": [
    {
     "data": {
      "text/plain": [
       "<BedTool(/tmp/pybedtools.tT3HYE.tmp)>"
      ]
     },
     "execution_count": 78,
     "metadata": {},
     "output_type": "execute_result"
    }
   ],
   "source": [
    "binned_dnase.at(list(indxs))"
   ]
  },
  {
   "cell_type": "code",
   "execution_count": 55,
   "metadata": {
    "collapsed": false
   },
   "outputs": [
    {
     "data": {
      "text/plain": [
       "array([     1,      6,     19, ..., 377642, 377643, 377644])"
      ]
     },
     "execution_count": 55,
     "metadata": {},
     "output_type": "execute_result"
    }
   ],
   "source": [
    "last_window_indxs"
   ]
  },
  {
   "cell_type": "code",
   "execution_count": 53,
   "metadata": {
    "collapsed": true
   },
   "outputs": [],
   "source": [
    "last_windows_bed = binned_dnase.at(last_window_indxs)"
   ]
  },
  {
   "cell_type": "code",
   "execution_count": 54,
   "metadata": {
    "collapsed": false
   },
   "outputs": [
    {
     "name": "stdout",
     "output_type": "stream",
     "text": [
      "chrM\t600\t1097\t2\n",
      " chrM\t3608\t4182\t5\n",
      " chrM\t16066\t16537\t13\n",
      " chrM\t5259\t5576\t2\n",
      " chrM\t6751\t6767\t2\n",
      " chr1\t91852744\t91853189\t1\n",
      " chrM\t8328\t8796\t1\n",
      " chr6\t58778859\t58779375\t5\n",
      " chr21\t9835596\t9835739\t18\n",
      " chrM\t8044\t8281\t2\n",
      " "
     ]
    }
   ],
   "source": [
    "last_windows_bed.head()"
   ]
  },
  {
   "cell_type": "code",
   "execution_count": 107,
   "metadata": {
    "collapsed": false
   },
   "outputs": [
    {
     "ename": "TypeError",
     "evalue": "'BedTool' object does not support item assignment",
     "output_type": "error",
     "traceback": [
      "\u001b[1;31m---------------------------------------------------------------------------\u001b[0m",
      "\u001b[1;31mTypeError\u001b[0m                                 Traceback (most recent call last)",
      "\u001b[1;32m<ipython-input-107-3daee9101450>\u001b[0m in \u001b[0;36m<module>\u001b[1;34m()\u001b[0m\n\u001b[0;32m      1\u001b[0m \u001b[0mi\u001b[0m\u001b[1;33m=\u001b[0m\u001b[0mlast_windows_bed\u001b[0m\u001b[1;33m[\u001b[0m\u001b[1;36m0\u001b[0m\u001b[1;33m]\u001b[0m\u001b[1;33m\u001b[0m\u001b[0m\n\u001b[0;32m      2\u001b[0m \u001b[0mi\u001b[0m\u001b[1;33m.\u001b[0m\u001b[0mstop\u001b[0m \u001b[1;33m=\u001b[0m \u001b[1;36m1099\u001b[0m\u001b[1;33m\u001b[0m\u001b[0m\n\u001b[1;32m----> 3\u001b[1;33m \u001b[0mlast_windows_bed\u001b[0m\u001b[1;33m[\u001b[0m\u001b[1;36m0\u001b[0m\u001b[1;33m]\u001b[0m \u001b[1;33m=\u001b[0m \u001b[0mi\u001b[0m\u001b[1;33m\u001b[0m\u001b[0m\n\u001b[0m\u001b[0;32m      4\u001b[0m \u001b[0mlast_windows_bed\u001b[0m\u001b[1;33m.\u001b[0m\u001b[0mhead\u001b[0m\u001b[1;33m(\u001b[0m\u001b[1;33m)\u001b[0m\u001b[1;33m\u001b[0m\u001b[0m\n",
      "\u001b[1;31mTypeError\u001b[0m: 'BedTool' object does not support item assignment"
     ]
    }
   ],
   "source": [
    "i=last_windows_bed[0]\n",
    "i.stop = 1099\n",
    "last_windows_bed[0] = i\n",
    "last_windows_bed.head()"
   ]
  },
  {
   "cell_type": "code",
   "execution_count": 109,
   "metadata": {
    "collapsed": false
   },
   "outputs": [
    {
     "data": {
      "text/plain": [
       "pybedtools.bedtool.BedTool"
      ]
     },
     "execution_count": 109,
     "metadata": {},
     "output_type": "execute_result"
    }
   ],
   "source": [
    "type(last_windows_bed)"
   ]
  },
  {
   "cell_type": "code",
   "execution_count": 84,
   "metadata": {
    "collapsed": true
   },
   "outputs": [],
   "source": [
    "def pad_interval(interval, interval_size):\n",
    "    length = interval.stop - interval.start\n",
    "    if length < interval_size / 2.0:\n",
    "        return False\n",
    "    else:\n",
    "        interval.stop += interval_size - length\n",
    "        return interval"
   ]
  },
  {
   "cell_type": "code",
   "execution_count": 85,
   "metadata": {
    "collapsed": false
   },
   "outputs": [],
   "source": [
    "padded_last_window_bed = last_windows_bed.each(pad_interval, 1000)"
   ]
  },
  {
   "cell_type": "code",
   "execution_count": 86,
   "metadata": {
    "collapsed": false
   },
   "outputs": [
    {
     "data": {
      "text/plain": [
       "Interval(chrM:3608-4608)"
      ]
     },
     "execution_count": 86,
     "metadata": {},
     "output_type": "execute_result"
    }
   ],
   "source": [
    "padded_last_window_bed[0]"
   ]
  },
  {
   "cell_type": "code",
   "execution_count": 62,
   "metadata": {
    "collapsed": false
   },
   "outputs": [],
   "source": [
    "slopped_binned_dnase = binned_dnase.slop(g='/mnt/data/annotations/by_release/hg19.GRCh37/hg19.chrom.sizes', b=50)"
   ]
  },
  {
   "cell_type": "code",
   "execution_count": 63,
   "metadata": {
    "collapsed": false
   },
   "outputs": [
    {
     "name": "stdout",
     "output_type": "stream",
     "text": [
      "chrM\t0\t1050\n",
      " chrM\t550\t1147\n",
      " chrM\t1158\t2258\n",
      " chrM\t1758\t2858\n",
      " chrM\t2358\t3458\n",
      " chrM\t2958\t4058\n",
      " chrM\t3558\t4232\n",
      " chrM\t8816\t9916\n",
      " chrM\t9416\t10516\n",
      " chrM\t10016\t11116\n",
      " "
     ]
    }
   ],
   "source": [
    "slopped_binned_dnase.head()"
   ]
  },
  {
   "cell_type": "code",
   "execution_count": null,
   "metadata": {
    "collapsed": true
   },
   "outputs": [],
   "source": []
  }
 ],
 "metadata": {
  "kernelspec": {
   "display_name": "Python 2",
   "language": "python",
   "name": "python2"
  },
  "language_info": {
   "codemirror_mode": {
    "name": "ipython",
    "version": 2
   },
   "file_extension": ".py",
   "mimetype": "text/x-python",
   "name": "python",
   "nbconvert_exporter": "python",
   "pygments_lexer": "ipython2",
   "version": "2.7.12"
  }
 },
 "nbformat": 4,
 "nbformat_minor": 0
}
