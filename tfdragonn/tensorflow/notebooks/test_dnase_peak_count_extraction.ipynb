{
 "cells": [
  {
   "cell_type": "code",
   "execution_count": 1,
   "metadata": {
    "collapsed": false
   },
   "outputs": [],
   "source": [
    "%reload_ext autoreload\n",
    "%autoreload 2\n",
    "import numpy as np\n",
    "import json\n",
    "from pybedtools import BedTool, Interval\n",
    "import tensorflow as tf\n",
    "from tfdragonn.tensorflow.dataset_interval_reader import get_readers_and_tasks"
   ]
  },
  {
   "cell_type": "markdown",
   "metadata": {},
   "source": [
    "load dnase peaks, manually count within [1000.0, 5000.0, 10000.0, 50000.0, 100000.0] windows of 3 representative intervals"
   ]
  },
  {
   "cell_type": "code",
   "execution_count": 2,
   "metadata": {
    "collapsed": false
   },
   "outputs": [
    {
     "name": "stdout",
     "output_type": "stream",
     "text": [
      "[[ 0.  1.  1.  3.  8.]\n",
      " [ 0.  3.  4.  8.  8.]\n",
      " [ 1.  3.  4.  8.  8.]]\n"
     ]
    }
   ],
   "source": [
    "# load dnase peaks\n",
    "dnase_bed = \"/mnt/lab_data/kundaje/jisraeli/projects/TF_Challenge/data/DNASE/peaks/conservative/DNASE.A549.conservative.narrowPeak.gz\"\n",
    "dnase_bedtool = BedTool(dnase_bed).sort().merge() # intervals are merged to collapse multi-summit peaks!\n",
    "# create 2 test intervals\n",
    "test_intervals = [Interval(\"chr1\", 1177002, 1178002), Interval(\"chrX\", 177002, 178002), Interval(\"chrX\", 177015, 178015)]\n",
    "test_bedtool = BedTool(test_intervals).set_chromsizes(\"hg19\")\n",
    "interval_length = test_bedtool[0].stop - test_bedtool[0].start\n",
    "peak_counts = np.zeros((3, 5))\n",
    "# get peaks counts within windows using bedtools slop+intersect\n",
    "for i, window_size in enumerate([1000.0, 5000.0, 10000.0, 50000.0, 100000.0]):\n",
    "    slop_size = 1. * (window_size - interval_length) / 2\n",
    "    slopped_test_bedtool = test_bedtool.slop(b=slop_size)\n",
    "    peak_counts[:, i] = [int(result[-1]) for result in slopped_test_bedtool.intersect(dnase_bedtool, c=True, F=0.5)]\n",
    "print(peak_counts)"
   ]
  },
  {
   "cell_type": "markdown",
   "metadata": {},
   "source": [
    "pass pre-extracted count data through our tensorflow readers and check if we get the same results"
   ]
  },
  {
   "cell_type": "code",
   "execution_count": 3,
   "metadata": {
    "collapsed": false
   },
   "outputs": [],
   "source": [
    "# write inputs file with peaks counts in \"count_window_sizes\": [1e3, 5e3, 1e4, 5e4, 1e5]\n",
    "INPUTS_FILE = \"./inputs.json\"\n",
    "dnase_peaks_counts_data_dir = \"/mnt/data/memmap/bcolz_data/DNASE.A549.conservative_peaks_counts_data_dir_dec19\"\n",
    "inputs_file_dict = {\"test\": {\"dnase_peaks_counts_data_dir\": dnase_peaks_counts_data_dir}}\n",
    "with open(INPUTS_FILE, 'w') as fp:\n",
    "    json.dump(inputs_file_dict, fp)\n",
    "# write intervals config file with the 2 test intervals\n",
    "INTERVALS_FILE = \"./intervals.json\"\n",
    "INTERVALS_BED_FILE = \"test.bed\"\n",
    "test_bedtool.saveas(INTERVALS_BED_FILE)\n",
    "intervals_file_dict = {\"test\": {\"regions\": INTERVALS_BED_FILE}, \"task_names\": [\"dummy_task\"]}\n",
    "with open(INTERVALS_FILE, 'w') as fp:\n",
    "    json.dump(intervals_file_dict, fp)"
   ]
  },
  {
   "cell_type": "markdown",
   "metadata": {},
   "source": [
    "get data readers"
   ]
  },
  {
   "cell_type": "code",
   "execution_count": 4,
   "metadata": {
    "collapsed": false
   },
   "outputs": [],
   "source": [
    "readers, task_names = get_readers_and_tasks(INPUTS_FILE, INTERVALS_FILE, in_memory=False)"
   ]
  },
  {
   "cell_type": "markdown",
   "metadata": {},
   "source": [
    "initialize a session and start the readers"
   ]
  },
  {
   "cell_type": "code",
   "execution_count": 5,
   "metadata": {
    "collapsed": false
   },
   "outputs": [
    {
     "name": "stdout",
     "output_type": "stream",
     "text": [
      "WARNING:tensorflow:From <ipython-input-5-1fcc9eb02a0f>:2 in <module>.: initialize_all_variables (from tensorflow.python.ops.variables) is deprecated and will be removed after 2017-03-02.\n",
      "Instructions for updating:\n",
      "Use `tf.global_variables_initializer` instead.\n"
     ]
    },
    {
     "name": "stderr",
     "output_type": "stream",
     "text": [
      "WARNING:tensorflow:From <ipython-input-5-1fcc9eb02a0f>:2 in <module>.: initialize_all_variables (from tensorflow.python.ops.variables) is deprecated and will be removed after 2017-03-02.\n",
      "Instructions for updating:\n",
      "Use `tf.global_variables_initializer` instead.\n"
     ]
    }
   ],
   "source": [
    "s = tf.InteractiveSession()\n",
    "s.run(tf.initialize_all_variables())\n",
    "queue_runner_threads = tf.train.start_queue_runners(s)"
   ]
  },
  {
   "cell_type": "markdown",
   "metadata": {},
   "source": [
    "check first interval"
   ]
  },
  {
   "cell_type": "code",
   "execution_count": 6,
   "metadata": {
    "collapsed": false
   },
   "outputs": [
    {
     "data": {
      "text/plain": [
       "{'data/dnase_peaks_counts_data_dir': array([[ -1.52271245e-16],\n",
       "        [  1.00000000e+00],\n",
       "        [  1.00000000e+00],\n",
       "        [  3.00000000e+00],\n",
       "        [  8.00000000e+00]], dtype=float32),\n",
       " 'intervals/chrom': 'chr1',\n",
       " 'intervals/end': 1178002,\n",
       " 'intervals/start': 1177002}"
      ]
     },
     "execution_count": 6,
     "metadata": {},
     "output_type": "execute_result"
    }
   ],
   "source": [
    "s.run(readers['test'].dequeue())"
   ]
  },
  {
   "cell_type": "markdown",
   "metadata": {},
   "source": [
    "matches the [ 0.  1.  1.  3.  8.] above"
   ]
  },
  {
   "cell_type": "code",
   "execution_count": 7,
   "metadata": {
    "collapsed": false
   },
   "outputs": [
    {
     "data": {
      "text/plain": [
       "{'data/dnase_peaks_counts_data_dir': array([[ -1.02907642e-15],\n",
       "        [  3.00000000e+00],\n",
       "        [  4.00000000e+00],\n",
       "        [  8.00000000e+00],\n",
       "        [  8.00000000e+00]], dtype=float32),\n",
       " 'intervals/chrom': 'chrX',\n",
       " 'intervals/end': 178002,\n",
       " 'intervals/start': 177002}"
      ]
     },
     "execution_count": 7,
     "metadata": {},
     "output_type": "execute_result"
    }
   ],
   "source": [
    "s.run(readers['test'].dequeue())"
   ]
  },
  {
   "cell_type": "markdown",
   "metadata": {},
   "source": [
    "matches the [ 0.  3.  4.  8.  8.] above"
   ]
  },
  {
   "cell_type": "code",
   "execution_count": 8,
   "metadata": {
    "collapsed": false
   },
   "outputs": [
    {
     "data": {
      "text/plain": [
       "{'data/dnase_peaks_counts_data_dir': array([[ 1.],\n",
       "        [ 3.],\n",
       "        [ 4.],\n",
       "        [ 8.],\n",
       "        [ 8.]], dtype=float32),\n",
       " 'intervals/chrom': 'chrX',\n",
       " 'intervals/end': 178015,\n",
       " 'intervals/start': 177015}"
      ]
     },
     "execution_count": 8,
     "metadata": {},
     "output_type": "execute_result"
    }
   ],
   "source": [
    "s.run(readers['test'].dequeue())"
   ]
  },
  {
   "cell_type": "markdown",
   "metadata": {},
   "source": [
    "matches the [ 1.  3.  4.  8.  8.] above (this interval and the previous one were intentially selected to be so close to each other). the data seems to check out."
   ]
  }
 ],
 "metadata": {
  "kernelspec": {
   "display_name": "Python 2",
   "language": "python",
   "name": "python2"
  },
  "language_info": {
   "codemirror_mode": {
    "name": "ipython",
    "version": 2
   },
   "file_extension": ".py",
   "mimetype": "text/x-python",
   "name": "python",
   "nbconvert_exporter": "python",
   "pygments_lexer": "ipython2",
   "version": "2.7.12"
  }
 },
 "nbformat": 4,
 "nbformat_minor": 0
}
