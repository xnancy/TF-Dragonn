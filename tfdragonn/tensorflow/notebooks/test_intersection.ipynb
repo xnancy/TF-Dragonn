{
 "cells": [
  {
   "cell_type": "markdown",
   "metadata": {},
   "source": [
    "This notebook tests if bx-python interval intersection results match bedtools \"intersect\" and \"window\" results using the bedtools test bed files. We use bx-python to find which intervals overlap only and that's the only functionality tested here."
   ]
  },
  {
   "cell_type": "code",
   "execution_count": 65,
   "metadata": {
    "collapsed": false
   },
   "outputs": [
    {
     "name": "stdout",
     "output_type": "stream",
     "text": [
      "chr1\t10\t20\ta1\t1\t+\r\n",
      "chr1\t100\t200\ta2\t2\t-\r\n"
     ]
    }
   ],
   "source": [
    "!cat \"a.bed\""
   ]
  },
  {
   "cell_type": "code",
   "execution_count": 66,
   "metadata": {
    "collapsed": false
   },
   "outputs": [
    {
     "name": "stdout",
     "output_type": "stream",
     "text": [
      "chr1\t20\t30\tb1\t1\t+\r\n",
      "chr1\t90\t101\tb2\t2\t-\r\n",
      "chr1\t100\t110\tb3\t3\t+\r\n",
      "chr1\t200\t210\tb4\t4\t+\r\n"
     ]
    }
   ],
   "source": [
    "!cat \"b.bed\""
   ]
  },
  {
   "cell_type": "code",
   "execution_count": 67,
   "metadata": {
    "collapsed": true
   },
   "outputs": [],
   "source": [
    "from bx.intervals.intersection import Interval, IntervalTree\n",
    "import collections\n",
    "import numpy as np\n",
    "\n",
    "def intersect_beds_and_print(bed1, bed2, window=0, wa=True, wb=True):\n",
    "    # construct interval trees for each chromosome\n",
    "    data = np.loadtxt(bed2, dtype=str)\n",
    "    chroms = data[:, 0].astype(str)\n",
    "    starts = data[:, 1].astype(int)\n",
    "    stops = data[:, 2].astype(int)\n",
    "\n",
    "    chr2interval_tree = collections.defaultdict(IntervalTree)\n",
    "    for i in range(len(data)):\n",
    "        chr2interval_tree[chroms[i]].insert_interval(Interval(starts[i], stops[i], chrom=chroms[i]))\n",
    "\n",
    "    # get overlapping intervals\n",
    "    data2 = np.loadtxt(bed1, dtype=str)\n",
    "    chroms2 = data2[:, 0].astype(str)\n",
    "    starts2 = data2[:, 1].astype(int)\n",
    "    stops2 = data2[:, 2].astype(int)\n",
    "\n",
    "    for i in range(len(data2)):\n",
    "        intervals = chr2interval_tree[chroms2[i]].find(starts2[i]-window, stops2[i]+window)\n",
    "        if len(intervals) > 0:\n",
    "            if wa and not wb:\n",
    "                print \"\\t\".join([chroms2[i], str(starts2[i]), str(stops2[i])])\n",
    "            if wa and wb:\n",
    "                for interval in intervals:\n",
    "                    print \"\\t\".join([chroms2[i], str(starts2[i]), str(stops2[i]),\n",
    "                                     interval.chrom, str(interval.start), str(interval.end)])"
   ]
  },
  {
   "cell_type": "markdown",
   "metadata": {},
   "source": [
    "First test: intersect of a.bed and b.bed\n"
   ]
  },
  {
   "cell_type": "code",
   "execution_count": 68,
   "metadata": {
    "collapsed": false
   },
   "outputs": [
    {
     "name": "stdout",
     "output_type": "stream",
     "text": [
      "chr1\t100\t200\ta2\t2\t-\tchr1\t90\t101\tb2\t2\t-\r\n",
      "chr1\t100\t200\ta2\t2\t-\tchr1\t100\t110\tb3\t3\t+\r\n"
     ]
    }
   ],
   "source": [
    "!bedtools intersect -a \"a.bed\" -b \"b.bed\" -wa -wb"
   ]
  },
  {
   "cell_type": "code",
   "execution_count": 69,
   "metadata": {
    "collapsed": false
   },
   "outputs": [
    {
     "name": "stdout",
     "output_type": "stream",
     "text": [
      "chr1\t100\t200\tchr1\t90\t101\n",
      "chr1\t100\t200\tchr1\t100\t110\n"
     ]
    }
   ],
   "source": [
    "intersect_beds_and_print(\"a.bed\", \"b.bed\")"
   ]
  },
  {
   "cell_type": "markdown",
   "metadata": {},
   "source": [
    "the results match."
   ]
  },
  {
   "cell_type": "markdown",
   "metadata": {},
   "source": [
    "Second test: intersect with window of 1"
   ]
  },
  {
   "cell_type": "code",
   "execution_count": 70,
   "metadata": {
    "collapsed": false
   },
   "outputs": [
    {
     "name": "stdout",
     "output_type": "stream",
     "text": [
      "chr1\t10\t20\ta1\t1\t+\tchr1\t20\t30\tb1\t1\t+\r\n",
      "chr1\t100\t200\ta2\t2\t-\tchr1\t90\t101\tb2\t2\t-\r\n",
      "chr1\t100\t200\ta2\t2\t-\tchr1\t100\t110\tb3\t3\t+\r\n",
      "chr1\t100\t200\ta2\t2\t-\tchr1\t200\t210\tb4\t4\t+\r\n"
     ]
    }
   ],
   "source": [
    "!bedtools window -a \"a.bed\" -b \"b.bed\" -w 1"
   ]
  },
  {
   "cell_type": "code",
   "execution_count": 71,
   "metadata": {
    "collapsed": false
   },
   "outputs": [
    {
     "name": "stdout",
     "output_type": "stream",
     "text": [
      "chr1\t10\t20\tchr1\t20\t30\n",
      "chr1\t100\t200\tchr1\t90\t101\n",
      "chr1\t100\t200\tchr1\t100\t110\n",
      "chr1\t100\t200\tchr1\t200\t210\n"
     ]
    }
   ],
   "source": [
    "intersect_beds_and_print(\"a.bed\", \"b.bed\", window=1)"
   ]
  },
  {
   "cell_type": "markdown",
   "metadata": {},
   "source": [
    "the results match."
   ]
  }
 ],
 "metadata": {
  "anaconda-cloud": {},
  "kernelspec": {
   "display_name": "Python [conda env:tfbind]",
   "language": "python",
   "name": "conda-env-tfbind-py"
  },
  "language_info": {
   "codemirror_mode": {
    "name": "ipython",
    "version": 2
   },
   "file_extension": ".py",
   "mimetype": "text/x-python",
   "name": "python",
   "nbconvert_exporter": "python",
   "pygments_lexer": "ipython2",
   "version": "2.7.12"
  }
 },
 "nbformat": 4,
 "nbformat_minor": 2
}
