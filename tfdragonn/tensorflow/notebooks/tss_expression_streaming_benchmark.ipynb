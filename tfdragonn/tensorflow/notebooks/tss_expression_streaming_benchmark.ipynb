{
 "cells": [
  {
   "cell_type": "code",
   "execution_count": 1,
   "metadata": {
    "collapsed": false
   },
   "outputs": [
    {
     "name": "stderr",
     "output_type": "stream",
     "text": [
      "INFO:2017-01-30 21:33:42,469:genomedatalayer.config] No options file found. Using defaults.\n",
      "INFO:2017-01-30 21:33:42,472:genomedatalayer] Using generic Layer\n"
     ]
    }
   ],
   "source": [
    "%reload_ext autoreload\n",
    "%autoreload 2\n",
    "\n",
    "from __future__ import division\n",
    "from tfdragonn.tensorflow.extractors import write_tss_expression_bedgraph\n",
    "from pybedtools import BedTool\n",
    "from genomeflow.io.interval_queue import IntervalQueue\n",
    "from genomeflow.io.example_queue import ExampleQueue\n",
    "from genomeflow.io.data_source import DataSource\n",
    "from genomeflow.io.readers.bedgraph_reader import BedGraphReader\n",
    "import tensorflow as tf"
   ]
  },
  {
   "cell_type": "markdown",
   "metadata": {},
   "source": [
    "we start from raw data - tss gff file, and expression tsvs - and write a tss expression bedgraph (mean expression tpm in 4th column)"
   ]
  },
  {
   "cell_type": "code",
   "execution_count": 2,
   "metadata": {
    "collapsed": true
   },
   "outputs": [],
   "source": [
    "tss_bed = \"/mnt/data/annotations/by_release/hg19.GRCh37/GENCODE_ann/gencodeTSS/v19/gencode.v19.annotation_capped_sites_nr_with_confidence.gff.gz\"\n",
    "test_bed = \"/mnt/lab_data/kundaje/jisraeli/projects/TF_Challenge/tfdragonn_0.1.1_data/regions_and_labels/all_TFs/all_TFs_on_relaxed_DNASE_peaks_bin200_flank400_stride50.A549.intervals.bed\"\n",
    "datafile = \"/mnt/lab_data/kundaje/jisraeli/projects/TF_Challenge/data/RNAseq/gene_expression.A549.biorep1.tsv\"\n",
    "replicate_datafile = \"/mnt/lab_data/kundaje/jisraeli/projects/TF_Challenge/data/RNAseq/gene_expression.A549.biorep2.tsv\""
   ]
  },
  {
   "cell_type": "code",
   "execution_count": 3,
   "metadata": {
    "collapsed": false
   },
   "outputs": [
    {
     "name": "stderr",
     "output_type": "stream",
     "text": [
      "Warning: directory tss_tpms.bedGraph exists.\n"
     ]
    }
   ],
   "source": [
    "write_tss_expression_bedgraph(tss_bed,\n",
    "                              datafile,\n",
    "                              \"tss_tpms.bedGraph\",\n",
    "                              expression_tsv2=replicate_datafile,\n",
    "                              overwrite=True)"
   ]
  },
  {
   "cell_type": "markdown",
   "metadata": {},
   "source": [
    "define a genomeflow data source"
   ]
  },
  {
   "cell_type": "code",
   "execution_count": 4,
   "metadata": {
    "collapsed": true
   },
   "outputs": [],
   "source": [
    "data_source = DataSource(\"tss_tpms.bedGraph\", reader='bedgraph', options={'window_half_widths': [1e3, 5e3, 1e4, 5e4, 1e5]})\n",
    "data_sources = {\"tss_tpms\": data_source}"
   ]
  },
  {
   "cell_type": "markdown",
   "metadata": {},
   "source": [
    "create an interval queue using our test bed (DNase-based bins in A549)"
   ]
  },
  {
   "cell_type": "code",
   "execution_count": 5,
   "metadata": {
    "collapsed": true
   },
   "outputs": [],
   "source": [
    "bt = BedTool(test_bed)\n",
    "intervals_dict = {k: bt.to_dataframe()[k].as_matrix() for k in [\n",
    "                    'chrom', 'start', 'end']}\n",
    "interval_q = IntervalQueue(intervals_dict)"
   ]
  },
  {
   "cell_type": "markdown",
   "metadata": {},
   "source": [
    "create an example queue using the interval queue and our data source"
   ]
  },
  {
   "cell_type": "code",
   "execution_count": 6,
   "metadata": {
    "collapsed": false
   },
   "outputs": [],
   "source": [
    "ex_queue = ExampleQueue(interval_q, data_sources)"
   ]
  },
  {
   "cell_type": "markdown",
   "metadata": {},
   "source": [
    "start a tensorflow session"
   ]
  },
  {
   "cell_type": "code",
   "execution_count": 7,
   "metadata": {
    "collapsed": false
   },
   "outputs": [
    {
     "name": "stdout",
     "output_type": "stream",
     "text": [
      "WARNING:tensorflow:From <ipython-input-7-1fcc9eb02a0f>:2 in <module>.: initialize_all_variables (from tensorflow.python.ops.variables) is deprecated and will be removed after 2017-03-02.\n",
      "Instructions for updating:\n",
      "Use `tf.global_variables_initializer` instead.\n"
     ]
    }
   ],
   "source": [
    "s = tf.InteractiveSession()\n",
    "s.run(tf.initialize_all_variables())\n",
    "queue_runner_threads = tf.train.start_queue_runners(s)"
   ]
  },
  {
   "cell_type": "markdown",
   "metadata": {},
   "source": [
    "stream mean tss expression within [1e3, 5e3, 1e4, 5e4, 1e5] bp for 100,000 intervals and time it"
   ]
  },
  {
   "cell_type": "code",
   "execution_count": 9,
   "metadata": {
    "collapsed": false
   },
   "outputs": [
    {
     "name": "stdout",
     "output_type": "stream",
     "text": [
      "1 loop, best of 3: 3.29 s per loop\n"
     ]
    }
   ],
   "source": [
    "%timeit rv = s.run(ex_queue.dequeue_many(100000))"
   ]
  },
  {
   "cell_type": "markdown",
   "metadata": {},
   "source": [
    "That's the runtime for ~1000 batches worth of data."
   ]
  },
  {
   "cell_type": "code",
   "execution_count": 10,
   "metadata": {
    "collapsed": false
   },
   "outputs": [
    {
     "data": {
      "text/plain": [
       "(100000, 5)"
      ]
     },
     "execution_count": 10,
     "metadata": {},
     "output_type": "execute_result"
    }
   ],
   "source": [
    "rv['data/tss_tpms'].shape"
   ]
  },
  {
   "cell_type": "code",
   "execution_count": 11,
   "metadata": {
    "collapsed": false
   },
   "outputs": [
    {
     "data": {
      "text/plain": [
       "array([[ 0.19376981,  0.2582714 ,  0.2582714 ,  0.2454464 ,  0.27618313],\n",
       "       [ 0.19376981,  0.2582714 ,  0.2582714 ,  0.2454464 ,  0.27618313],\n",
       "       [ 0.19376981,  0.2582714 ,  0.2582714 ,  0.2454464 ,  0.27618313],\n",
       "       [ 0.26391789,  0.2582714 ,  0.2582714 ,  0.2454464 ,  0.27618313],\n",
       "       [ 0.22445352,  0.2626546 ,  0.2582714 ,  0.2454464 ,  0.27618313],\n",
       "       [ 0.37277722,  0.37277722,  0.37153444,  0.33829579,  0.3358877 ],\n",
       "       [ 0.37277722,  0.37277722,  0.37153444,  0.34079304,  0.3358877 ],\n",
       "       [ 0.37277722,  0.37277722,  0.37153444,  0.34079304,  0.3358877 ],\n",
       "       [ 0.37277722,  0.37277722,  0.37153444,  0.34079304,  0.3358877 ],\n",
       "       [ 0.37277722,  0.37277722,  0.37153444,  0.34079304,  0.3358877 ],\n",
       "       [ 0.37277722,  0.37277722,  0.37153444,  0.34079304,  0.3358877 ],\n",
       "       [ 0.37277722,  0.37200049,  0.37153444,  0.34079304,  0.3358877 ],\n",
       "       [ 0.36381236,  0.36987385,  0.34813738,  0.34502089,  0.32836786],\n",
       "       [ 0.36381236,  0.36987385,  0.34813738,  0.34502089,  0.32836786],\n",
       "       [ 0.31304747,  0.27088606,  0.29196677,  0.32859057,  0.32844889],\n",
       "       [ 0.31304747,  0.27088606,  0.29196677,  0.32859057,  0.32844889],\n",
       "       [ 0.31304747,  0.27088606,  0.29196677,  0.32859057,  0.32844889],\n",
       "       [ 0.31304747,  0.27088606,  0.29196677,  0.32859057,  0.32844889],\n",
       "       [ 0.31304747,  0.27088606,  0.29196677,  0.32859057,  0.32844889],\n",
       "       [-1.        , -1.        ,  0.22758897,  0.30395082,  0.31388959],\n",
       "       [ 0.2451617 ,  0.2451617 ,  0.26199746,  0.30320024,  0.32079956],\n",
       "       [ 0.2451617 ,  0.2451617 ,  0.26199746,  0.30320024,  0.32079956],\n",
       "       [ 0.2451617 ,  0.2451617 ,  0.26199746,  0.30320024,  0.32079956],\n",
       "       [-1.        ,  0.26650223,  0.26199746,  0.30320024,  0.31822744],\n",
       "       [-1.        ,  0.26650223,  0.26199746,  0.30320024,  0.31822744],\n",
       "       [-1.        ,  0.26650223,  0.26199746,  0.30320024,  0.31822744],\n",
       "       [-1.        ,  0.26650223,  0.26199746,  0.30320024,  0.31822744],\n",
       "       [-1.        ,  0.26650223,  0.26199746,  0.30320024,  0.31822744],\n",
       "       [-1.        ,  0.26650223,  0.26199746,  0.30320024,  0.31822744],\n",
       "       [-1.        ,  0.26650223,  0.26199746,  0.30320024,  0.31822744]], dtype=float32)"
      ]
     },
     "execution_count": 11,
     "metadata": {},
     "output_type": "execute_result"
    }
   ],
   "source": [
    "rv['data/tss_tpms'][:30]"
   ]
  }
 ],
 "metadata": {
  "anaconda-cloud": {},
  "kernelspec": {
   "display_name": "Python [conda env:tfbind]",
   "language": "python",
   "name": "conda-env-tfbind-py"
  },
  "language_info": {
   "codemirror_mode": {
    "name": "ipython",
    "version": 2
   },
   "file_extension": ".py",
   "mimetype": "text/x-python",
   "name": "python",
   "nbconvert_exporter": "python",
   "pygments_lexer": "ipython2",
   "version": "2.7.12"
  }
 },
 "nbformat": 4,
 "nbformat_minor": 2
}
