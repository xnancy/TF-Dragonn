{
 "cells": [
  {
   "cell_type": "code",
   "execution_count": 1,
   "metadata": {
    "collapsed": false
   },
   "outputs": [],
   "source": [
    "import os\n",
    "import bcolz\n",
    "import json\n",
    "\n",
    "import tensorflow as tf\n",
    "import numpy as np\n",
    "import pandas as ps\n",
    "\n",
    "%reload_ext autoreload\n",
    "%autoreload 2\n",
    "\n",
    "%aimport dataset_interval_reader\n",
    "\n",
    "from shared_examples_queue import SharedExamplesQueue\n",
    "from bcolz_reader_op import bcolz_interval_reader\n",
    "from datasets import parse_inputs_and_intervals\n",
    "from interval_queue import interval_queue"
   ]
  },
  {
   "cell_type": "markdown",
   "metadata": {},
   "source": [
    "### Write some dummy test data"
   ]
  },
  {
   "cell_type": "code",
   "execution_count": 2,
   "metadata": {
    "collapsed": false
   },
   "outputs": [],
   "source": [
    "NUM_SEQ_CHARS = 4\n",
    "SEQ_LEN_CHR = int(1e5)\n",
    "NUM_CHRS = 5\n",
    "NUM_DATASETS = 3\n",
    "\n",
    "NUM_INTERVALS = 500\n",
    "INTERVAL_LENGTH = 1000\n",
    "NUM_TASKS = 6\n",
    "\n",
    "DATA_DIR = 'test-data'\n",
    "FA_DIRS = [os.path.join(DATA_DIR, 'seq-{}'.format(i)) for i in range(NUM_DATASETS)]\n",
    "BW_DIRS = [os.path.join(DATA_DIR, 'bgw-{}'.format(i)) for i in range(NUM_DATASETS)]\n",
    "\n",
    "INTERVALS_FILE = os.path.join(DATA_DIR, 'intervals_file.json')\n",
    "INPUTS_FILE = os.path.join(DATA_DIR, 'inputs_file.json')\n",
    "\n",
    "TASK_NAMES = ['task-name-{}'.format(i) for i in range(NUM_TASKS)]\n",
    "DATASET_NAMES = ['dataset-name-{}'.format(i) for i in range(NUM_DATASETS)]\n",
    "\n",
    "BLOSC_CPARAMS = bcolz.cparams(clevel=5, shuffle=bcolz.SHUFFLE, cname='lz4')\n",
    "\n",
    "if not os.path.isdir(DATA_DIR):\n",
    "    os.mkdir(DATA_DIR)\n",
    "\n",
    "for FA_DIR in FA_DIRS:\n",
    "    if not os.path.isdir(FA_DIR):\n",
    "        os.mkdir(FA_DIR)\n",
    "\n",
    "for BW_DIR in BW_DIRS:\n",
    "    if not os.path.isdir(BW_DIR):\n",
    "        os.mkdir(BW_DIR)\n",
    "\n",
    "def random_fasta_seq():\n",
    "    seq_idxs = np.random.randint(0, NUM_SEQ_CHARS, SEQ_LEN_CHR)\n",
    "    seq_arr = np.zeros((NUM_SEQ_CHARS, SEQ_LEN_CHR))\n",
    "    seq_arr[seq_idxs, np.arange(SEQ_LEN_CHR, dtype=int)] = 1\n",
    "    return seq_arr\n",
    "\n",
    "def random_bw_data():\n",
    "    # Just use low-frequency wave function for now\n",
    "    bw_data = np.sin(np.arange(SEQ_LEN_CHR) / 1e-3)\n",
    "    return bw_data\n",
    "\n",
    "def random_labels():\n",
    "    # Just random labels for now, as ints\n",
    "    labels = np.random.randint(-1, 2, size=(NUM_INTERVALS, NUM_TASKS))\n",
    "    return labels\n",
    "\n",
    "def random_intervals():\n",
    "    interval_starts = np.random.randint(0, SEQ_LEN_CHR - INTERVAL_LENGTH, size=NUM_INTERVALS)\n",
    "    interval_ends = interval_starts + INTERVAL_LENGTH\n",
    "    interval_chrs = np.random.randint(0, NUM_CHRS, size=NUM_INTERVALS)\n",
    "    interval_chrs = np.array(list(map(lambda x: 'chr{}'.format(x), interval_chrs)))\n",
    "    intervals = ps.DataFrame([interval_chrs, interval_starts, interval_ends]).T\n",
    "    return intervals\n",
    "    \n",
    "\n",
    "seq_arrs = {'chr{}'.format(i): random_fasta_seq() for i in range(NUM_CHRS)}\n",
    "bw_arrs = {'chr{}'.format(i): random_bw_data() for i in range(NUM_CHRS)}\n",
    "\n",
    "def dump_to_disk(chr_key, arr, base_dir):\n",
    "    target_fname = os.path.join(base_dir, chr_key)\n",
    "    c_arr = bcolz.carray(arr, cparams=BLOSC_CPARAMS, rootdir=target_fname, mode='w')\n",
    "    c_arr.flush()\n",
    "\n",
    "def write_metadata(base_dir):\n",
    "    # Check the first file to get the shape\n",
    "    arr_shape = bcolz.carray(rootdir=os.path.join(base_dir, 'chr0'), mode='r').shape\n",
    "    chr_shapes = {'chr{}'.format(i): arr_shape for i in range(NUM_CHRS)}\n",
    "    metadata = {'type': 'array_bcolz', 'file_shapes': chr_shapes}\n",
    "    with open(os.path.join(base_dir, 'metadata.json'), 'w') as fp:\n",
    "        json.dump(metadata, fp)\n",
    "\n",
    "for FA_DIR in FA_DIRS:\n",
    "    for chr_key, arr in seq_arrs.items():\n",
    "        dump_to_disk(chr_key, arr, FA_DIR)\n",
    "    write_metadata(FA_DIR)\n",
    "\n",
    "for BW_DIR in BW_DIRS:\n",
    "    for chr_key, arr in bw_arrs.items():\n",
    "        dump_to_disk(chr_key, arr, BW_DIR)\n",
    "    write_metadata(BW_DIR)\n",
    "    \n",
    "intervals_file_dict = {'task_names': TASK_NAMES}\n",
    "inputs_file_dict = {}\n",
    "\n",
    "for dataset_idx, dataset_name in enumerate(DATASET_NAMES):\n",
    "    labels_file = os.path.join(DATA_DIR, 'labels{}.npy'.format(dataset_idx))\n",
    "    intervals_file = os.path.join(DATA_DIR, 'intervals{}.bed'.format(dataset_idx))\n",
    "    \n",
    "    labels = random_labels()\n",
    "    np.save(labels_file, labels)\n",
    "    \n",
    "    intervals = random_intervals()\n",
    "    intervals.to_csv(intervals_file, sep='\\t', header=False, index=False)\n",
    "    \n",
    "    intervals_file_dict[dataset_name] = {'regions': intervals_file, 'labels': labels_file}\n",
    "    inputs_file_dict[dataset_name] = {'dnase_data_dir': BW_DIRS[dataset_idx], 'genome_data_dir': FA_DIRS[dataset_idx]}\n",
    "\n",
    "with open(INTERVALS_FILE, 'w') as fp:\n",
    "    json.dump(intervals_file_dict, fp)\n",
    "\n",
    "with open(INPUTS_FILE, 'w') as fp:\n",
    "    json.dump(inputs_file_dict, fp)\n"
   ]
  },
  {
   "cell_type": "markdown",
   "metadata": {},
   "source": [
    "### Set up the readers"
   ]
  },
  {
   "cell_type": "markdown",
   "metadata": {},
   "source": [
    "The data we want to read is in `test-data/`.\n",
    "\n",
    "We just need to use `dataset_interval_reader.get_readers` to create readers for all the datasets"
   ]
  },
  {
   "cell_type": "code",
   "execution_count": 3,
   "metadata": {
    "collapsed": false,
    "scrolled": true
   },
   "outputs": [],
   "source": [
    "INPUTS_FILE = \"/users/jisraeli/src/tf-dragonn_tensorflow/tfdragonn/tensorflow/examples/processed_inputs_example.json\"\n",
    "INTERVALS_FILE = \"/users/jisraeli/src/tf-dragonn_tensorflow/tfdragonn/tensorflow/examples/myc_conservative_dnase_regions_and_labels_stride200_flank400.json\"\n",
    "\n",
    "readers, task_names = dataset_interval_reader.get_readers_and_tasks(INPUTS_FILE, INTERVALS_FILE)"
   ]
  },
  {
   "cell_type": "code",
   "execution_count": 4,
   "metadata": {
    "collapsed": false
   },
   "outputs": [],
   "source": [
    "dataset = parse_inputs_and_intervals(INPUTS_FILE, INTERVALS_FILE)\n",
    "\n",
    "intervals = dataset['A549']['intervals']\n",
    "dnase_data_dir = dataset['A549']['inputs']['dnase_data_dir']\n",
    "genome_data_dir = dataset['A549']['inputs']['genome_data_dir']"
   ]
  },
  {
   "cell_type": "code",
   "execution_count": 5,
   "metadata": {
    "collapsed": false
   },
   "outputs": [],
   "source": [
    "interval_q = interval_queue(intervals)\n",
    "\n",
    "dnase_interval_reader = bcolz_interval_reader(interval_q, dnase_data_dir)\n",
    "genome_interval_reader = bcolz_interval_reader(interval_q, genome_data_dir)"
   ]
  },
  {
   "cell_type": "code",
   "execution_count": 6,
   "metadata": {
    "collapsed": false
   },
   "outputs": [],
   "source": [
    "s = tf.InteractiveSession()\n",
    "\n",
    "s.run(tf.initialize_all_variables())\n",
    "\n",
    "# Note that you *must* start queue runners before fetching any of the dequeues.\n",
    "queue_runner_threads = tf.train.start_queue_runners(s)"
   ]
  },
  {
   "cell_type": "code",
   "execution_count": 7,
   "metadata": {
    "collapsed": false
   },
   "outputs": [
    {
     "data": {
      "text/plain": [
       "{u'A549': <tensorflow.python.ops.data_flow_ops.FIFOQueue at 0x7fb76a41b350>}"
      ]
     },
     "execution_count": 7,
     "metadata": {},
     "output_type": "execute_result"
    }
   ],
   "source": [
    "# Note that readers is a dictionary of `examples_queue`s\n",
    "readers"
   ]
  },
  {
   "cell_type": "code",
   "execution_count": 8,
   "metadata": {
    "collapsed": false
   },
   "outputs": [
    {
     "data": {
      "text/plain": [
       "{'data/dnase_data_dir': array([ -7.35034168e-01,  -7.35034168e-01,  -7.35034168e-01,\n",
       "         -7.35034168e-01,  -7.35034168e-01,  -7.35034168e-01,\n",
       "         -7.35034168e-01,  -7.35034168e-01,  -7.35034168e-01,\n",
       "         -7.35034168e-01,  -7.35034168e-01,  -7.35034168e-01,\n",
       "         -7.35034168e-01,  -7.35034168e-01,  -7.35034168e-01,\n",
       "         -7.35034168e-01,  -7.35034168e-01,  -7.35034168e-01,\n",
       "         -7.35034168e-01,  -7.35034168e-01,  -7.35034168e-01,\n",
       "         -7.35034168e-01,  -7.35034168e-01,  -7.35034168e-01,\n",
       "         -7.35034168e-01,  -7.35034168e-01,  -7.35034168e-01,\n",
       "         -7.35034168e-01,  -7.35034168e-01,  -7.35034168e-01,\n",
       "         -7.35034168e-01,  -7.35034168e-01,  -7.35034168e-01,\n",
       "         -7.35034168e-01,  -7.35034168e-01,  -7.35034168e-01,\n",
       "         -7.35034168e-01,  -7.35034168e-01,  -7.35034168e-01,\n",
       "         -7.35034168e-01,  -7.35034168e-01,  -7.35034168e-01,\n",
       "         -7.35034168e-01,  -7.35034168e-01,  -7.35034168e-01,\n",
       "         -7.35034168e-01,  -7.35034168e-01,  -7.35034168e-01,\n",
       "         -7.35034168e-01,  -7.35034168e-01,  -7.35034168e-01,\n",
       "         -7.35034168e-01,  -7.35034168e-01,  -7.35034168e-01,\n",
       "         -7.35034168e-01,  -7.35034168e-01,  -7.35034168e-01,\n",
       "         -7.35034168e-01,  -7.35034168e-01,  -7.35034168e-01,\n",
       "         -7.35034168e-01,  -7.35034168e-01,  -7.35034168e-01,\n",
       "         -7.35034168e-01,  -7.35034168e-01,  -7.35034168e-01,\n",
       "         -7.35034168e-01,  -7.35034168e-01,  -7.35034168e-01,\n",
       "         -7.35034168e-01,  -7.35034168e-01,  -7.35034168e-01,\n",
       "         -7.35034168e-01,  -7.35034168e-01,  -7.35034168e-01,\n",
       "         -7.35034168e-01,  -7.35034168e-01,  -7.35034168e-01,\n",
       "         -7.35034168e-01,  -7.35034168e-01,  -7.35034168e-01,\n",
       "         -7.35034168e-01,  -7.35034168e-01,  -7.35034168e-01,\n",
       "         -7.35034168e-01,  -7.35034168e-01,  -7.35034168e-01,\n",
       "         -7.35034168e-01,  -7.35034168e-01,  -7.35034168e-01,\n",
       "         -7.35034168e-01,  -7.35034168e-01,  -7.35034168e-01,\n",
       "         -7.35034168e-01,  -7.35034168e-01,  -7.35034168e-01,\n",
       "         -7.35034168e-01,  -7.35034168e-01,  -7.35034168e-01,\n",
       "         -7.35034168e-01,  -7.35034168e-01,  -7.35034168e-01,\n",
       "         -7.35034168e-01,  -7.35034168e-01,  -7.35034168e-01,\n",
       "         -7.35034168e-01,  -7.35034168e-01,  -7.35034168e-01,\n",
       "         -7.35034168e-01,  -7.35034168e-01,  -7.35034168e-01,\n",
       "         -7.35034168e-01,  -7.35034168e-01,  -7.35034168e-01,\n",
       "         -7.35034168e-01,  -7.35034168e-01,  -7.35034168e-01,\n",
       "         -7.35034168e-01,  -7.35034168e-01,  -7.35034168e-01,\n",
       "         -7.35034168e-01,  -7.35034168e-01,  -7.35034168e-01,\n",
       "         -7.35034168e-01,  -7.35034168e-01,  -7.35034168e-01,\n",
       "         -7.35034168e-01,  -7.35034168e-01,  -7.35034168e-01,\n",
       "         -7.35034168e-01,  -7.35034168e-01,  -7.35034168e-01,\n",
       "         -7.35034168e-01,  -7.35034168e-01,  -7.35034168e-01,\n",
       "         -7.35034168e-01,  -7.35034168e-01,  -7.35034168e-01,\n",
       "         -7.35034168e-01,  -7.35034168e-01,  -7.35034168e-01,\n",
       "         -7.35034168e-01,  -7.35034168e-01,  -7.35034168e-01,\n",
       "         -7.35034168e-01,  -7.35034168e-01,  -7.35034168e-01,\n",
       "         -7.35034168e-01,  -7.35034168e-01,  -7.35034168e-01,\n",
       "         -7.35034168e-01,  -7.35034168e-01,  -7.35034168e-01,\n",
       "         -7.35034168e-01,  -7.35034168e-01,  -7.35034168e-01,\n",
       "         -7.35034168e-01,  -7.35034168e-01,  -7.35034168e-01,\n",
       "         -7.35034168e-01,  -7.35034168e-01,  -7.35034168e-01,\n",
       "         -7.35034168e-01,  -7.35034168e-01,  -7.35034168e-01,\n",
       "         -7.35034168e-01,  -7.35034168e-01,  -7.35034168e-01,\n",
       "         -7.35034168e-01,  -7.35034168e-01,  -7.35034168e-01,\n",
       "         -7.35034168e-01,  -7.35034168e-01,  -7.35034168e-01,\n",
       "         -7.35034168e-01,  -7.35034168e-01,  -7.35034168e-01,\n",
       "         -7.35034168e-01,  -7.35034168e-01,  -7.35034168e-01,\n",
       "         -7.35034168e-01,  -7.35034168e-01,  -7.35034168e-01,\n",
       "         -7.35034168e-01,  -7.35034168e-01,  -7.35034168e-01,\n",
       "         -7.35034168e-01,  -7.35034168e-01,  -7.35034168e-01,\n",
       "         -7.35034168e-01,  -7.35034168e-01,  -7.35034168e-01,\n",
       "         -7.35034168e-01,  -7.35034168e-01,  -7.35034168e-01,\n",
       "         -7.35034168e-01,  -7.35034168e-01,  -7.35034168e-01,\n",
       "         -7.35034168e-01,  -7.35034168e-01,  -7.35034168e-01,\n",
       "         -7.35034168e-01,  -7.35034168e-01,  -7.35034168e-01,\n",
       "         -7.35034168e-01,  -7.35034168e-01,  -7.35034168e-01,\n",
       "         -7.35034168e-01,  -7.35034168e-01,  -7.35034168e-01,\n",
       "         -7.35034168e-01,  -7.35034168e-01,  -7.35034168e-01,\n",
       "         -7.35034168e-01,  -7.35034168e-01,  -7.35034168e-01,\n",
       "         -7.35034168e-01,  -7.35034168e-01,  -7.35034168e-01,\n",
       "         -7.35034168e-01,  -7.35034168e-01,  -7.35034168e-01,\n",
       "         -7.35034168e-01,  -7.35034168e-01,  -7.35034168e-01,\n",
       "         -7.35034168e-01,  -7.35034168e-01,  -7.35034168e-01,\n",
       "         -7.35034168e-01,  -7.35034168e-01,  -7.35034168e-01,\n",
       "         -7.35034168e-01,  -7.35034168e-01,  -7.35034168e-01,\n",
       "         -7.35034168e-01,  -7.35034168e-01,  -7.35034168e-01,\n",
       "         -7.35034168e-01,  -7.35034168e-01,  -7.35034168e-01,\n",
       "         -7.35034168e-01,  -7.35034168e-01,  -7.35034168e-01,\n",
       "         -7.35034168e-01,  -7.35034168e-01,  -7.35034168e-01,\n",
       "         -7.35034168e-01,  -7.35034168e-01,  -7.35034168e-01,\n",
       "         -7.35034168e-01,  -7.35034168e-01,  -7.35034168e-01,\n",
       "         -7.35034168e-01,  -7.35034168e-01,  -7.35034168e-01,\n",
       "         -7.35034168e-01,  -7.35034168e-01,  -7.35034168e-01,\n",
       "         -7.35034168e-01,  -7.35034168e-01,  -7.35034168e-01,\n",
       "         -7.35034168e-01,  -7.35034168e-01,  -7.35034168e-01,\n",
       "         -7.35034168e-01,  -7.35034168e-01,  -7.35034168e-01,\n",
       "         -7.35034168e-01,  -7.35034168e-01,  -7.35034168e-01,\n",
       "         -7.35034168e-01,  -7.35034168e-01,  -7.35034168e-01,\n",
       "         -7.35034168e-01,  -7.35034168e-01,  -7.35034168e-01,\n",
       "         -7.35034168e-01,  -7.35034168e-01,  -7.35034168e-01,\n",
       "         -7.35034168e-01,  -7.35034168e-01,  -7.35034168e-01,\n",
       "         -7.35034168e-01,  -7.35034168e-01,  -7.35034168e-01,\n",
       "         -7.35034168e-01,  -7.35034168e-01,  -7.35034168e-01,\n",
       "         -7.35034168e-01,  -7.35034168e-01,  -7.35034168e-01,\n",
       "         -7.35034168e-01,  -7.35034168e-01,  -7.35034168e-01,\n",
       "         -7.35034168e-01,  -7.35034168e-01,  -7.35034168e-01,\n",
       "         -7.35034168e-01,  -7.35034168e-01,  -7.35034168e-01,\n",
       "         -7.35034168e-01,  -7.35034168e-01,  -7.35034168e-01,\n",
       "         -7.35034168e-01,  -7.35034168e-01,  -7.35034168e-01,\n",
       "         -7.35034168e-01,  -7.35034168e-01,  -7.35034168e-01,\n",
       "         -7.35034168e-01,  -7.35034168e-01,  -7.35034168e-01,\n",
       "         -7.35034168e-01,  -7.35034168e-01,  -7.35034168e-01,\n",
       "         -7.35034168e-01,  -7.35034168e-01,  -7.35034168e-01,\n",
       "         -7.35034168e-01,  -7.35034168e-01,  -7.35034168e-01,\n",
       "         -7.35034168e-01,  -7.35034168e-01,  -7.35034168e-01,\n",
       "         -7.35034168e-01,  -7.35034168e-01,  -7.35034168e-01,\n",
       "         -7.35034168e-01,  -7.35034168e-01,  -7.35034168e-01,\n",
       "         -7.35034168e-01,  -7.35034168e-01,  -7.35034168e-01,\n",
       "         -7.35034168e-01,  -7.35034168e-01,  -7.35034168e-01,\n",
       "         -7.35034168e-01,  -7.35034168e-01,  -7.35034168e-01,\n",
       "         -7.35034168e-01,  -7.35034168e-01,  -7.35034168e-01,\n",
       "         -7.35034168e-01,  -7.35034168e-01,  -7.35034168e-01,\n",
       "         -7.35034168e-01,  -7.35034168e-01,  -7.35034168e-01,\n",
       "         -7.35034168e-01,  -7.35034168e-01,  -7.35034168e-01,\n",
       "         -7.35034168e-01,  -7.35034168e-01,  -7.35034168e-01,\n",
       "         -7.35034168e-01,  -7.35034168e-01,  -7.35034168e-01,\n",
       "         -7.35034168e-01,  -7.35034168e-01,  -7.35034168e-01,\n",
       "         -7.35034168e-01,  -7.35034168e-01,  -7.35034168e-01,\n",
       "         -7.35034168e-01,  -7.35034168e-01,  -7.35034168e-01,\n",
       "         -7.35034168e-01,  -7.35034168e-01,  -7.35034168e-01,\n",
       "         -7.35034168e-01,  -7.12028086e-01,  -7.12028086e-01,\n",
       "         -6.89022779e-01,  -6.89022779e-01,  -6.89022779e-01,\n",
       "         -6.89022779e-01,  -6.89022779e-01,  -6.89022779e-01,\n",
       "         -6.89022779e-01,  -6.89022779e-01,  -6.89022779e-01,\n",
       "         -6.89022779e-01,  -6.89022779e-01,  -6.43011451e-01,\n",
       "         -6.43011451e-01,  -6.43011451e-01,  -6.43011451e-01,\n",
       "         -6.43011451e-01,  -6.43011451e-01,  -6.43011451e-01,\n",
       "         -6.43011451e-01,  -6.43011451e-01,  -6.43011451e-01,\n",
       "         -6.43011451e-01,  -6.43011451e-01,  -6.20005369e-01,\n",
       "         -6.20005369e-01,  -6.20005369e-01,  -6.20005369e-01,\n",
       "         -6.20005369e-01,  -5.97000062e-01,  -5.97000062e-01,\n",
       "         -5.97000062e-01,  -5.97000062e-01,  -5.97000062e-01,\n",
       "         -5.97000062e-01,  -5.97000062e-01,  -5.73993981e-01,\n",
       "         -5.73993981e-01,  -5.73993981e-01,  -5.73993981e-01,\n",
       "         -5.73993981e-01,  -5.73993981e-01,  -5.73993981e-01,\n",
       "         -5.73993981e-01,  -5.50987899e-01,  -5.50987899e-01,\n",
       "         -5.04976571e-01,  -5.04976571e-01,  -5.04976571e-01,\n",
       "         -5.04976571e-01,  -5.04976571e-01,  -4.58965182e-01,\n",
       "         -4.58965182e-01,  -4.58965182e-01,  -4.35959905e-01,\n",
       "         -4.35959905e-01,  -4.35959905e-01,  -3.89947742e-01,\n",
       "         -3.89947742e-01,  -3.66942495e-01,  -2.97925025e-01,\n",
       "         -2.28907585e-01,  -2.28907585e-01,  -2.05902323e-01,\n",
       "         -2.05902323e-01,  -2.05902323e-01,  -2.05902323e-01,\n",
       "         -1.59890920e-01,  -1.13878787e-01,  -9.08735171e-02,\n",
       "         -2.18560342e-02,   1.14919699e-03,   2.41553243e-02,\n",
       "          2.41553243e-02,   2.41553243e-02,   1.16178036e-01,\n",
       "          1.39184088e-01,   2.08201498e-01,   2.08201498e-01,\n",
       "          2.31206805e-01,   3.23230326e-01,   3.23230326e-01,\n",
       "          3.46235633e-01,   3.46235633e-01,   3.46235633e-01,\n",
       "          3.46235633e-01,   3.46235633e-01,   3.69241685e-01,\n",
       "          4.38258350e-01,   4.38258350e-01,   5.07275760e-01,\n",
       "          5.76293170e-01,   5.99298477e-01,   5.99298477e-01,\n",
       "          5.99298477e-01,   5.99298477e-01,   5.99298477e-01,\n",
       "          5.99298477e-01,   5.99298477e-01,   5.99298477e-01,\n",
       "          5.99298477e-01,   5.99298477e-01,   6.22304559e-01,\n",
       "          6.22304559e-01,   6.22304559e-01,   6.22304559e-01,\n",
       "          6.22304559e-01,   6.22304559e-01,   6.68315887e-01,\n",
       "          6.68315887e-01,   6.68315887e-01,   6.91322088e-01,\n",
       "          6.91322088e-01,   7.14327276e-01,   7.14327276e-01,\n",
       "          7.83344805e-01,   7.83344805e-01,   7.83344805e-01,\n",
       "          8.52362216e-01,   8.52362216e-01,   8.52362216e-01,\n",
       "          8.52362216e-01,   8.52362216e-01,   8.52362216e-01,\n",
       "          8.75367522e-01,   8.75367522e-01,   8.75367522e-01,\n",
       "          9.90396261e-01,   9.90396261e-01,   1.01340234e+00,\n",
       "          1.01340234e+00,   1.01340234e+00,   1.03640759e+00,\n",
       "          1.03640759e+00,   1.03640759e+00,   1.03640759e+00,\n",
       "          1.03640759e+00,   1.03640759e+00,   1.03640759e+00,\n",
       "          1.03640759e+00,   1.03640759e+00,   1.03640759e+00,\n",
       "          1.03640759e+00,   1.03640759e+00,   1.05941367e+00,\n",
       "          1.08241975e+00,   1.08241975e+00,   1.10542500e+00,\n",
       "          1.12843108e+00,   1.10542500e+00,   1.15143645e+00,\n",
       "          1.12843108e+00,   1.12843108e+00,   1.12843108e+00,\n",
       "          1.12843108e+00,   1.12843108e+00,   1.15143645e+00,\n",
       "          1.19744778e+00,   1.22045386e+00,   1.24346006e+00,\n",
       "          1.24346006e+00,   1.24346006e+00,   1.19744778e+00,\n",
       "          1.24346006e+00,   1.24346006e+00,   1.31247663e+00,\n",
       "          1.31247663e+00,   1.31247663e+00,   1.31247663e+00,\n",
       "          1.31247663e+00,   1.35848808e+00,   1.35848808e+00,\n",
       "          1.35848808e+00,   1.35848808e+00,   1.38149416e+00,\n",
       "          1.42750537e+00,   1.42750537e+00,   1.42750537e+00,\n",
       "          1.42750537e+00,   1.47351694e+00,   1.49652290e+00,\n",
       "          1.49652290e+00,   1.49652290e+00,   1.56554019e+00,\n",
       "          1.58854568e+00,   1.68056834e+00,   1.72658050e+00,\n",
       "          1.74958563e+00,   1.84160924e+00,   1.88762045e+00,\n",
       "          1.93363190e+00,   1.93363190e+00,   1.97964311e+00,\n",
       "          2.00264931e+00,   2.00264931e+00,   2.07166576e+00,\n",
       "          2.09467196e+00,   2.09467196e+00,   2.09467196e+00,\n",
       "          2.14068341e+00,   2.18669486e+00,   2.14068341e+00,\n",
       "          2.14068341e+00,   2.18669486e+00,   2.25571227e+00,\n",
       "          2.25571227e+00,   2.27871776e+00,   2.23270607e+00,\n",
       "          2.23270607e+00,   2.25571227e+00,   2.18669486e+00,\n",
       "          2.14068341e+00,   2.14068341e+00,   2.16368937e+00,\n",
       "          2.16368937e+00,   2.16368937e+00,   2.16368937e+00,\n",
       "          2.11767745e+00,   2.07166576e+00,   2.04866076e+00,\n",
       "          1.97964311e+00,   2.02565455e+00,   2.02565455e+00,\n",
       "          2.02565455e+00,   2.09467196e+00,   2.07166576e+00,\n",
       "          2.04866076e+00,   1.97964311e+00,   2.04866076e+00,\n",
       "          2.04866076e+00,   1.95663714e+00,   1.95663714e+00,\n",
       "          1.95663714e+00,   2.02565455e+00,   2.09467196e+00,\n",
       "          2.18669486e+00,   2.18669486e+00,   2.25571227e+00,\n",
       "          2.18669486e+00,   2.18669486e+00,   2.11767745e+00,\n",
       "          2.07166576e+00,   2.04866076e+00,   2.07166576e+00,\n",
       "          2.07166576e+00,   2.16368937e+00,   2.16368937e+00,\n",
       "          2.23270607e+00,   2.23270607e+00,   2.25571227e+00,\n",
       "          2.32472968e+00,   2.32472968e+00,   2.30172372e+00,\n",
       "          2.30172372e+00,   2.30172372e+00,   2.30172372e+00,\n",
       "          2.30172372e+00,   2.30172372e+00,   2.25571227e+00,\n",
       "          2.25571227e+00,   2.25571227e+00,   2.23270607e+00,\n",
       "          2.23270607e+00,   2.20970106e+00,   2.20970106e+00,\n",
       "          2.14068341e+00,   2.14068341e+00,   2.14068341e+00,\n",
       "          2.07166576e+00,   2.07166576e+00,   2.07166576e+00,\n",
       "          2.07166576e+00,   2.07166576e+00,   2.07166576e+00,\n",
       "          2.04866076e+00,   2.04866076e+00,   2.04866076e+00,\n",
       "          1.93363190e+00,   1.93363190e+00,   1.91062593e+00,\n",
       "          1.91062593e+00,   1.91062593e+00,   1.88762045e+00,\n",
       "          1.88762045e+00,   1.88762045e+00,   1.88762045e+00,\n",
       "          1.88762045e+00,   1.88762045e+00,   1.88762045e+00,\n",
       "          1.88762045e+00,   1.88762045e+00,   1.88762045e+00,\n",
       "          1.88762045e+00,   1.88762045e+00,   1.86461437e+00,\n",
       "          1.84160924e+00,   1.84160924e+00,   1.81860316e+00,\n",
       "          1.79559767e+00,   1.79559767e+00,   1.74958563e+00,\n",
       "          1.74958563e+00,   1.74958563e+00,   1.74958563e+00,\n",
       "          1.74958563e+00,   1.74958563e+00,   1.72658050e+00,\n",
       "          1.68056834e+00,   1.65756297e+00,   1.63455689e+00,\n",
       "          1.63455689e+00,   1.63455689e+00,   1.63455689e+00,\n",
       "          1.61155176e+00,   1.61155176e+00,   1.54253411e+00,\n",
       "          1.54253411e+00,   1.54253411e+00,   1.54253411e+00,\n",
       "          1.54253411e+00,   1.49652290e+00,   1.49652290e+00,\n",
       "          1.49652290e+00,   1.51952899e+00,   1.47351694e+00,\n",
       "          1.42750537e+00,   1.42750537e+00,   1.42750537e+00,\n",
       "          1.42750537e+00,   1.35848808e+00,   1.33548272e+00,\n",
       "          1.33548272e+00,   1.33548272e+00,   1.26646507e+00,\n",
       "          1.24346006e+00,   1.15143645e+00,   1.08241975e+00,\n",
       "          1.05941367e+00,   9.67391014e-01,   9.21379626e-01,\n",
       "          9.44384933e-01,   9.44384933e-01,   9.44384933e-01,\n",
       "          9.21379626e-01,   9.21379626e-01,   8.52362216e-01,\n",
       "          7.83344805e-01,   7.83344805e-01,   7.83344805e-01,\n",
       "          7.37333477e-01,   6.91322088e-01,   7.14327276e-01,\n",
       "          7.60338604e-01,   7.14327276e-01,   6.22304559e-01,\n",
       "          6.68315887e-01,   6.45310581e-01,   6.45310581e-01,\n",
       "          6.45310581e-01,   5.99298477e-01,   5.99298477e-01,\n",
       "          5.76293170e-01,   5.76293170e-01,   5.53287148e-01,\n",
       "          5.53287148e-01,   5.53287148e-01,   5.53287148e-01,\n",
       "          5.53287148e-01,   5.53287148e-01,   5.53287148e-01,\n",
       "          5.53287148e-01,   4.84269708e-01,   4.84269708e-01,\n",
       "          5.53287148e-01,   4.84269708e-01,   4.38258350e-01,\n",
       "          4.38258350e-01,   4.38258350e-01,   3.69241685e-01,\n",
       "          3.46235633e-01,   3.69241685e-01,   3.69241685e-01,\n",
       "          3.92246991e-01,   3.23230326e-01,   2.54212946e-01,\n",
       "          1.62189394e-01,   1.62189394e-01,   7.01666847e-02,\n",
       "          7.01666847e-02,   7.01666847e-02,   7.01666847e-02,\n",
       "          4.71613742e-02,   4.71613742e-02,   2.41553243e-02,\n",
       "          2.41553243e-02,  -6.78674653e-02,  -6.78674653e-02,\n",
       "         -1.36884868e-01,  -1.36884868e-01,  -1.59890920e-01,\n",
       "         -2.28907585e-01,  -2.28907585e-01,  -2.28907585e-01,\n",
       "         -2.28907585e-01,  -2.28907585e-01,  -2.28907585e-01,\n",
       "         -2.28907585e-01,  -2.28907585e-01,  -2.28907585e-01,\n",
       "         -2.28907585e-01,  -2.28907585e-01,  -2.28907585e-01,\n",
       "         -2.28907585e-01,  -2.28907585e-01,  -2.28907585e-01,\n",
       "         -2.28907585e-01,  -2.28907585e-01,  -2.28907585e-01,\n",
       "         -2.28907585e-01,  -2.28907585e-01,  -2.28907585e-01,\n",
       "         -2.28907585e-01,  -2.28907585e-01,  -2.28907585e-01,\n",
       "         -2.28907585e-01,  -2.28907585e-01,  -2.28907585e-01,\n",
       "         -2.28907585e-01,  -2.28907585e-01,  -2.28907585e-01,\n",
       "         -2.28907585e-01,  -2.28907585e-01,  -2.28907585e-01,\n",
       "         -2.28907585e-01,  -2.28907585e-01,  -2.28907585e-01,\n",
       "         -2.28907585e-01,  -2.28907585e-01,  -2.28907585e-01,\n",
       "         -2.28907585e-01,  -2.28907585e-01,  -2.28907585e-01,\n",
       "         -2.28907585e-01,  -2.28907585e-01,  -2.28907585e-01,\n",
       "         -2.28907585e-01,  -2.28907585e-01,  -2.28907585e-01,\n",
       "         -2.28907585e-01,  -2.28907585e-01,  -2.28907585e-01,\n",
       "         -2.28907585e-01,  -2.28907585e-01,  -2.28907585e-01,\n",
       "         -2.28907585e-01,  -2.28907585e-01,  -2.28907585e-01,\n",
       "         -2.28907585e-01,  -2.28907585e-01,  -2.28907585e-01,\n",
       "         -2.28907585e-01,  -2.28907585e-01,  -2.28907585e-01,\n",
       "         -2.51913667e-01,  -2.51913667e-01,  -2.51913667e-01,\n",
       "         -2.51913667e-01,  -2.51913667e-01,  -2.51913667e-01,\n",
       "         -2.51913667e-01,  -2.51913667e-01,  -2.51913667e-01,\n",
       "         -2.51913667e-01,  -2.74918944e-01,  -2.74918944e-01,\n",
       "         -2.74918944e-01,  -2.74918944e-01,  -2.74918944e-01,\n",
       "         -2.74918944e-01,  -2.74918944e-01,  -2.74918944e-01,\n",
       "         -2.74918944e-01,  -2.74918944e-01,  -2.74918944e-01,\n",
       "         -2.74918944e-01,  -2.74918944e-01,  -2.74918944e-01,\n",
       "         -2.74918944e-01,  -2.74918944e-01,  -2.74918944e-01,\n",
       "         -3.43936384e-01,  -3.43936384e-01,  -3.89947742e-01,\n",
       "         -3.89947742e-01,  -4.12953854e-01,  -4.12953854e-01,\n",
       "         -4.12953854e-01,  -4.12953854e-01,  -4.12953854e-01,\n",
       "         -4.12953854e-01,  -4.12953854e-01,  -4.35959905e-01,\n",
       "         -4.81971234e-01,  -4.81971234e-01,  -4.81971234e-01,\n",
       "         -5.27982593e-01,  -5.27982593e-01,  -5.27982593e-01,\n",
       "         -5.27982593e-01,  -5.27982593e-01,  -5.27982593e-01,\n",
       "         -5.27982593e-01,  -5.27982593e-01,  -5.50987899e-01,\n",
       "         -5.50987899e-01,  -5.50987899e-01,  -5.50987899e-01,\n",
       "         -5.50987899e-01,  -5.50987899e-01,  -5.50987899e-01,\n",
       "         -5.50987899e-01,  -5.50987899e-01,  -5.73993981e-01,\n",
       "         -6.43011451e-01,  -6.43011451e-01,  -6.66016757e-01,\n",
       "         -6.66016757e-01,  -6.66016757e-01,  -6.66016757e-01,\n",
       "         -6.66016757e-01,  -6.89022779e-01,  -6.89022779e-01,\n",
       "         -7.35034168e-01,  -7.35034168e-01,  -7.35034168e-01,\n",
       "         -7.35034168e-01,  -7.35034168e-01,  -7.35034168e-01,\n",
       "         -7.35034168e-01,  -7.35034168e-01,  -7.35034168e-01,\n",
       "         -7.35034168e-01,  -7.35034168e-01,  -7.35034168e-01,\n",
       "         -7.35034168e-01,  -7.35034168e-01,  -7.35034168e-01,\n",
       "         -7.35034168e-01,  -7.35034168e-01,  -7.35034168e-01,\n",
       "         -7.35034168e-01,  -7.35034168e-01,  -7.35034168e-01,\n",
       "         -7.35034168e-01,  -7.35034168e-01,  -7.35034168e-01,\n",
       "         -7.35034168e-01,  -7.35034168e-01,  -7.35034168e-01,\n",
       "         -7.35034168e-01,  -7.35034168e-01,  -7.35034168e-01,\n",
       "         -7.35034168e-01,  -7.35034168e-01,  -7.35034168e-01,\n",
       "         -7.35034168e-01,  -7.35034168e-01,  -7.35034168e-01,\n",
       "         -7.35034168e-01,  -7.35034168e-01,  -7.35034168e-01,\n",
       "         -7.35034168e-01,  -7.35034168e-01,  -7.35034168e-01,\n",
       "         -7.35034168e-01,  -7.35034168e-01,  -7.35034168e-01,\n",
       "         -7.35034168e-01,  -7.35034168e-01,  -7.35034168e-01,\n",
       "         -7.35034168e-01,  -7.35034168e-01,  -7.35034168e-01,\n",
       "         -7.35034168e-01,  -7.35034168e-01,  -7.35034168e-01,\n",
       "         -7.35034168e-01,  -7.35034168e-01,  -7.35034168e-01,\n",
       "         -7.35034168e-01,  -7.35034168e-01,  -7.35034168e-01,\n",
       "         -7.35034168e-01,  -7.35034168e-01,  -7.35034168e-01,\n",
       "         -7.35034168e-01,  -7.35034168e-01,  -7.35034168e-01,\n",
       "         -7.35034168e-01,  -7.35034168e-01,  -7.35034168e-01,\n",
       "         -7.35034168e-01,  -7.35034168e-01,  -7.35034168e-01,\n",
       "         -7.35034168e-01,  -7.35034168e-01,  -7.35034168e-01,\n",
       "         -7.35034168e-01,  -7.35034168e-01,  -7.35034168e-01,\n",
       "         -7.35034168e-01,  -7.35034168e-01,  -7.35034168e-01,\n",
       "         -7.35034168e-01,  -7.35034168e-01,  -7.35034168e-01,\n",
       "         -7.35034168e-01,  -7.35034168e-01,  -7.35034168e-01,\n",
       "         -7.35034168e-01,  -7.35034168e-01,  -7.35034168e-01,\n",
       "         -7.35034168e-01,  -7.35034168e-01,  -7.35034168e-01,\n",
       "         -7.35034168e-01,  -7.35034168e-01,  -7.35034168e-01,\n",
       "         -7.35034168e-01], dtype=float32),\n",
       " 'data/genome_data_dir': array([[ 0.,  0.,  0., ...,  0.,  0.,  0.],\n",
       "        [ 0.,  0.,  0., ...,  0.,  1.,  0.],\n",
       "        [ 1.,  1.,  1., ...,  1.,  0.,  1.],\n",
       "        [ 0.,  0.,  0., ...,  0.,  0.,  0.]], dtype=float32),\n",
       " 'intervals/chrom': 'chr1',\n",
       " 'intervals/end': 714481,\n",
       " 'intervals/start': 713481,\n",
       " 'labels': array([0])}"
      ]
     },
     "execution_count": 8,
     "metadata": {},
     "output_type": "execute_result"
    }
   ],
   "source": [
    "# We can fetch from any of the readers like this\n",
    "s.run(readers['A549'].dequeue())"
   ]
  },
  {
   "cell_type": "code",
   "execution_count": 10,
   "metadata": {
    "collapsed": false
   },
   "outputs": [],
   "source": [
    "# Or fetch a batch like this\n",
    "\n",
    "BATCH_SIZE = 32\n",
    "\n",
    "_ = s.run(readers['A549'].dequeue_many(BATCH_SIZE))"
   ]
  },
  {
   "cell_type": "code",
   "execution_count": 14,
   "metadata": {
    "collapsed": false
   },
   "outputs": [
    {
     "name": "stdout",
     "output_type": "stream",
     "text": [
      "10 loops, best of 3: 167 ms per loop\n"
     ]
    }
   ],
   "source": [
    "# We can also check how fast it is,\n",
    "# but note that this is slower because the full result is copied and returned to python\n",
    "\n",
    "BATCH_SIZE = 32\n",
    "\n",
    "def fetch():\n",
    "    _ = s.run(readers['A549'].dequeue_many(BATCH_SIZE))\n",
    "\n",
    "%timeit fetch()"
   ]
  },
  {
   "cell_type": "markdown",
   "metadata": {
    "collapsed": false
   },
   "source": [
    "### Set up a parallel examples queue\n",
    "This takes the set of readers as input, and provides a shuffled buffer of examples from all datasets in a defined batch size"
   ]
  },
  {
   "cell_type": "code",
   "execution_count": 10,
   "metadata": {
    "collapsed": true
   },
   "outputs": [],
   "source": [
    "shared_queue = SharedExamplesQueue(readers)"
   ]
  },
  {
   "cell_type": "code",
   "execution_count": 11,
   "metadata": {
    "collapsed": true
   },
   "outputs": [],
   "source": [
    "s.run(tf.global_variables_initializer())\n",
    "s.run(tf.local_variables_initializer())\n",
    "\n",
    "# Note that you *must* start queue runners before fetching.\n",
    "queue_runner_threads = tf.train.start_queue_runners(s)"
   ]
  },
  {
   "cell_type": "code",
   "execution_count": 15,
   "metadata": {
    "collapsed": false
   },
   "outputs": [
    {
     "data": {
      "text/plain": [
       "{'data/dnase_data_dir': <tf.Tensor 'shared-examples-queue/shuffle_batch:0' shape=(128, 100) dtype=float32>,\n",
       " 'data/genome_data_dir': <tf.Tensor 'shared-examples-queue/shuffle_batch:1' shape=(128, 4, 100) dtype=float32>,\n",
       " 'dataset': <tf.Tensor 'shared-examples-queue/shuffle_batch:2' shape=(128,) dtype=string>,\n",
       " 'dataset-index': <tf.Tensor 'shared-examples-queue/shuffle_batch:3' shape=(128,) dtype=int32>,\n",
       " 'intervals/chrom': <tf.Tensor 'shared-examples-queue/shuffle_batch:4' shape=(128,) dtype=string>,\n",
       " 'intervals/end': <tf.Tensor 'shared-examples-queue/shuffle_batch:5' shape=(128,) dtype=int64>,\n",
       " 'intervals/start': <tf.Tensor 'shared-examples-queue/shuffle_batch:6' shape=(128,) dtype=int64>,\n",
       " 'labels': <tf.Tensor 'shared-examples-queue/shuffle_batch:7' shape=(128, 6) dtype=int64>}"
      ]
     },
     "execution_count": 15,
     "metadata": {},
     "output_type": "execute_result"
    }
   ],
   "source": [
    "# The shared queue provides outputs shuffled across all the datasets:\n",
    "\n",
    "shared_queue.outputs"
   ]
  },
  {
   "cell_type": "code",
   "execution_count": 18,
   "metadata": {
    "collapsed": false
   },
   "outputs": [
    {
     "name": "stdout",
     "output_type": "stream",
     "text": [
      "['dataset-name-2' 'dataset-name-1' 'dataset-name-0' 'dataset-name-2'\n",
      " 'dataset-name-1' 'dataset-name-1' 'dataset-name-0' 'dataset-name-2'\n",
      " 'dataset-name-2' 'dataset-name-0']\n",
      "[2 1 0 2 2 0 2 2 2 0]\n"
     ]
    }
   ],
   "source": [
    "# It also provides the dataset (and the `dataest-index`) that each example came from\n",
    "\n",
    "# This is intended to make it easy to analyze performance by dataset\n",
    "\n",
    "print(shared_queue.outputs['dataset'].eval()[:10])\n",
    "\n",
    "print(shared_queue.outputs['dataset-index'].eval()[:10])"
   ]
  },
  {
   "cell_type": "code",
   "execution_count": 6,
   "metadata": {
    "collapsed": false
   },
   "outputs": [
    {
     "data": {
      "text/plain": [
       "[<Thread(Thread-4, started daemon 140338869991168)>,\n",
       " <Thread(Thread-5, started daemon 140338861598464)>,\n",
       " <Thread(Thread-6, started daemon 140338853205760)>,\n",
       " <Thread(Thread-7, started daemon 140338844813056)>,\n",
       " <Thread(Thread-8, started daemon 140338836420352)>]"
      ]
     },
     "execution_count": 6,
     "metadata": {},
     "output_type": "execute_result"
    }
   ],
   "source": [
    "queue_runner_threads"
   ]
  },
  {
   "cell_type": "code",
   "execution_count": 7,
   "metadata": {
    "collapsed": true
   },
   "outputs": [],
   "source": [
    "t = queue_runner_threads[0]"
   ]
  },
  {
   "cell_type": "code",
   "execution_count": 16,
   "metadata": {
    "collapsed": false
   },
   "outputs": [
    {
     "data": {
      "text/plain": [
       "[True, True, True, True, True]"
      ]
     },
     "execution_count": 16,
     "metadata": {},
     "output_type": "execute_result"
    }
   ],
   "source": [
    "[t.is_alive() for t in queue_runner_threads]"
   ]
  },
  {
   "cell_type": "code",
   "execution_count": 23,
   "metadata": {
    "collapsed": false
   },
   "outputs": [
    {
     "data": {
      "text/plain": [
       "639"
      ]
     },
     "execution_count": 23,
     "metadata": {},
     "output_type": "execute_result"
    }
   ],
   "source": [
    "readers['A549'].size().eval()"
   ]
  },
  {
   "cell_type": "code",
   "execution_count": 7,
   "metadata": {
    "collapsed": false
   },
   "outputs": [
    {
     "data": {
      "text/plain": [
       "{u'A549': {'inputs': {'dnase_data_dir': u'/srv/scratch/jisraeli/bcolz_data/DNASE.A549.fc.signal.bigwig',\n",
       "   'genome_data_dir': u'/srv/scratch/jisraeli/bcolz_data/hg19.genome.fa'},\n",
       "  'intervals': {'chrom': array(['chr1', 'chr1', 'chr1', ..., 'chrY', 'chrY', 'chrY'], dtype=object),\n",
       "   'end': array([  714481,   714681,   714881, ..., 59002228, 59002428, 59002628]),\n",
       "   'start': array([  713481,   713681,   713881, ..., 59001228, 59001428, 59001628])},\n",
       "  'labels': array([[0],\n",
       "         [0],\n",
       "         [0],\n",
       "         ..., \n",
       "         [0],\n",
       "         [0],\n",
       "         [0]]),\n",
       "  'task_names': [u'MYC']}}"
      ]
     },
     "execution_count": 7,
     "metadata": {},
     "output_type": "execute_result"
    }
   ],
   "source": [
    "dataset"
   ]
  },
  {
   "cell_type": "code",
   "execution_count": 11,
   "metadata": {
    "collapsed": false
   },
   "outputs": [
    {
     "data": {
      "text/plain": [
       "{'chrom': array(['chr1', 'chr1', 'chr1', ..., 'chrY', 'chrY', 'chrY'], dtype=object),\n",
       " 'end': array([  714481,   714681,   714881, ..., 59002228, 59002428, 59002628]),\n",
       " 'start': array([  713481,   713681,   713881, ..., 59001228, 59001428, 59001628])}"
      ]
     },
     "execution_count": 11,
     "metadata": {},
     "output_type": "execute_result"
    }
   ],
   "source": [
    "intervals"
   ]
  },
  {
   "cell_type": "code",
   "execution_count": 19,
   "metadata": {
    "collapsed": false
   },
   "outputs": [
    {
     "name": "stdout",
     "output_type": "stream",
     "text": [
      "1000 loops, best of 3: 998 µs per loop\n"
     ]
    }
   ],
   "source": [
    "%timeit s.run(interval_q)"
   ]
  },
  {
   "cell_type": "code",
   "execution_count": null,
   "metadata": {
    "collapsed": true
   },
   "outputs": [],
   "source": []
  }
 ],
 "metadata": {
  "anaconda-cloud": {},
  "kernelspec": {
   "display_name": "Python [conda env:tfbind]",
   "language": "python",
   "name": "conda-env-tfbind-py"
  },
  "language_info": {
   "codemirror_mode": {
    "name": "ipython",
    "version": 2
   },
   "file_extension": ".py",
   "mimetype": "text/x-python",
   "name": "python",
   "nbconvert_exporter": "python",
   "pygments_lexer": "ipython2",
   "version": "2.7.12"
  }
 },
 "nbformat": 4,
 "nbformat_minor": 1
}
