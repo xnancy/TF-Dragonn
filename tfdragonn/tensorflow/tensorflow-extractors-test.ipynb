{
 "cells": [
  {
   "cell_type": "code",
   "execution_count": 4,
   "metadata": {
    "collapsed": false
   },
   "outputs": [],
   "source": [
    "import os\n",
    "import bcolz\n",
    "import json\n",
    "\n",
    "import tensorflow as tf\n",
    "import numpy as np\n",
    "import pandas as ps\n",
    "\n",
    "%reload_ext autoreload\n",
    "%autoreload 2\n",
    "\n",
    "%aimport dataset_interval_reader"
   ]
  },
  {
   "cell_type": "markdown",
   "metadata": {},
   "source": [
    "### Write some dummy test data"
   ]
  },
  {
   "cell_type": "code",
   "execution_count": 2,
   "metadata": {
    "collapsed": false
   },
   "outputs": [],
   "source": [
    "NUM_SEQ_CHARS = 4\n",
    "SEQ_LEN_CHR = int(1e4)\n",
    "NUM_CHRS = 5\n",
    "NUM_DATASETS = 3\n",
    "\n",
    "NUM_INTERVALS = 500\n",
    "INTERVAL_LENGTH = 100\n",
    "NUM_TASKS = 6\n",
    "\n",
    "DATA_DIR = 'test-data'\n",
    "FA_DIRS = [os.path.join(DATA_DIR, 'seq-{}'.format(i)) for i in range(NUM_DATASETS)]\n",
    "BW_DIRS = [os.path.join(DATA_DIR, 'bgw-{}'.format(i)) for i in range(NUM_DATASETS)]\n",
    "\n",
    "INTERVALS_FILE = os.path.join(DATA_DIR, 'intervals_file.json')\n",
    "INPUTS_FILE = os.path.join(DATA_DIR, 'inputs_file.json')\n",
    "\n",
    "TASK_NAMES = ['task-name-{}'.format(i) for i in range(NUM_TASKS)]\n",
    "DATASET_NAMES = ['dataset-name-{}'.format(i) for i in range(NUM_DATASETS)]\n",
    "\n",
    "BLOSC_CPARAMS = bcolz.cparams(clevel=5, shuffle=bcolz.SHUFFLE, cname='lz4')\n",
    "\n",
    "if not os.path.isdir(DATA_DIR):\n",
    "    os.mkdir(DATA_DIR)\n",
    "\n",
    "for FA_DIR in FA_DIRS:\n",
    "    if not os.path.isdir(FA_DIR):\n",
    "        os.mkdir(FA_DIR)\n",
    "\n",
    "for BW_DIR in BW_DIRS:\n",
    "    if not os.path.isdir(BW_DIR):\n",
    "        os.mkdir(BW_DIR)\n",
    "\n",
    "def random_fasta_seq():\n",
    "    seq_idxs = np.random.randint(0, NUM_SEQ_CHARS, SEQ_LEN_CHR)\n",
    "    seq_arr = np.zeros((NUM_SEQ_CHARS, SEQ_LEN_CHR))\n",
    "    seq_arr[seq_idxs, np.arange(SEQ_LEN_CHR, dtype=int)] = 1\n",
    "    return seq_arr\n",
    "\n",
    "def random_bw_data():\n",
    "    # Just use low-frequency wave function for now\n",
    "    bw_data = np.sin(np.arange(SEQ_LEN_CHR) / 1e-3)\n",
    "    return bw_data\n",
    "\n",
    "def random_labels():\n",
    "    # Just random labels for now, as ints\n",
    "    labels = np.random.randint(0, 3, size=(NUM_INTERVALS, NUM_TASKS))\n",
    "    return labels\n",
    "\n",
    "def random_intervals():\n",
    "    interval_starts = np.random.randint(0, SEQ_LEN_CHR - INTERVAL_LENGTH, size=NUM_INTERVALS)\n",
    "    interval_ends = interval_starts + INTERVAL_LENGTH\n",
    "    interval_chrs = np.random.randint(0, NUM_CHRS, size=NUM_INTERVALS)\n",
    "    interval_chrs = np.array(list(map(lambda x: 'chr{}'.format(x), interval_chrs)))\n",
    "    intervals = ps.DataFrame([interval_chrs, interval_starts, interval_ends]).T\n",
    "    return intervals\n",
    "    \n",
    "\n",
    "seq_arrs = {'chr{}'.format(i): random_fasta_seq() for i in range(NUM_CHRS)}\n",
    "bw_arrs = {'chr{}'.format(i): random_bw_data() for i in range(NUM_CHRS)}\n",
    "\n",
    "def dump_to_disk(chr_key, arr, base_dir):\n",
    "    target_fname = os.path.join(base_dir, chr_key)\n",
    "    c_arr = bcolz.carray(arr, cparams=BLOSC_CPARAMS, rootdir=target_fname, mode='w')\n",
    "    c_arr.flush()\n",
    "\n",
    "def write_metadata(base_dir):\n",
    "    # Check the first file to get the shape\n",
    "    arr_shape = bcolz.carray(rootdir=os.path.join(base_dir, 'chr0'), mode='r').shape\n",
    "    chr_shapes = {'chr{}'.format(i): arr_shape for i in range(NUM_CHRS)}\n",
    "    metadata = {'type': 'array_bcolz', 'file_shapes': chr_shapes}\n",
    "    with open(os.path.join(base_dir, 'metadata.json'), 'w') as fp:\n",
    "        json.dump(metadata, fp)\n",
    "\n",
    "for FA_DIR in FA_DIRS:\n",
    "    for chr_key, arr in seq_arrs.items():\n",
    "        dump_to_disk(chr_key, arr, FA_DIR)\n",
    "    write_metadata(FA_DIR)\n",
    "\n",
    "for BW_DIR in BW_DIRS:\n",
    "    for chr_key, arr in bw_arrs.items():\n",
    "        dump_to_disk(chr_key, arr, BW_DIR)\n",
    "    write_metadata(BW_DIR)\n",
    "    \n",
    "intervals_file_dict = {'task_names': TASK_NAMES}\n",
    "inputs_file_dict = {}\n",
    "\n",
    "for dataset_idx, dataset_name in enumerate(DATASET_NAMES):\n",
    "    labels_file = os.path.join(DATA_DIR, 'labels{}.npy'.format(dataset_idx))\n",
    "    intervals_file = os.path.join(DATA_DIR, 'intervals{}.bed'.format(dataset_idx))\n",
    "    \n",
    "    labels = random_labels()\n",
    "    np.save(labels_file, labels)\n",
    "    \n",
    "    intervals = random_intervals()\n",
    "    intervals.to_csv(intervals_file, sep='\\t', header=False, index=False)\n",
    "    \n",
    "    intervals_file_dict[dataset_name] = {'regions': intervals_file, 'labels': labels_file}\n",
    "    inputs_file_dict[dataset_name] = {'dnase_data_dir': BW_DIRS[dataset_idx], 'genome_data_dir': FA_DIRS[dataset_idx]}\n",
    "\n",
    "with open(INTERVALS_FILE, 'w') as fp:\n",
    "    json.dump(intervals_file_dict, fp)\n",
    "\n",
    "with open(INPUTS_FILE, 'w') as fp:\n",
    "    json.dump(inputs_file_dict, fp)\n"
   ]
  },
  {
   "cell_type": "markdown",
   "metadata": {},
   "source": [
    "### Set up the readers"
   ]
  },
  {
   "cell_type": "markdown",
   "metadata": {},
   "source": [
    "The data we want to read is in `test-data/`.\n",
    "\n",
    "We just need to use `dataset_interval_reader.get_readers` to create readers for all the datasets"
   ]
  },
  {
   "cell_type": "code",
   "execution_count": 5,
   "metadata": {
    "collapsed": false,
    "scrolled": true
   },
   "outputs": [],
   "source": [
    "readers = dataset_interval_reader.get_readers(INPUTS_FILE, INTERVALS_FILE)"
   ]
  },
  {
   "cell_type": "code",
   "execution_count": 6,
   "metadata": {
    "collapsed": false
   },
   "outputs": [],
   "source": [
    "s = tf.InteractiveSession()"
   ]
  },
  {
   "cell_type": "code",
   "execution_count": 7,
   "metadata": {
    "collapsed": false
   },
   "outputs": [],
   "source": [
    "s.run(tf.global_variables_initializer())\n",
    "s.run(tf.local_variables_initializer())\n",
    "\n",
    "# Note that you *must* start queue runners before fetching any of the dequeues.\n",
    "queue_runner_threads = tf.train.start_queue_runners(s)"
   ]
  },
  {
   "cell_type": "code",
   "execution_count": 8,
   "metadata": {
    "collapsed": false
   },
   "outputs": [
    {
     "data": {
      "text/plain": [
       "{u'dataset-name-0': <tensorflow.python.ops.data_flow_ops.FIFOQueue at 0x1151092d0>,\n",
       " u'dataset-name-1': <tensorflow.python.ops.data_flow_ops.FIFOQueue at 0x1148e9490>,\n",
       " u'dataset-name-2': <tensorflow.python.ops.data_flow_ops.FIFOQueue at 0x115109cd0>}"
      ]
     },
     "execution_count": 8,
     "metadata": {},
     "output_type": "execute_result"
    }
   ],
   "source": [
    "# Note that readers is a dictionary of `examples_queue`s\n",
    "readers"
   ]
  },
  {
   "cell_type": "code",
   "execution_count": 9,
   "metadata": {
    "collapsed": false
   },
   "outputs": [
    {
     "data": {
      "text/plain": [
       "{'data/dnase_data_dir': array([-0.55269241,  0.76406795,  1.39545929,  0.78886145, -0.52480567,\n",
       "        -1.39576578, -1.06171799,  0.18496498,  1.25313413,  1.207883  ,\n",
       "         0.0888174 , -1.12460971, -1.37035608, -0.43333429,  0.86633509,\n",
       "         1.39112699,  0.68172157, -0.64097989, -1.41929376, -0.97200698,\n",
       "         0.30939606,  1.30337799,  1.1399641 , -0.03781878, -1.19912589,\n",
       "        -1.32753265, -0.31065205,  0.96149951,  1.37548161,  0.56895995,\n",
       "        -0.75216413, -1.43158734, -0.8746503 ,  0.43119261,  1.34301281,\n",
       "         1.06274736, -0.16430394, -1.26417422, -1.27421117, -0.18562989,\n",
       "         1.04879773,  1.34864879,  0.45148134, -0.85746628, -1.4325484 ,\n",
       "        -0.77042884,  0.54937738,  1.37172079,  0.976852  , -0.28962335,\n",
       "        -1.31923294, -1.21081948, -0.05927089,  1.12752926,  1.31084394,\n",
       "         0.33022827, -0.95604169, -1.42216873, -0.66017896,  0.66300231,\n",
       "         1.3892715 ,  0.88296735, -0.41277155, -1.36386025, -1.13786614,\n",
       "         0.06741124,  1.19706273,  1.26237011,  0.20617349, -1.04709947,\n",
       "        -1.40053189, -0.54478502,  0.77115577,  1.39552402,  0.78184646,\n",
       "        -0.53276062, -1.39769804, -1.05593646,  0.19340016,  1.25684011,\n",
       "         1.20361626,  0.08031227, -1.12990904, -1.36781156, -0.42517281,\n",
       "         0.8729701 ,  1.3904283 ,  0.67430067, -0.64862788, -1.42047501,\n",
       "        -0.96568763,  0.3176851 ,  1.30638182,  1.13505375, -0.04634567,\n",
       "        -1.20380616, -1.32426989, -0.302302  ,  0.96762854,  1.37402523], dtype=float32),\n",
       " 'data/genome_data_dir': array([[ 0.,  0.,  0.,  1.,  0.,  0.,  0.,  0.,  0.,  0.,  0.,  0.,  0.,\n",
       "          0.,  1.,  1.,  1.,  1.,  0.,  0.,  0.,  0.,  1.,  1.,  0.,  0.,\n",
       "          1.,  0.,  0.,  1.,  0.,  0.,  0.,  0.,  0.,  0.,  0.,  0.,  0.,\n",
       "          0.,  0.,  1.,  1.,  0.,  1.,  0.,  0.,  0.,  0.,  0.,  0.,  0.,\n",
       "          0.,  0.,  0.,  0.,  0.,  0.,  0.,  0.,  0.,  1.,  0.,  0.,  0.,\n",
       "          0.,  0.,  1.,  0.,  1.,  0.,  0.,  0.,  0.,  1.,  0.,  0.,  0.,\n",
       "          1.,  1.,  0.,  0.,  0.,  0.,  1.,  0.,  0.,  0.,  0.,  0.,  0.,\n",
       "          0.,  1.,  1.,  0.,  1.,  0.,  1.,  0.,  0.],\n",
       "        [ 0.,  1.,  0.,  0.,  0.,  0.,  1.,  0.,  1.,  1.,  0.,  0.,  1.,\n",
       "          0.,  0.,  0.,  0.,  0.,  0.,  1.,  0.,  0.,  0.,  0.,  0.,  0.,\n",
       "          0.,  0.,  0.,  0.,  0.,  0.,  1.,  0.,  0.,  1.,  0.,  1.,  0.,\n",
       "          0.,  0.,  0.,  0.,  0.,  0.,  0.,  0.,  0.,  0.,  1.,  1.,  1.,\n",
       "          1.,  1.,  1.,  0.,  1.,  0.,  0.,  1.,  0.,  0.,  1.,  1.,  0.,\n",
       "          1.,  0.,  0.,  0.,  0.,  0.,  0.,  0.,  1.,  0.,  0.,  0.,  0.,\n",
       "          0.,  0.,  0.,  0.,  0.,  1.,  0.,  0.,  0.,  0.,  0.,  0.,  0.,\n",
       "          1.,  0.,  0.,  0.,  0.,  0.,  0.,  0.,  1.],\n",
       "        [ 0.,  0.,  0.,  0.,  1.,  0.,  0.,  0.,  0.,  0.,  1.,  1.,  0.,\n",
       "          1.,  0.,  0.,  0.,  0.,  0.,  0.,  1.,  1.,  0.,  0.,  0.,  0.,\n",
       "          0.,  0.,  1.,  0.,  1.,  1.,  0.,  1.,  0.,  0.,  0.,  0.,  0.,\n",
       "          0.,  0.,  0.,  0.,  1.,  0.,  1.,  0.,  0.,  0.,  0.,  0.,  0.,\n",
       "          0.,  0.,  0.,  0.,  0.,  1.,  1.,  0.,  0.,  0.,  0.,  0.,  1.,\n",
       "          0.,  0.,  0.,  0.,  0.,  0.,  1.,  1.,  0.,  0.,  0.,  1.,  1.,\n",
       "          0.,  0.,  0.,  1.,  1.,  0.,  0.,  1.,  1.,  1.,  1.,  1.,  0.,\n",
       "          0.,  0.,  0.,  0.,  0.,  0.,  0.,  1.,  0.],\n",
       "        [ 1.,  0.,  1.,  0.,  0.,  1.,  0.,  1.,  0.,  0.,  0.,  0.,  0.,\n",
       "          0.,  0.,  0.,  0.,  0.,  1.,  0.,  0.,  0.,  0.,  0.,  1.,  1.,\n",
       "          0.,  1.,  0.,  0.,  0.,  0.,  0.,  0.,  1.,  0.,  1.,  0.,  1.,\n",
       "          1.,  1.,  0.,  0.,  0.,  0.,  0.,  1.,  1.,  1.,  0.,  0.,  0.,\n",
       "          0.,  0.,  0.,  1.,  0.,  0.,  0.,  0.,  1.,  0.,  0.,  0.,  0.,\n",
       "          0.,  1.,  0.,  1.,  0.,  1.,  0.,  0.,  0.,  0.,  1.,  0.,  0.,\n",
       "          0.,  0.,  1.,  0.,  0.,  0.,  0.,  0.,  0.,  0.,  0.,  0.,  1.,\n",
       "          0.,  0.,  0.,  1.,  0.,  1.,  0.,  0.,  0.]], dtype=float32),\n",
       " 'intervals/chrom': 'chr2',\n",
       " 'intervals/end': 1797,\n",
       " 'intervals/start': 1697,\n",
       " 'labels': array([2, 0, 0, 2, 2, 1])}"
      ]
     },
     "execution_count": 9,
     "metadata": {},
     "output_type": "execute_result"
    }
   ],
   "source": [
    "# We can fetch from any of the readers like this\n",
    "s.run(readers['dataset-name-0'].dequeue())"
   ]
  },
  {
   "cell_type": "code",
   "execution_count": 10,
   "metadata": {
    "collapsed": false
   },
   "outputs": [],
   "source": [
    "# Or fetch a batch like this\n",
    "_ = s.run(readers['dataset-name-0'].dequeue_many(128))"
   ]
  },
  {
   "cell_type": "code",
   "execution_count": 11,
   "metadata": {
    "collapsed": false
   },
   "outputs": [
    {
     "name": "stdout",
     "output_type": "stream",
     "text": [
      "100 loops, best of 3: 27.4 ms per loop\n"
     ]
    }
   ],
   "source": [
    "# We can also check how fast it is,\n",
    "# but note that this is slower because the full result is returned to python\n",
    "\n",
    "def fetch():\n",
    "    _ = s.run(readers['dataset-name-1'].dequeue_many(128))\n",
    "\n",
    "%timeit fetch()"
   ]
  },
  {
   "cell_type": "markdown",
   "metadata": {
    "collapsed": false
   },
   "source": [
    "### Try parallel output queue"
   ]
  },
  {
   "cell_type": "code",
   "execution_count": null,
   "metadata": {
    "collapsed": true
   },
   "outputs": [],
   "source": [
    "shared_queue = tf.FIFOQueue()"
   ]
  }
 ],
 "metadata": {
  "anaconda-cloud": {},
  "kernelspec": {
   "display_name": "Python [conda env:tflow]",
   "language": "python",
   "name": "conda-env-tflow-py"
  },
  "language_info": {
   "codemirror_mode": {
    "name": "ipython",
    "version": 2
   },
   "file_extension": ".py",
   "mimetype": "text/x-python",
   "name": "python",
   "nbconvert_exporter": "python",
   "pygments_lexer": "ipython2",
   "version": "2.7.12"
  }
 },
 "nbformat": 4,
 "nbformat_minor": 1
}
