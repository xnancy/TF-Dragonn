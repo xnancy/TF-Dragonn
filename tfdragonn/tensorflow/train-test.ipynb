{
 "cells": [
  {
   "cell_type": "code",
   "execution_count": 54,
   "metadata": {
    "collapsed": false
   },
   "outputs": [],
   "source": [
    "import os.path\n",
    "\n",
    "import tensorflow as tf\n",
    "from tensorflow.contrib import slim\n",
    "\n",
    "import dataset_interval_reader\n",
    "from shared_examples_queue import SharedExamplesQueue\n",
    "from models import SequenceAndDnaseClassifier\n",
    "from trainers import ClassiferTrainer"
   ]
  },
  {
   "cell_type": "code",
   "execution_count": 12,
   "metadata": {
    "collapsed": false
   },
   "outputs": [],
   "source": [
    "NUM_TASKS = 6\n",
    "\n",
    "DATA_DIR = 'test-data'\n",
    "LOG_DIR = 'test-logs'\n",
    "\n",
    "INTERVALS_FILE = os.path.join(DATA_DIR, 'intervals_file.json')\n",
    "INPUTS_FILE = os.path.join(DATA_DIR, 'inputs_file.json')"
   ]
  },
  {
   "cell_type": "code",
   "execution_count": 13,
   "metadata": {
    "collapsed": true
   },
   "outputs": [],
   "source": [
    "readers, task_names = dataset_interval_reader.get_readers_and_tasks(INPUTS_FILE, INTERVALS_FILE)\n",
    "shared_queue = SharedExamplesQueue(readers, batch_size=32)"
   ]
  },
  {
   "cell_type": "code",
   "execution_count": 4,
   "metadata": {
    "collapsed": true
   },
   "outputs": [],
   "source": [
    "model = SequenceAndDnaseClassifier(num_tasks=NUM_TASKS)"
   ]
  },
  {
   "cell_type": "code",
   "execution_count": 5,
   "metadata": {
    "collapsed": true
   },
   "outputs": [],
   "source": [
    "trainer = ClassiferTrainer(model, epoch_size=5000)"
   ]
  },
  {
   "cell_type": "code",
   "execution_count": 6,
   "metadata": {
    "collapsed": false
   },
   "outputs": [
    {
     "name": "stdout",
     "output_type": "stream",
     "text": [
      "seq_preds shape (32, 1, 928, 25)\n",
      "dnase_preds shape (32, 1, 928, 25)\n",
      "concat shape (32, 2, 928, 25)\n",
      "after combined conv layers shape (32, 1, 904, 55)\n",
      "INFO:tensorflow:Summary name sequence_conv1/weights:gradient is illegal; using sequence_conv1/weights_gradient instead.\n",
      "INFO:tensorflow:Summary name sequence_conv1/weights:gradient_norm is illegal; using sequence_conv1/weights_gradient_norm instead.\n",
      "INFO:tensorflow:Summary name sequence_conv1/biases:gradient is illegal; using sequence_conv1/biases_gradient instead.\n",
      "INFO:tensorflow:Summary name sequence_conv1/biases:gradient_norm is illegal; using sequence_conv1/biases_gradient_norm instead.\n",
      "INFO:tensorflow:Summary name sequence_conv2/weights:gradient is illegal; using sequence_conv2/weights_gradient instead.\n",
      "INFO:tensorflow:Summary name sequence_conv2/weights:gradient_norm is illegal; using sequence_conv2/weights_gradient_norm instead.\n",
      "INFO:tensorflow:Summary name sequence_conv2/biases:gradient is illegal; using sequence_conv2/biases_gradient instead.\n",
      "INFO:tensorflow:Summary name sequence_conv2/biases:gradient_norm is illegal; using sequence_conv2/biases_gradient_norm instead.\n",
      "INFO:tensorflow:Summary name sequence_conv3/weights:gradient is illegal; using sequence_conv3/weights_gradient instead.\n",
      "INFO:tensorflow:Summary name sequence_conv3/weights:gradient_norm is illegal; using sequence_conv3/weights_gradient_norm instead.\n",
      "INFO:tensorflow:Summary name sequence_conv3/biases:gradient is illegal; using sequence_conv3/biases_gradient instead.\n",
      "INFO:tensorflow:Summary name sequence_conv3/biases:gradient_norm is illegal; using sequence_conv3/biases_gradient_norm instead.\n",
      "INFO:tensorflow:Summary name dnase_conv1/weights:gradient is illegal; using dnase_conv1/weights_gradient instead.\n",
      "INFO:tensorflow:Summary name dnase_conv1/weights:gradient_norm is illegal; using dnase_conv1/weights_gradient_norm instead.\n",
      "INFO:tensorflow:Summary name dnase_conv1/biases:gradient is illegal; using dnase_conv1/biases_gradient instead.\n",
      "INFO:tensorflow:Summary name dnase_conv1/biases:gradient_norm is illegal; using dnase_conv1/biases_gradient_norm instead.\n",
      "INFO:tensorflow:Summary name dnase_conv2/weights:gradient is illegal; using dnase_conv2/weights_gradient instead.\n",
      "INFO:tensorflow:Summary name dnase_conv2/weights:gradient_norm is illegal; using dnase_conv2/weights_gradient_norm instead.\n",
      "INFO:tensorflow:Summary name dnase_conv2/biases:gradient is illegal; using dnase_conv2/biases_gradient instead.\n",
      "INFO:tensorflow:Summary name dnase_conv2/biases:gradient_norm is illegal; using dnase_conv2/biases_gradient_norm instead.\n",
      "INFO:tensorflow:Summary name dnase_conv3/weights:gradient is illegal; using dnase_conv3/weights_gradient instead.\n",
      "INFO:tensorflow:Summary name dnase_conv3/weights:gradient_norm is illegal; using dnase_conv3/weights_gradient_norm instead.\n",
      "INFO:tensorflow:Summary name dnase_conv3/biases:gradient is illegal; using dnase_conv3/biases_gradient instead.\n",
      "INFO:tensorflow:Summary name dnase_conv3/biases:gradient_norm is illegal; using dnase_conv3/biases_gradient_norm instead.\n",
      "INFO:tensorflow:Summary name combined_conv1/weights:gradient is illegal; using combined_conv1/weights_gradient instead.\n",
      "INFO:tensorflow:Summary name combined_conv1/weights:gradient_norm is illegal; using combined_conv1/weights_gradient_norm instead.\n",
      "INFO:tensorflow:Summary name combined_conv1/biases:gradient is illegal; using combined_conv1/biases_gradient instead.\n",
      "INFO:tensorflow:Summary name combined_conv1/biases:gradient_norm is illegal; using combined_conv1/biases_gradient_norm instead.\n",
      "INFO:tensorflow:Summary name fc/weights:gradient is illegal; using fc/weights_gradient instead.\n",
      "INFO:tensorflow:Summary name fc/weights:gradient_norm is illegal; using fc/weights_gradient_norm instead.\n",
      "INFO:tensorflow:Summary name fc/biases:gradient is illegal; using fc/biases_gradient instead.\n",
      "INFO:tensorflow:Summary name fc/biases:gradient_norm is illegal; using fc/biases_gradient_norm instead.\n",
      "INFO:tensorflow:Starting Session.\n",
      "INFO:tensorflow:Starting Queues.\n",
      "INFO:tensorflow:global_step/sec: 0\n",
      "INFO:tensorflow:Writing trace to test-logs/tf_trace-1.json\n",
      "INFO:tensorflow:global step 1: loss = 0.5404 (6.36 sec/step)\n",
      "INFO:tensorflow:global step 2: loss = 0.3227 (0.73 sec/step)\n",
      "INFO:tensorflow:global step 3: loss = 0.2046 (0.71 sec/step)\n",
      "INFO:tensorflow:global step 4: loss = 0.0443 (0.70 sec/step)\n",
      "INFO:tensorflow:global step 5: loss = 0.5066 (0.90 sec/step)\n",
      "INFO:tensorflow:global_step/sec: 0.505276\n",
      "INFO:tensorflow:global step 6: loss = 0.1568 (1.37 sec/step)\n",
      "INFO:tensorflow:global step 7: loss = -0.0899 (0.75 sec/step)\n",
      "INFO:tensorflow:global step 8: loss = -0.5536 (0.77 sec/step)\n",
      "INFO:tensorflow:global step 9: loss = -0.0082 (0.71 sec/step)\n",
      "INFO:tensorflow:global step 10: loss = -1.0170 (0.70 sec/step)\n",
      "INFO:tensorflow:global step 11: loss = -0.4932 (0.75 sec/step)\n",
      "INFO:tensorflow:global step 12: loss = -0.1980 (0.74 sec/step)\n",
      "INFO:tensorflow:global step 13: loss = -0.0301 (0.72 sec/step)\n",
      "INFO:tensorflow:global step 14: loss = 0.6815 (0.85 sec/step)\n",
      "INFO:tensorflow:global step 15: loss = -0.2501 (0.83 sec/step)\n",
      "INFO:tensorflow:global step 16: loss = 0.9395 (0.76 sec/step)\n",
      "INFO:tensorflow:global step 17: loss = -0.2686 (0.76 sec/step)\n",
      "INFO:tensorflow:global_step/sec: 1.19991\n",
      "INFO:tensorflow:global step 18: loss = -0.1276 (1.43 sec/step)\n",
      "INFO:tensorflow:global step 19: loss = -0.7261 (0.84 sec/step)\n",
      "INFO:tensorflow:global step 20: loss = 0.4814 (0.81 sec/step)\n",
      "INFO:tensorflow:global step 21: loss = -0.0941 (0.82 sec/step)\n",
      "INFO:tensorflow:global step 22: loss = -0.4700 (0.78 sec/step)\n",
      "INFO:tensorflow:global step 23: loss = -1.5120 (0.69 sec/step)\n",
      "INFO:tensorflow:global step 24: loss = -2.1249 (0.71 sec/step)\n",
      "INFO:tensorflow:global step 25: loss = -0.8366 (0.73 sec/step)\n",
      "INFO:tensorflow:global step 26: loss = 0.7121 (0.74 sec/step)\n",
      "INFO:tensorflow:global step 27: loss = 0.8773 (0.70 sec/step)\n",
      "INFO:tensorflow:global step 28: loss = -1.2610 (0.69 sec/step)\n",
      "INFO:tensorflow:global step 29: loss = -1.0050 (0.70 sec/step)\n",
      "INFO:tensorflow:global_step/sec: 1.19835\n",
      "INFO:tensorflow:global step 30: loss = -1.1708 (1.10 sec/step)\n",
      "INFO:tensorflow:global step 31: loss = 0.9664 (0.81 sec/step)\n",
      "INFO:tensorflow:global step 32: loss = -0.1357 (0.72 sec/step)\n",
      "INFO:tensorflow:global step 33: loss = -3.0853 (0.74 sec/step)\n",
      "INFO:tensorflow:global step 34: loss = 3.0681 (0.72 sec/step)\n",
      "INFO:tensorflow:global step 35: loss = -1.5508 (0.72 sec/step)\n",
      "INFO:tensorflow:global step 36: loss = 3.2385 (0.74 sec/step)\n",
      "INFO:tensorflow:global step 37: loss = -4.2834 (0.72 sec/step)\n",
      "INFO:tensorflow:global step 38: loss = 2.7173 (0.71 sec/step)\n",
      "INFO:tensorflow:global step 39: loss = -0.6649 (0.68 sec/step)\n",
      "INFO:tensorflow:global step 40: loss = -0.0398 (0.74 sec/step)\n",
      "INFO:tensorflow:global step 41: loss = 3.1953 (0.74 sec/step)\n",
      "INFO:tensorflow:global step 42: loss = 2.4343 (0.72 sec/step)\n",
      "INFO:tensorflow:global_step/sec: 1.30054\n",
      "INFO:tensorflow:global step 43: loss = -1.5125 (1.20 sec/step)\n",
      "INFO:tensorflow:global step 44: loss = -3.5856 (0.70 sec/step)\n",
      "INFO:tensorflow:global step 45: loss = -3.9574 (0.68 sec/step)\n",
      "INFO:tensorflow:global step 46: loss = -3.7585 (0.72 sec/step)\n",
      "INFO:tensorflow:global step 47: loss = 1.0421 (0.74 sec/step)\n",
      "INFO:tensorflow:global step 48: loss = 1.7122 (0.73 sec/step)\n",
      "INFO:tensorflow:global step 49: loss = 1.3861 (0.74 sec/step)\n",
      "INFO:tensorflow:global step 50: loss = 9.5748 (0.74 sec/step)\n",
      "INFO:tensorflow:global step 51: loss = -2.7524 (0.73 sec/step)\n",
      "INFO:tensorflow:global step 52: loss = -0.9996 (0.72 sec/step)\n",
      "INFO:tensorflow:global step 53: loss = 4.1157 (0.70 sec/step)\n",
      "INFO:tensorflow:global step 54: loss = 2.2206 (0.73 sec/step)\n",
      "INFO:tensorflow:global_step/sec: 1.19748\n",
      "INFO:tensorflow:global step 55: loss = -1.8118 (0.85 sec/step)\n",
      "INFO:tensorflow:global step 56: loss = -0.5055 (1.22 sec/step)\n",
      "INFO:tensorflow:global step 57: loss = 0.0282 (0.76 sec/step)\n",
      "INFO:tensorflow:global step 58: loss = 0.4489 (0.73 sec/step)\n",
      "INFO:tensorflow:global step 59: loss = 3.3539 (0.73 sec/step)\n",
      "INFO:tensorflow:global step 60: loss = 1.0581 (0.72 sec/step)\n",
      "INFO:tensorflow:global step 61: loss = 1.8945 (0.73 sec/step)\n",
      "INFO:tensorflow:global step 62: loss = 2.8892 (0.72 sec/step)\n",
      "INFO:tensorflow:global step 63: loss = -1.1347 (0.73 sec/step)\n",
      "INFO:tensorflow:global step 64: loss = -1.6133 (0.70 sec/step)\n",
      "INFO:tensorflow:global step 65: loss = 0.5149 (0.67 sec/step)\n",
      "INFO:tensorflow:global step 66: loss = -0.7253 (0.81 sec/step)\n",
      "INFO:tensorflow:global step 67: loss = 2.8064 (0.67 sec/step)\n",
      "INFO:tensorflow:global_step/sec: 1.28108\n",
      "INFO:tensorflow:global step 68: loss = -2.8851 (1.11 sec/step)\n",
      "INFO:tensorflow:global step 69: loss = -5.1400 (0.85 sec/step)\n",
      "INFO:tensorflow:global step 70: loss = 1.2596 (0.91 sec/step)\n",
      "INFO:tensorflow:global step 71: loss = -1.1891 (0.77 sec/step)\n",
      "INFO:tensorflow:global step 72: loss = 0.2623 (0.76 sec/step)\n",
      "INFO:tensorflow:global step 73: loss = 5.8547 (0.83 sec/step)\n",
      "INFO:tensorflow:global step 74: loss = 1.9410 (0.77 sec/step)\n",
      "INFO:tensorflow:global step 75: loss = 0.3180 (0.75 sec/step)\n",
      "INFO:tensorflow:global step 76: loss = -2.9174 (0.75 sec/step)\n",
      "INFO:tensorflow:global step 77: loss = 1.7889 (0.71 sec/step)\n",
      "INFO:tensorflow:global step 78: loss = 1.9126 (0.74 sec/step)\n",
      "INFO:tensorflow:global step 79: loss = 0.0417 (0.82 sec/step)\n",
      "INFO:tensorflow:global_step/sec: 1.222\n",
      "INFO:tensorflow:global step 80: loss = -2.8737 (1.15 sec/step)\n",
      "INFO:tensorflow:global step 81: loss = 2.9277 (0.65 sec/step)\n",
      "INFO:tensorflow:global step 82: loss = -0.8912 (0.57 sec/step)\n",
      "INFO:tensorflow:global step 83: loss = -1.6680 (0.57 sec/step)\n",
      "INFO:tensorflow:global step 84: loss = -1.7987 (0.55 sec/step)\n",
      "INFO:tensorflow:global step 85: loss = -2.1820 (0.59 sec/step)\n",
      "INFO:tensorflow:global step 86: loss = -2.0945 (0.77 sec/step)\n",
      "INFO:tensorflow:global step 87: loss = 2.8503 (0.55 sec/step)\n",
      "INFO:tensorflow:global step 88: loss = -0.5206 (0.55 sec/step)\n",
      "INFO:tensorflow:global step 89: loss = 4.5002 (0.54 sec/step)\n",
      "INFO:tensorflow:global step 90: loss = -0.9952 (0.55 sec/step)\n",
      "INFO:tensorflow:global step 91: loss = -7.3624 (0.55 sec/step)\n",
      "INFO:tensorflow:global step 92: loss = 6.0969 (0.53 sec/step)\n",
      "INFO:tensorflow:global step 93: loss = 3.2146 (0.54 sec/step)\n"
     ]
    },
    {
     "ename": "KeyboardInterrupt",
     "evalue": "",
     "output_type": "error",
     "traceback": [
      "\u001b[0;31m---------------------------------------------------------------------------\u001b[0m",
      "\u001b[0;31mKeyboardInterrupt\u001b[0m                         Traceback (most recent call last)",
      "\u001b[0;32m<ipython-input-6-7ba2341a6483>\u001b[0m in \u001b[0;36m<module>\u001b[0;34m()\u001b[0m\n\u001b[0;32m----> 1\u001b[0;31m \u001b[0mtrainer\u001b[0m\u001b[0;34m.\u001b[0m\u001b[0mtrain\u001b[0m\u001b[0;34m(\u001b[0m\u001b[0mshared_queue\u001b[0m\u001b[0;34m,\u001b[0m \u001b[0mLOG_DIR\u001b[0m\u001b[0;34m)\u001b[0m\u001b[0;34m\u001b[0m\u001b[0m\n\u001b[0m",
      "\u001b[0;32m/Users/chris/dev/tf-dragonn/tfdragonn/tensorflow/trainers.py\u001b[0m in \u001b[0;36mtrain\u001b[0;34m(self, shared_examples_queue, log_dir)\u001b[0m\n\u001b[1;32m     56\u001b[0m         slim.learning.train(\n\u001b[1;32m     57\u001b[0m             \u001b[0mtrain_op\u001b[0m\u001b[0;34m,\u001b[0m \u001b[0mlog_dir\u001b[0m\u001b[0;34m,\u001b[0m \u001b[0mnumber_of_steps\u001b[0m\u001b[0;34m=\u001b[0m\u001b[0mtotal_steps\u001b[0m\u001b[0;34m,\u001b[0m \u001b[0msave_summaries_secs\u001b[0m\u001b[0;34m=\u001b[0m\u001b[0;36m10\u001b[0m\u001b[0;34m,\u001b[0m\u001b[0;34m\u001b[0m\u001b[0m\n\u001b[0;32m---> 58\u001b[0;31m             trace_every_n_steps=100)\n\u001b[0m",
      "\u001b[0;32m/Users/chris/anaconda3/envs/tflow/lib/python2.7/site-packages/tensorflow/contrib/slim/python/slim/learning.pyc\u001b[0m in \u001b[0;36mtrain\u001b[0;34m(train_op, logdir, train_step_fn, train_step_kwargs, log_every_n_steps, graph, master, is_chief, global_step, number_of_steps, init_op, init_feed_dict, local_init_op, init_fn, ready_op, summary_op, save_summaries_secs, summary_writer, startup_delay_steps, saver, save_interval_secs, sync_optimizer, session_config, trace_every_n_steps)\u001b[0m\n\u001b[1;32m    780\u001b[0m           \u001b[0;32mwhile\u001b[0m \u001b[0;32mnot\u001b[0m \u001b[0msv\u001b[0m\u001b[0;34m.\u001b[0m\u001b[0mshould_stop\u001b[0m\u001b[0;34m(\u001b[0m\u001b[0;34m)\u001b[0m\u001b[0;34m:\u001b[0m\u001b[0;34m\u001b[0m\u001b[0m\n\u001b[1;32m    781\u001b[0m             total_loss, should_stop = train_step_fn(\n\u001b[0;32m--> 782\u001b[0;31m                 sess, train_op, global_step, train_step_kwargs)\n\u001b[0m\u001b[1;32m    783\u001b[0m             \u001b[0;32mif\u001b[0m \u001b[0mshould_stop\u001b[0m\u001b[0;34m:\u001b[0m\u001b[0;34m\u001b[0m\u001b[0m\n\u001b[1;32m    784\u001b[0m               \u001b[0mlogging\u001b[0m\u001b[0;34m.\u001b[0m\u001b[0minfo\u001b[0m\u001b[0;34m(\u001b[0m\u001b[0;34m'Stopping Training.'\u001b[0m\u001b[0;34m)\u001b[0m\u001b[0;34m\u001b[0m\u001b[0m\n",
      "\u001b[0;32m/Users/chris/anaconda3/envs/tflow/lib/python2.7/site-packages/tensorflow/contrib/slim/python/slim/learning.pyc\u001b[0m in \u001b[0;36mtrain_step\u001b[0;34m(sess, train_op, global_step, train_step_kwargs)\u001b[0m\n\u001b[1;32m    528\u001b[0m   total_loss, np_global_step = sess.run([train_op, global_step],\n\u001b[1;32m    529\u001b[0m                                         \u001b[0moptions\u001b[0m\u001b[0;34m=\u001b[0m\u001b[0mtrace_run_options\u001b[0m\u001b[0;34m,\u001b[0m\u001b[0;34m\u001b[0m\u001b[0m\n\u001b[0;32m--> 530\u001b[0;31m                                         run_metadata=run_metadata)\n\u001b[0m\u001b[1;32m    531\u001b[0m   \u001b[0mtime_elapsed\u001b[0m \u001b[0;34m=\u001b[0m \u001b[0mtime\u001b[0m\u001b[0;34m.\u001b[0m\u001b[0mtime\u001b[0m\u001b[0;34m(\u001b[0m\u001b[0;34m)\u001b[0m \u001b[0;34m-\u001b[0m \u001b[0mstart_time\u001b[0m\u001b[0;34m\u001b[0m\u001b[0m\n\u001b[1;32m    532\u001b[0m \u001b[0;34m\u001b[0m\u001b[0m\n",
      "\u001b[0;32m/Users/chris/anaconda3/envs/tflow/lib/python2.7/site-packages/tensorflow/python/client/session.pyc\u001b[0m in \u001b[0;36mrun\u001b[0;34m(self, fetches, feed_dict, options, run_metadata)\u001b[0m\n\u001b[1;32m    764\u001b[0m     \u001b[0;32mtry\u001b[0m\u001b[0;34m:\u001b[0m\u001b[0;34m\u001b[0m\u001b[0m\n\u001b[1;32m    765\u001b[0m       result = self._run(None, fetches, feed_dict, options_ptr,\n\u001b[0;32m--> 766\u001b[0;31m                          run_metadata_ptr)\n\u001b[0m\u001b[1;32m    767\u001b[0m       \u001b[0;32mif\u001b[0m \u001b[0mrun_metadata\u001b[0m\u001b[0;34m:\u001b[0m\u001b[0;34m\u001b[0m\u001b[0m\n\u001b[1;32m    768\u001b[0m         \u001b[0mproto_data\u001b[0m \u001b[0;34m=\u001b[0m \u001b[0mtf_session\u001b[0m\u001b[0;34m.\u001b[0m\u001b[0mTF_GetBuffer\u001b[0m\u001b[0;34m(\u001b[0m\u001b[0mrun_metadata_ptr\u001b[0m\u001b[0;34m)\u001b[0m\u001b[0;34m\u001b[0m\u001b[0m\n",
      "\u001b[0;32m/Users/chris/anaconda3/envs/tflow/lib/python2.7/site-packages/tensorflow/python/client/session.pyc\u001b[0m in \u001b[0;36m_run\u001b[0;34m(self, handle, fetches, feed_dict, options, run_metadata)\u001b[0m\n\u001b[1;32m    962\u001b[0m     \u001b[0;32mif\u001b[0m \u001b[0mfinal_fetches\u001b[0m \u001b[0;32mor\u001b[0m \u001b[0mfinal_targets\u001b[0m\u001b[0;34m:\u001b[0m\u001b[0;34m\u001b[0m\u001b[0m\n\u001b[1;32m    963\u001b[0m       results = self._do_run(handle, final_targets, final_fetches,\n\u001b[0;32m--> 964\u001b[0;31m                              feed_dict_string, options, run_metadata)\n\u001b[0m\u001b[1;32m    965\u001b[0m     \u001b[0;32melse\u001b[0m\u001b[0;34m:\u001b[0m\u001b[0;34m\u001b[0m\u001b[0m\n\u001b[1;32m    966\u001b[0m       \u001b[0mresults\u001b[0m \u001b[0;34m=\u001b[0m \u001b[0;34m[\u001b[0m\u001b[0;34m]\u001b[0m\u001b[0;34m\u001b[0m\u001b[0m\n",
      "\u001b[0;32m/Users/chris/anaconda3/envs/tflow/lib/python2.7/site-packages/tensorflow/python/client/session.pyc\u001b[0m in \u001b[0;36m_do_run\u001b[0;34m(self, handle, target_list, fetch_list, feed_dict, options, run_metadata)\u001b[0m\n\u001b[1;32m   1012\u001b[0m     \u001b[0;32mif\u001b[0m \u001b[0mhandle\u001b[0m \u001b[0;32mis\u001b[0m \u001b[0mNone\u001b[0m\u001b[0;34m:\u001b[0m\u001b[0;34m\u001b[0m\u001b[0m\n\u001b[1;32m   1013\u001b[0m       return self._do_call(_run_fn, self._session, feed_dict, fetch_list,\n\u001b[0;32m-> 1014\u001b[0;31m                            target_list, options, run_metadata)\n\u001b[0m\u001b[1;32m   1015\u001b[0m     \u001b[0;32melse\u001b[0m\u001b[0;34m:\u001b[0m\u001b[0;34m\u001b[0m\u001b[0m\n\u001b[1;32m   1016\u001b[0m       return self._do_call(_prun_fn, self._session, handle, feed_dict,\n",
      "\u001b[0;32m/Users/chris/anaconda3/envs/tflow/lib/python2.7/site-packages/tensorflow/python/client/session.pyc\u001b[0m in \u001b[0;36m_do_call\u001b[0;34m(self, fn, *args)\u001b[0m\n\u001b[1;32m   1019\u001b[0m   \u001b[0;32mdef\u001b[0m \u001b[0m_do_call\u001b[0m\u001b[0;34m(\u001b[0m\u001b[0mself\u001b[0m\u001b[0;34m,\u001b[0m \u001b[0mfn\u001b[0m\u001b[0;34m,\u001b[0m \u001b[0;34m*\u001b[0m\u001b[0margs\u001b[0m\u001b[0;34m)\u001b[0m\u001b[0;34m:\u001b[0m\u001b[0;34m\u001b[0m\u001b[0m\n\u001b[1;32m   1020\u001b[0m     \u001b[0;32mtry\u001b[0m\u001b[0;34m:\u001b[0m\u001b[0;34m\u001b[0m\u001b[0m\n\u001b[0;32m-> 1021\u001b[0;31m       \u001b[0;32mreturn\u001b[0m \u001b[0mfn\u001b[0m\u001b[0;34m(\u001b[0m\u001b[0;34m*\u001b[0m\u001b[0margs\u001b[0m\u001b[0;34m)\u001b[0m\u001b[0;34m\u001b[0m\u001b[0m\n\u001b[0m\u001b[1;32m   1022\u001b[0m     \u001b[0;32mexcept\u001b[0m \u001b[0merrors\u001b[0m\u001b[0;34m.\u001b[0m\u001b[0mOpError\u001b[0m \u001b[0;32mas\u001b[0m \u001b[0me\u001b[0m\u001b[0;34m:\u001b[0m\u001b[0;34m\u001b[0m\u001b[0m\n\u001b[1;32m   1023\u001b[0m       \u001b[0mmessage\u001b[0m \u001b[0;34m=\u001b[0m \u001b[0mcompat\u001b[0m\u001b[0;34m.\u001b[0m\u001b[0mas_text\u001b[0m\u001b[0;34m(\u001b[0m\u001b[0me\u001b[0m\u001b[0;34m.\u001b[0m\u001b[0mmessage\u001b[0m\u001b[0;34m)\u001b[0m\u001b[0;34m\u001b[0m\u001b[0m\n",
      "\u001b[0;32m/Users/chris/anaconda3/envs/tflow/lib/python2.7/site-packages/tensorflow/python/client/session.pyc\u001b[0m in \u001b[0;36m_run_fn\u001b[0;34m(session, feed_dict, fetch_list, target_list, options, run_metadata)\u001b[0m\n\u001b[1;32m   1001\u001b[0m         return tf_session.TF_Run(session, options,\n\u001b[1;32m   1002\u001b[0m                                  \u001b[0mfeed_dict\u001b[0m\u001b[0;34m,\u001b[0m \u001b[0mfetch_list\u001b[0m\u001b[0;34m,\u001b[0m \u001b[0mtarget_list\u001b[0m\u001b[0;34m,\u001b[0m\u001b[0;34m\u001b[0m\u001b[0m\n\u001b[0;32m-> 1003\u001b[0;31m                                  status, run_metadata)\n\u001b[0m\u001b[1;32m   1004\u001b[0m \u001b[0;34m\u001b[0m\u001b[0m\n\u001b[1;32m   1005\u001b[0m     \u001b[0;32mdef\u001b[0m \u001b[0m_prun_fn\u001b[0m\u001b[0;34m(\u001b[0m\u001b[0msession\u001b[0m\u001b[0;34m,\u001b[0m \u001b[0mhandle\u001b[0m\u001b[0;34m,\u001b[0m \u001b[0mfeed_dict\u001b[0m\u001b[0;34m,\u001b[0m \u001b[0mfetch_list\u001b[0m\u001b[0;34m)\u001b[0m\u001b[0;34m:\u001b[0m\u001b[0;34m\u001b[0m\u001b[0m\n",
      "\u001b[0;31mKeyboardInterrupt\u001b[0m: "
     ]
    }
   ],
   "source": [
    "trainer.train(shared_queue, LOG_DIR)"
   ]
  },
  {
   "cell_type": "code",
   "execution_count": 9,
   "metadata": {
    "collapsed": false
   },
   "outputs": [
    {
     "name": "stdout",
     "output_type": "stream",
     "text": [
      "total 9480\r\n",
      "-rw-r--r--  1 chris  staff   1.1M Dec  4 20:57 graph.pbtxt\r\n",
      "-rw-r--r--  1 chris  staff   1.8K Dec  4 20:57 model.ckpt-0.index\r\n",
      "-rw-r--r--  1 chris  staff   1.7M Dec  4 20:57 model.ckpt-0.data-00000-of-00001\r\n",
      "-rw-r--r--  1 chris  staff    81B Dec  4 20:57 checkpoint\r\n",
      "-rw-r--r--  1 chris  staff   393K Dec  4 20:58 model.ckpt-0.meta\r\n",
      "-rw-r--r--  1 chris  staff   278K Dec  4 20:58 tf_trace-1.json\r\n",
      "-rw-r--r--  1 chris  staff   1.1M Dec  4 20:59 events.out.tfevents.1480913877.DN51sljf.SUNet\r\n"
     ]
    }
   ],
   "source": [
    "! ls -lrth {LOG_DIR}"
   ]
  },
  {
   "cell_type": "code",
   "execution_count": 14,
   "metadata": {
    "collapsed": false
   },
   "outputs": [],
   "source": [
    "s = tf.InteractiveSession()\n",
    "s.run(tf.global_variables_initializer())\n",
    "s.run(tf.local_variables_initializer())\n",
    "_ = tf.train.start_queue_runners(s)"
   ]
  },
  {
   "cell_type": "code",
   "execution_count": 55,
   "metadata": {
    "collapsed": false
   },
   "outputs": [],
   "source": [
    "labels = shared_queue.outputs['labels']#.eval()\n",
    "dataset_idxs = shared_queue.outputs['dataset-index']#.eval()\n",
    "\n",
    "fc_out = tf.random_normal([32, NUM_TASKS])\n",
    "logits = fc_out"
   ]
  },
  {
   "cell_type": "code",
   "execution_count": 25,
   "metadata": {
    "collapsed": false
   },
   "outputs": [
    {
     "data": {
      "text/plain": [
       "array([ 1, -1, -1, -1,  0,  0])"
      ]
     },
     "execution_count": 25,
     "metadata": {},
     "output_type": "execute_result"
    }
   ],
   "source": [
    "labels[dataset_idxs == 1,:].eval()"
   ]
  },
  {
   "cell_type": "code",
   "execution_count": 9,
   "metadata": {
    "collapsed": false
   },
   "outputs": [],
   "source": [
    "tf.nn.softmax_cross_entropy_with_logits(fc_out, )"
   ]
  },
  {
   "cell_type": "code",
   "execution_count": 19,
   "metadata": {
    "collapsed": false
   },
   "outputs": [
    {
     "data": {
      "text/plain": [
       "array([2, 0, 0, 0, 1, 0, 1, 2, 1, 1, 1, 2, 2, 1, 2, 1, 2, 1, 0, 2, 2, 1, 2,\n",
       "       1, 0, 0, 0, 0, 1, 2, 0, 2], dtype=int32)"
      ]
     },
     "execution_count": 19,
     "metadata": {},
     "output_type": "execute_result"
    }
   ],
   "source": [
    "dataset_idxs"
   ]
  },
  {
   "cell_type": "code",
   "execution_count": null,
   "metadata": {
    "collapsed": false
   },
   "outputs": [],
   "source": []
  },
  {
   "cell_type": "code",
   "execution_count": 35,
   "metadata": {
    "collapsed": true
   },
   "outputs": [],
   "source": [
    "tf.bool?"
   ]
  },
  {
   "cell_type": "code",
   "execution_count": 36,
   "metadata": {
    "collapsed": true
   },
   "outputs": [],
   "source": [
    "tf.boolean_mask?"
   ]
  },
  {
   "cell_type": "code",
   "execution_count": 41,
   "metadata": {
    "collapsed": false
   },
   "outputs": [
    {
     "name": "stdout",
     "output_type": "stream",
     "text": [
      "(16, 6)\n",
      "(12, 6)\n",
      "(11, 6)\n"
     ]
    }
   ],
   "source": [
    "for dset_idx in range(3):\n",
    "    print(tf.boolean_mask(labels, tf.equal(dataset_idxs, dset_idx)).eval().shape)"
   ]
  },
  {
   "cell_type": "code",
   "execution_count": 44,
   "metadata": {
    "collapsed": false
   },
   "outputs": [
    {
     "data": {
      "text/plain": [
       "<tf.Tensor 'Equal_14:0' shape=(32, 6) dtype=bool>"
      ]
     },
     "execution_count": 44,
     "metadata": {},
     "output_type": "execute_result"
    }
   ],
   "source": [
    "tf.equal(labels, -1)"
   ]
  },
  {
   "cell_type": "code",
   "execution_count": 46,
   "metadata": {
    "collapsed": false
   },
   "outputs": [
    {
     "ename": "TypeError",
     "evalue": "'Tensor' object does not support item assignment",
     "output_type": "error",
     "traceback": [
      "\u001b[0;31m---------------------------------------------------------------------------\u001b[0m",
      "\u001b[0;31mTypeError\u001b[0m                                 Traceback (most recent call last)",
      "\u001b[0;32m<ipython-input-46-424036a71b9f>\u001b[0m in \u001b[0;36m<module>\u001b[0;34m()\u001b[0m\n\u001b[1;32m      1\u001b[0m \u001b[0mret\u001b[0m \u001b[0;34m=\u001b[0m \u001b[0mtf\u001b[0m\u001b[0;34m.\u001b[0m\u001b[0mones_like\u001b[0m\u001b[0;34m(\u001b[0m\u001b[0mlabels\u001b[0m\u001b[0;34m)\u001b[0m\u001b[0;34m\u001b[0m\u001b[0m\n\u001b[0;32m----> 2\u001b[0;31m \u001b[0mret\u001b[0m\u001b[0;34m[\u001b[0m\u001b[0mtf\u001b[0m\u001b[0;34m.\u001b[0m\u001b[0mequal\u001b[0m\u001b[0;34m(\u001b[0m\u001b[0mlabels\u001b[0m\u001b[0;34m,\u001b[0m \u001b[0;34m-\u001b[0m\u001b[0;36m1\u001b[0m\u001b[0;34m)\u001b[0m\u001b[0;34m]\u001b[0m \u001b[0;34m=\u001b[0m \u001b[0;36m0\u001b[0m\u001b[0;34m\u001b[0m\u001b[0m\n\u001b[0m",
      "\u001b[0;31mTypeError\u001b[0m: 'Tensor' object does not support item assignment"
     ]
    }
   ],
   "source": [
    "ret = tf.ones_like(labels)\n",
    "tf.where(tf.equal(labels, -1), tf.zeros_like(labels), tf.ones_like())"
   ]
  },
  {
   "cell_type": "code",
   "execution_count": 56,
   "metadata": {
    "collapsed": false
   },
   "outputs": [],
   "source": [
    "sigmoid_xentropy_loss = slim.losses.sigmoid_cross_entropy(logits, labels)"
   ]
  },
  {
   "cell_type": "code",
   "execution_count": 57,
   "metadata": {
    "collapsed": false
   },
   "outputs": [
    {
     "data": {
      "text/plain": [
       "<tf.Tensor 'sigmoid_cross_entropy_loss/value:0' shape=() dtype=float32>"
      ]
     },
     "execution_count": 57,
     "metadata": {},
     "output_type": "execute_result"
    }
   ],
   "source": [
    "sigmoid_xentropy_loss"
   ]
  },
  {
   "cell_type": "code",
   "execution_count": 52,
   "metadata": {
    "collapsed": false
   },
   "outputs": [
    {
     "data": {
      "text/plain": [
       "tf.int64"
      ]
     },
     "execution_count": 52,
     "metadata": {},
     "output_type": "execute_result"
    }
   ],
   "source": [
    "labels.dtype"
   ]
  },
  {
   "cell_type": "code",
   "execution_count": 53,
   "metadata": {
    "collapsed": true
   },
   "outputs": [],
   "source": [
    "tf.zeros_like?"
   ]
  },
  {
   "cell_type": "code",
   "execution_count": null,
   "metadata": {
    "collapsed": true
   },
   "outputs": [],
   "source": []
  }
 ],
 "metadata": {
  "anaconda-cloud": {},
  "kernelspec": {
   "display_name": "Python [conda env:tflow]",
   "language": "python",
   "name": "conda-env-tflow-py"
  },
  "language_info": {
   "codemirror_mode": {
    "name": "ipython",
    "version": 2
   },
   "file_extension": ".py",
   "mimetype": "text/x-python",
   "name": "python",
   "nbconvert_exporter": "python",
   "pygments_lexer": "ipython2",
   "version": "2.7.12"
  }
 },
 "nbformat": 4,
 "nbformat_minor": 1
}
