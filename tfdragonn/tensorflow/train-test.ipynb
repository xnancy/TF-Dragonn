{
 "cells": [
  {
   "cell_type": "code",
   "execution_count": 1,
   "metadata": {
    "collapsed": false
   },
   "outputs": [],
   "source": [
    "import os.path\n",
    "\n",
    "import tensorflow as tf\n",
    "from tensorflow.contrib import slim\n",
    "\n",
    "import dataset_interval_reader\n",
    "from shared_examples_queue import SharedExamplesQueue\n",
    "from models import SequenceAndDnaseClassifier\n",
    "from trainers import ClassiferTrainer"
   ]
  },
  {
   "cell_type": "code",
   "execution_count": 2,
   "metadata": {
    "collapsed": false
   },
   "outputs": [],
   "source": [
    "NUM_TASKS = 1\n",
    "\n",
    "DATA_DIR = 'test-data'\n",
    "LOG_DIR = 'test-logs'\n",
    "\n",
    "# INTERVALS_FILE = os.path.join(DATA_DIR, 'intervals_file.json')\n",
    "# INPUTS_FILE = os.path.join(DATA_DIR, 'inputs_file.json')\n",
    "\n",
    "INPUTS_FILE = \"/users/jisraeli/src/tf-dragonn_tensorflow/tfdragonn/tensorflow/examples/processed_inputs_example.json\"\n",
    "INTERVALS_FILE = \"/users/jisraeli/src/tf-dragonn_tensorflow/tfdragonn/tensorflow/examples/myc_conservative_dnase_regions_and_labels_stride200_flank400.json\""
   ]
  },
  {
   "cell_type": "code",
   "execution_count": 3,
   "metadata": {
    "collapsed": true
   },
   "outputs": [],
   "source": [
    "! rm -rf {LOG_DIR}/*"
   ]
  },
  {
   "cell_type": "code",
   "execution_count": 4,
   "metadata": {
    "collapsed": false
   },
   "outputs": [],
   "source": [
    "readers, task_names = dataset_interval_reader.get_readers_and_tasks(INPUTS_FILE, INTERVALS_FILE)\n",
    "shared_queue = SharedExamplesQueue(readers, task_names, batch_size=32)"
   ]
  },
  {
   "cell_type": "code",
   "execution_count": 5,
   "metadata": {
    "collapsed": false
   },
   "outputs": [],
   "source": [
    "model = SequenceAndDnaseClassifier(num_tasks=NUM_TASKS)"
   ]
  },
  {
   "cell_type": "code",
   "execution_count": 6,
   "metadata": {
    "collapsed": false
   },
   "outputs": [],
   "source": [
    "trainer = ClassiferTrainer(model, epoch_size=5000)"
   ]
  },
  {
   "cell_type": "code",
   "execution_count": null,
   "metadata": {
    "collapsed": false
   },
   "outputs": [
    {
     "name": "stdout",
     "output_type": "stream",
     "text": [
      "seq_preds shape (32, 1, 928, 25)\n",
      "dnase_preds shape (32, 1, 928, 25)\n",
      "concat shape (32, 2, 928, 25)\n",
      "after combined conv layers shape (32, 1, 904, 55)\n",
      "INFO:tensorflow:Summary name sequence_conv1/weights:gradient is illegal; using sequence_conv1/weights_gradient instead.\n",
      "INFO:tensorflow:Summary name sequence_conv1/weights:gradient_norm is illegal; using sequence_conv1/weights_gradient_norm instead.\n",
      "INFO:tensorflow:Summary name sequence_conv1/biases:gradient is illegal; using sequence_conv1/biases_gradient instead.\n",
      "INFO:tensorflow:Summary name sequence_conv1/biases:gradient_norm is illegal; using sequence_conv1/biases_gradient_norm instead.\n",
      "INFO:tensorflow:Summary name sequence_conv2/weights:gradient is illegal; using sequence_conv2/weights_gradient instead.\n",
      "INFO:tensorflow:Summary name sequence_conv2/weights:gradient_norm is illegal; using sequence_conv2/weights_gradient_norm instead.\n",
      "INFO:tensorflow:Summary name sequence_conv2/biases:gradient is illegal; using sequence_conv2/biases_gradient instead.\n",
      "INFO:tensorflow:Summary name sequence_conv2/biases:gradient_norm is illegal; using sequence_conv2/biases_gradient_norm instead.\n",
      "INFO:tensorflow:Summary name sequence_conv3/weights:gradient is illegal; using sequence_conv3/weights_gradient instead.\n",
      "INFO:tensorflow:Summary name sequence_conv3/weights:gradient_norm is illegal; using sequence_conv3/weights_gradient_norm instead.\n",
      "INFO:tensorflow:Summary name sequence_conv3/biases:gradient is illegal; using sequence_conv3/biases_gradient instead.\n",
      "INFO:tensorflow:Summary name sequence_conv3/biases:gradient_norm is illegal; using sequence_conv3/biases_gradient_norm instead.\n",
      "INFO:tensorflow:Summary name dnase_conv1/weights:gradient is illegal; using dnase_conv1/weights_gradient instead.\n",
      "INFO:tensorflow:Summary name dnase_conv1/weights:gradient_norm is illegal; using dnase_conv1/weights_gradient_norm instead.\n",
      "INFO:tensorflow:Summary name dnase_conv1/biases:gradient is illegal; using dnase_conv1/biases_gradient instead.\n",
      "INFO:tensorflow:Summary name dnase_conv1/biases:gradient_norm is illegal; using dnase_conv1/biases_gradient_norm instead.\n",
      "INFO:tensorflow:Summary name dnase_conv2/weights:gradient is illegal; using dnase_conv2/weights_gradient instead.\n",
      "INFO:tensorflow:Summary name dnase_conv2/weights:gradient_norm is illegal; using dnase_conv2/weights_gradient_norm instead.\n",
      "INFO:tensorflow:Summary name dnase_conv2/biases:gradient is illegal; using dnase_conv2/biases_gradient instead.\n",
      "INFO:tensorflow:Summary name dnase_conv2/biases:gradient_norm is illegal; using dnase_conv2/biases_gradient_norm instead.\n",
      "INFO:tensorflow:Summary name dnase_conv3/weights:gradient is illegal; using dnase_conv3/weights_gradient instead.\n",
      "INFO:tensorflow:Summary name dnase_conv3/weights:gradient_norm is illegal; using dnase_conv3/weights_gradient_norm instead.\n",
      "INFO:tensorflow:Summary name dnase_conv3/biases:gradient is illegal; using dnase_conv3/biases_gradient instead.\n",
      "INFO:tensorflow:Summary name dnase_conv3/biases:gradient_norm is illegal; using dnase_conv3/biases_gradient_norm instead.\n",
      "INFO:tensorflow:Summary name combined_conv1/weights:gradient is illegal; using combined_conv1/weights_gradient instead.\n",
      "INFO:tensorflow:Summary name combined_conv1/weights:gradient_norm is illegal; using combined_conv1/weights_gradient_norm instead.\n",
      "INFO:tensorflow:Summary name combined_conv1/biases:gradient is illegal; using combined_conv1/biases_gradient instead.\n",
      "INFO:tensorflow:Summary name combined_conv1/biases:gradient_norm is illegal; using combined_conv1/biases_gradient_norm instead.\n",
      "INFO:tensorflow:Summary name fc/weights:gradient is illegal; using fc/weights_gradient instead.\n",
      "INFO:tensorflow:Summary name fc/weights:gradient_norm is illegal; using fc/weights_gradient_norm instead.\n",
      "INFO:tensorflow:Summary name fc/biases:gradient is illegal; using fc/biases_gradient instead.\n",
      "INFO:tensorflow:Summary name fc/biases:gradient_norm is illegal; using fc/biases_gradient_norm instead.\n",
      "WARNING:tensorflow:From /users/cprobert/anaconda3/envs/tfbind/lib/python2.7/site-packages/tensorflow/python/training/supervisor.py:344 in __init__.: __init__ (from tensorflow.python.training.summary_io) is deprecated and will be removed after 2016-11-30.\n",
      "Instructions for updating:\n",
      "Please switch to tf.summary.FileWriter. The interface and behavior is the same; this is just a rename.\n"
     ]
    }
   ],
   "source": [
    "trainer.train(shared_queue, LOG_DIR)"
   ]
  },
  {
   "cell_type": "code",
   "execution_count": 10,
   "metadata": {
    "collapsed": false
   },
   "outputs": [],
   "source": [
    "from tensorflow.python.tools import inspect_checkpoint"
   ]
  },
  {
   "cell_type": "code",
   "execution_count": 11,
   "metadata": {
    "collapsed": false
   },
   "outputs": [
    {
     "ename": "TypeError",
     "evalue": "print_tensors_in_checkpoint_file() takes exactly 2 arguments (1 given)",
     "output_type": "error",
     "traceback": [
      "\u001b[0;31m---------------------------------------------------------------------------\u001b[0m",
      "\u001b[0;31mTypeError\u001b[0m                                 Traceback (most recent call last)",
      "\u001b[0;32m<ipython-input-11-8ef4cf6bfefb>\u001b[0m in \u001b[0;36m<module>\u001b[0;34m()\u001b[0m\n\u001b[0;32m----> 1\u001b[0;31m \u001b[0minspect_checkpoint\u001b[0m\u001b[0;34m.\u001b[0m\u001b[0mprint_tensors_in_checkpoint_file\u001b[0m\u001b[0;34m(\u001b[0m\u001b[0;34m'test-logs/model.ckpt-0.data-00000-of-00001'\u001b[0m\u001b[0;34m)\u001b[0m\u001b[0;34m\u001b[0m\u001b[0m\n\u001b[0m",
      "\u001b[0;31mTypeError\u001b[0m: print_tensors_in_checkpoint_file() takes exactly 2 arguments (1 given)"
     ]
    }
   ],
   "source": [
    "inspect_checkpoint.print_tensors_in_checkpoint_file('test-logs/model.ckpt-0.data-00000-of-00001')"
   ]
  },
  {
   "cell_type": "code",
   "execution_count": null,
   "metadata": {
    "collapsed": false
   },
   "outputs": [],
   "source": [
    "labels = shared_queue.outputs['labels']#.eval()\n",
    "dataset_idxs = shared_queue.outputs['dataset-index']#.eval()\n",
    "\n",
    "fc_out = tf.random_normal([32, NUM_TASKS])\n",
    "logits = fc_out"
   ]
  },
  {
   "cell_type": "code",
   "execution_count": null,
   "metadata": {
    "collapsed": false
   },
   "outputs": [],
   "source": [
    "labels[dataset_idxs == 1,:].eval()"
   ]
  },
  {
   "cell_type": "code",
   "execution_count": null,
   "metadata": {
    "collapsed": false
   },
   "outputs": [],
   "source": [
    "tf.nn.softmax_cross_entropy_with_logits(fc_out, )"
   ]
  },
  {
   "cell_type": "code",
   "execution_count": 11,
   "metadata": {
    "collapsed": false
   },
   "outputs": [],
   "source": [
    "from tensorflow.contrib import slim"
   ]
  },
  {
   "cell_type": "code",
   "execution_count": 13,
   "metadata": {
    "collapsed": false
   },
   "outputs": [
    {
     "data": {
      "text/plain": [
       "[<tensorflow.python.ops.variables.Variable at 0x11b340ad0>,\n",
       " <tensorflow.python.ops.variables.Variable at 0x105799950>,\n",
       " <tensorflow.python.ops.variables.Variable at 0x105799990>,\n",
       " <tensorflow.python.ops.variables.Variable at 0x1057e9550>,\n",
       " <tensorflow.python.ops.variables.Variable at 0x1057e9210>,\n",
       " <tensorflow.python.ops.variables.Variable at 0x1184df5d0>,\n",
       " <tensorflow.python.ops.variables.Variable at 0x118519e50>,\n",
       " <tensorflow.python.ops.variables.Variable at 0x1174026d0>,\n",
       " <tensorflow.python.ops.variables.Variable at 0x11852c410>,\n",
       " <tensorflow.python.ops.variables.Variable at 0x118573350>,\n",
       " <tensorflow.python.ops.variables.Variable at 0x117402790>,\n",
       " <tensorflow.python.ops.variables.Variable at 0x118fef4d0>,\n",
       " <tensorflow.python.ops.variables.Variable at 0x11903cdd0>,\n",
       " <tensorflow.python.ops.variables.Variable at 0x117402750>,\n",
       " <tensorflow.python.ops.variables.Variable at 0x11903ce50>,\n",
       " <tensorflow.python.ops.variables.Variable at 0x11903cc50>]"
      ]
     },
     "execution_count": 13,
     "metadata": {},
     "output_type": "execute_result"
    }
   ],
   "source": [
    "slim.get_model_variables()"
   ]
  },
  {
   "cell_type": "code",
   "execution_count": 14,
   "metadata": {
    "collapsed": true
   },
   "outputs": [],
   "source": [
    "v = slim.get_model_variables()[0]"
   ]
  },
  {
   "cell_type": "code",
   "execution_count": 20,
   "metadata": {
    "collapsed": false
   },
   "outputs": [],
   "source": [
    "opt.get_slot?"
   ]
  },
  {
   "cell_type": "code",
   "execution_count": null,
   "metadata": {
    "collapsed": false
   },
   "outputs": [],
   "source": [
    "for dset_idx in range(3):\n",
    "    print(tf.boolean_mask(labels, tf.equal(dataset_idxs, dset_idx)).eval().shape)"
   ]
  },
  {
   "cell_type": "code",
   "execution_count": null,
   "metadata": {
    "collapsed": false
   },
   "outputs": [],
   "source": [
    "tf.equal(labels, -1)"
   ]
  },
  {
   "cell_type": "code",
   "execution_count": null,
   "metadata": {
    "collapsed": false
   },
   "outputs": [],
   "source": [
    "ret = tf.ones_like(labels)\n",
    "tf.where(tf.equal(labels, -1), tf.zeros_like(labels), tf.ones_like())"
   ]
  },
  {
   "cell_type": "code",
   "execution_count": null,
   "metadata": {
    "collapsed": false
   },
   "outputs": [],
   "source": [
    "sigmoid_xentropy_loss = slim.losses.sigmoid_cross_entropy(logits, labels)"
   ]
  },
  {
   "cell_type": "code",
   "execution_count": null,
   "metadata": {
    "collapsed": false
   },
   "outputs": [],
   "source": [
    "sigmoid_xentropy_loss"
   ]
  },
  {
   "cell_type": "code",
   "execution_count": null,
   "metadata": {
    "collapsed": false
   },
   "outputs": [],
   "source": [
    "labels.dtype"
   ]
  },
  {
   "cell_type": "code",
   "execution_count": null,
   "metadata": {
    "collapsed": true
   },
   "outputs": [],
   "source": [
    "tf.zeros_like?"
   ]
  },
  {
   "cell_type": "code",
   "execution_count": 9,
   "metadata": {
    "collapsed": false
   },
   "outputs": [
    {
     "data": {
      "text/plain": [
       "['intervals/start',\n",
       " 'labels',\n",
       " 'data/dnase_data_dir',\n",
       " 'dataset',\n",
       " 'intervals/chrom',\n",
       " 'dataset-index',\n",
       " 'data/genome_data_dir',\n",
       " 'intervals/end']"
      ]
     },
     "execution_count": 9,
     "metadata": {},
     "output_type": "execute_result"
    }
   ],
   "source": [
    "shared_queue.outputs.keys()"
   ]
  },
  {
   "cell_type": "code",
   "execution_count": 4,
   "metadata": {
    "collapsed": false
   },
   "outputs": [
    {
     "name": "stdout",
     "output_type": "stream",
     "text": [
      "{\r\n",
      "    \"task_names\": [\r\n",
      "        \"MYC\"\r\n",
      "    ], \r\n",
      "    \"A549\": {\r\n",
      "        \"regions\": \"/users/jisraeli/src/tf-dragonn/examples/label_regions/myc_conservative_dnase_regions_and_labels_stride200_flank400.A549.intervals.bed\", \r\n",
      "        \"labels\": \"/users/jisraeli/src/tf-dragonn/examples/label_regions/myc_conservative_dnase_regions_and_labels_stride200_flank400.A549.labels.npy\"\r\n",
      "    }\r\n",
      "}\r\n"
     ]
    }
   ],
   "source": [
    "! cat /users/jisraeli/src/tf-dragonn_tensorflow/tfdragonn/tensorflow/examples/myc_conservative_dnase_regions_and_labels_stride200_flank400.json"
   ]
  },
  {
   "cell_type": "code",
   "execution_count": 8,
   "metadata": {
    "collapsed": true
   },
   "outputs": [],
   "source": [
    "import tensorflow as tf"
   ]
  },
  {
   "cell_type": "code",
   "execution_count": 9,
   "metadata": {
    "collapsed": false
   },
   "outputs": [
    {
     "data": {
      "text/plain": [
       "'0.11.0'"
      ]
     },
     "execution_count": 9,
     "metadata": {},
     "output_type": "execute_result"
    }
   ],
   "source": [
    "tf.__version__"
   ]
  },
  {
   "cell_type": "code",
   "execution_count": null,
   "metadata": {
    "collapsed": true
   },
   "outputs": [],
   "source": []
  }
 ],
 "metadata": {
  "anaconda-cloud": {},
  "kernelspec": {
   "display_name": "Python [conda env:tfbind]",
   "language": "python",
   "name": "conda-env-tfbind-py"
  },
  "language_info": {
   "codemirror_mode": {
    "name": "ipython",
    "version": 2
   },
   "file_extension": ".py",
   "mimetype": "text/x-python",
   "name": "python",
   "nbconvert_exporter": "python",
   "pygments_lexer": "ipython2",
   "version": "2.7.12"
  }
 },
 "nbformat": 4,
 "nbformat_minor": 1
}
