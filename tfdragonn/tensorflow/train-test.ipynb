{
 "cells": [
  {
   "cell_type": "code",
   "execution_count": 1,
   "metadata": {
    "collapsed": false
   },
   "outputs": [],
   "source": [
    "import os.path\n",
    "\n",
    "import tensorflow as tf\n",
    "from tensorflow.contrib import slim\n",
    "\n",
    "import dataset_interval_reader\n",
    "from shared_examples_queue import SharedExamplesQueue\n",
    "from models import SequenceAndDnaseClassifier\n",
    "from trainers import ClassiferTrainer"
   ]
  },
  {
   "cell_type": "code",
   "execution_count": 2,
   "metadata": {
    "collapsed": false
   },
   "outputs": [],
   "source": [
    "NUM_TASKS = 6\n",
    "\n",
    "DATA_DIR = 'test-data'\n",
    "LOG_DIR = 'test-logs'\n",
    "\n",
    "INTERVALS_FILE = os.path.join(DATA_DIR, 'intervals_file.json')\n",
    "INPUTS_FILE = os.path.join(DATA_DIR, 'inputs_file.json')"
   ]
  },
  {
   "cell_type": "code",
   "execution_count": 3,
   "metadata": {
    "collapsed": true
   },
   "outputs": [],
   "source": [
    "! rm -rf {LOG_DIR}/*"
   ]
  },
  {
   "cell_type": "code",
   "execution_count": 4,
   "metadata": {
    "collapsed": false
   },
   "outputs": [],
   "source": [
    "readers, task_names = dataset_interval_reader.get_readers_and_tasks(INPUTS_FILE, INTERVALS_FILE)\n",
    "shared_queue = SharedExamplesQueue(readers, task_names, batch_size=32)"
   ]
  },
  {
   "cell_type": "code",
   "execution_count": 5,
   "metadata": {
    "collapsed": false
   },
   "outputs": [],
   "source": [
    "model = SequenceAndDnaseClassifier(num_tasks=NUM_TASKS)"
   ]
  },
  {
   "cell_type": "code",
   "execution_count": 6,
   "metadata": {
    "collapsed": false
   },
   "outputs": [],
   "source": [
    "trainer = ClassiferTrainer(model, epoch_size=5000)"
   ]
  },
  {
   "cell_type": "code",
   "execution_count": 7,
   "metadata": {
    "collapsed": false
   },
   "outputs": [
    {
     "name": "stdout",
     "output_type": "stream",
     "text": [
      "seq_preds shape (32, 1, 928, 25)\n",
      "dnase_preds shape (32, 1, 928, 25)\n",
      "concat shape (32, 2, 928, 25)\n",
      "after combined conv layers shape (32, 1, 904, 55)\n",
      "INFO:tensorflow:Summary name sequence_conv1/weights:gradient is illegal; using sequence_conv1/weights_gradient instead.\n",
      "INFO:tensorflow:Summary name sequence_conv1/weights:gradient_norm is illegal; using sequence_conv1/weights_gradient_norm instead.\n",
      "INFO:tensorflow:Summary name sequence_conv1/biases:gradient is illegal; using sequence_conv1/biases_gradient instead.\n",
      "INFO:tensorflow:Summary name sequence_conv1/biases:gradient_norm is illegal; using sequence_conv1/biases_gradient_norm instead.\n",
      "INFO:tensorflow:Summary name sequence_conv2/weights:gradient is illegal; using sequence_conv2/weights_gradient instead.\n",
      "INFO:tensorflow:Summary name sequence_conv2/weights:gradient_norm is illegal; using sequence_conv2/weights_gradient_norm instead.\n",
      "INFO:tensorflow:Summary name sequence_conv2/biases:gradient is illegal; using sequence_conv2/biases_gradient instead.\n",
      "INFO:tensorflow:Summary name sequence_conv2/biases:gradient_norm is illegal; using sequence_conv2/biases_gradient_norm instead.\n",
      "INFO:tensorflow:Summary name sequence_conv3/weights:gradient is illegal; using sequence_conv3/weights_gradient instead.\n",
      "INFO:tensorflow:Summary name sequence_conv3/weights:gradient_norm is illegal; using sequence_conv3/weights_gradient_norm instead.\n",
      "INFO:tensorflow:Summary name sequence_conv3/biases:gradient is illegal; using sequence_conv3/biases_gradient instead.\n",
      "INFO:tensorflow:Summary name sequence_conv3/biases:gradient_norm is illegal; using sequence_conv3/biases_gradient_norm instead.\n",
      "INFO:tensorflow:Summary name dnase_conv1/weights:gradient is illegal; using dnase_conv1/weights_gradient instead.\n",
      "INFO:tensorflow:Summary name dnase_conv1/weights:gradient_norm is illegal; using dnase_conv1/weights_gradient_norm instead.\n",
      "INFO:tensorflow:Summary name dnase_conv1/biases:gradient is illegal; using dnase_conv1/biases_gradient instead.\n",
      "INFO:tensorflow:Summary name dnase_conv1/biases:gradient_norm is illegal; using dnase_conv1/biases_gradient_norm instead.\n",
      "INFO:tensorflow:Summary name dnase_conv2/weights:gradient is illegal; using dnase_conv2/weights_gradient instead.\n",
      "INFO:tensorflow:Summary name dnase_conv2/weights:gradient_norm is illegal; using dnase_conv2/weights_gradient_norm instead.\n",
      "INFO:tensorflow:Summary name dnase_conv2/biases:gradient is illegal; using dnase_conv2/biases_gradient instead.\n",
      "INFO:tensorflow:Summary name dnase_conv2/biases:gradient_norm is illegal; using dnase_conv2/biases_gradient_norm instead.\n",
      "INFO:tensorflow:Summary name dnase_conv3/weights:gradient is illegal; using dnase_conv3/weights_gradient instead.\n",
      "INFO:tensorflow:Summary name dnase_conv3/weights:gradient_norm is illegal; using dnase_conv3/weights_gradient_norm instead.\n",
      "INFO:tensorflow:Summary name dnase_conv3/biases:gradient is illegal; using dnase_conv3/biases_gradient instead.\n",
      "INFO:tensorflow:Summary name dnase_conv3/biases:gradient_norm is illegal; using dnase_conv3/biases_gradient_norm instead.\n",
      "INFO:tensorflow:Summary name combined_conv1/weights:gradient is illegal; using combined_conv1/weights_gradient instead.\n",
      "INFO:tensorflow:Summary name combined_conv1/weights:gradient_norm is illegal; using combined_conv1/weights_gradient_norm instead.\n",
      "INFO:tensorflow:Summary name combined_conv1/biases:gradient is illegal; using combined_conv1/biases_gradient instead.\n",
      "INFO:tensorflow:Summary name combined_conv1/biases:gradient_norm is illegal; using combined_conv1/biases_gradient_norm instead.\n",
      "INFO:tensorflow:Summary name fc/weights:gradient is illegal; using fc/weights_gradient instead.\n",
      "INFO:tensorflow:Summary name fc/weights:gradient_norm is illegal; using fc/weights_gradient_norm instead.\n",
      "INFO:tensorflow:Summary name fc/biases:gradient is illegal; using fc/biases_gradient instead.\n",
      "INFO:tensorflow:Summary name fc/biases:gradient_norm is illegal; using fc/biases_gradient_norm instead.\n",
      "INFO:tensorflow:Starting Session.\n",
      "INFO:tensorflow:Starting Queues.\n",
      "INFO:tensorflow:global_step/sec: 0\n",
      "INFO:tensorflow:global_step/sec: 0\n",
      "INFO:tensorflow:Writing trace to test-logs/tf_trace-1.json\n",
      "INFO:tensorflow:global step 1: loss = 0.7751 (16.01 sec/step)\n",
      "INFO:tensorflow:global step 2: loss = 0.6885 (0.73 sec/step)\n",
      "INFO:tensorflow:global step 3: loss = 0.7257 (0.74 sec/step)\n",
      "INFO:tensorflow:global step 4: loss = 0.7159 (0.77 sec/step)\n",
      "INFO:tensorflow:global_step/sec: 0.397633\n",
      "INFO:tensorflow:global step 5: loss = 0.7012 (1.15 sec/step)\n",
      "INFO:tensorflow:global step 6: loss = 0.7237 (1.05 sec/step)\n",
      "INFO:tensorflow:global step 7: loss = 0.6882 (0.95 sec/step)\n",
      "INFO:tensorflow:global step 8: loss = 0.7033 (1.01 sec/step)\n",
      "INFO:tensorflow:global step 9: loss = 0.7069 (0.94 sec/step)\n",
      "INFO:tensorflow:global step 10: loss = 0.6751 (0.95 sec/step)\n",
      "INFO:tensorflow:global step 11: loss = 0.6915 (0.93 sec/step)\n",
      "INFO:tensorflow:global step 12: loss = 0.7040 (0.90 sec/step)\n",
      "INFO:tensorflow:global step 13: loss = 0.6920 (0.92 sec/step)\n",
      "INFO:tensorflow:global step 14: loss = 0.6948 (0.89 sec/step)\n",
      "INFO:tensorflow:global_step/sec: 1.01169\n",
      "INFO:tensorflow:global step 15: loss = 0.7156 (1.54 sec/step)\n",
      "INFO:tensorflow:global step 16: loss = 0.6887 (0.86 sec/step)\n",
      "INFO:tensorflow:global step 17: loss = 0.6824 (0.78 sec/step)\n",
      "INFO:tensorflow:global step 18: loss = 0.6862 (0.81 sec/step)\n",
      "INFO:tensorflow:global step 19: loss = 0.6936 (0.86 sec/step)\n",
      "INFO:tensorflow:global step 20: loss = 0.6990 (0.85 sec/step)\n",
      "INFO:tensorflow:global step 21: loss = 0.7033 (0.93 sec/step)\n",
      "INFO:tensorflow:global step 22: loss = 0.6964 (0.91 sec/step)\n",
      "INFO:tensorflow:global step 23: loss = 0.6882 (1.01 sec/step)\n",
      "INFO:tensorflow:global step 24: loss = 0.6882 (0.97 sec/step)\n",
      "INFO:tensorflow:global_step/sec: 1.00133\n",
      "INFO:tensorflow:global step 25: loss = 0.6932 (1.53 sec/step)\n",
      "INFO:tensorflow:global step 26: loss = 0.6872 (1.10 sec/step)\n",
      "INFO:tensorflow:global step 27: loss = 0.6918 (0.82 sec/step)\n",
      "INFO:tensorflow:global step 28: loss = 0.6917 (0.92 sec/step)\n",
      "INFO:tensorflow:global step 29: loss = 0.6874 (0.96 sec/step)\n",
      "INFO:tensorflow:global step 30: loss = 0.6955 (0.82 sec/step)\n",
      "INFO:tensorflow:global step 31: loss = 0.6882 (0.94 sec/step)\n",
      "INFO:tensorflow:global step 32: loss = 0.6921 (0.87 sec/step)\n",
      "INFO:tensorflow:global step 33: loss = 0.6872 (0.96 sec/step)\n",
      "INFO:tensorflow:global step 34: loss = 0.6996 (0.96 sec/step)\n",
      "INFO:tensorflow:global_step/sec: 0.99885\n",
      "INFO:tensorflow:global step 35: loss = 0.6976 (1.68 sec/step)\n",
      "INFO:tensorflow:global step 36: loss = 0.6982 (1.07 sec/step)\n",
      "INFO:tensorflow:global step 37: loss = 0.6859 (1.00 sec/step)\n",
      "INFO:tensorflow:global step 38: loss = 0.6886 (0.89 sec/step)\n",
      "INFO:tensorflow:global step 39: loss = 0.6889 (0.94 sec/step)\n",
      "INFO:tensorflow:global step 40: loss = 0.6932 (0.86 sec/step)\n",
      "INFO:tensorflow:global step 41: loss = 0.6876 (0.78 sec/step)\n",
      "INFO:tensorflow:global step 42: loss = 0.6983 (0.84 sec/step)\n",
      "INFO:tensorflow:global step 43: loss = 0.6883 (0.95 sec/step)\n",
      "INFO:tensorflow:global step 44: loss = 0.7022 (0.87 sec/step)\n",
      "INFO:tensorflow:global_step/sec: 1.00036\n",
      "INFO:tensorflow:global step 45: loss = 0.7058 (1.88 sec/step)\n",
      "INFO:tensorflow:global step 46: loss = 0.6999 (0.94 sec/step)\n",
      "INFO:tensorflow:global step 47: loss = 0.6977 (0.98 sec/step)\n",
      "INFO:tensorflow:global step 48: loss = 0.6976 (0.89 sec/step)\n",
      "INFO:tensorflow:global step 49: loss = 0.6914 (0.92 sec/step)\n",
      "INFO:tensorflow:global step 50: loss = 0.6928 (0.98 sec/step)\n",
      "INFO:tensorflow:global step 51: loss = 0.6880 (0.92 sec/step)\n",
      "INFO:tensorflow:global step 52: loss = 0.7015 (0.88 sec/step)\n",
      "INFO:tensorflow:global step 53: loss = 0.6857 (0.76 sec/step)\n",
      "INFO:tensorflow:global_step/sec: 0.890212\n",
      "INFO:tensorflow:global step 54: loss = 0.6941 (1.03 sec/step)\n",
      "INFO:tensorflow:global step 55: loss = 0.6966 (1.38 sec/step)\n",
      "INFO:tensorflow:global step 56: loss = 0.6921 (1.04 sec/step)\n",
      "INFO:tensorflow:global step 57: loss = 0.6916 (0.91 sec/step)\n",
      "INFO:tensorflow:global step 58: loss = 0.6945 (0.96 sec/step)\n",
      "INFO:tensorflow:global step 59: loss = 0.6938 (0.86 sec/step)\n",
      "INFO:tensorflow:global step 60: loss = 0.6934 (0.90 sec/step)\n",
      "INFO:tensorflow:global step 61: loss = 0.6886 (0.85 sec/step)\n",
      "INFO:tensorflow:global step 62: loss = 0.6919 (0.87 sec/step)\n",
      "INFO:tensorflow:global step 63: loss = 0.6935 (0.93 sec/step)\n",
      "INFO:tensorflow:global_step/sec: 1.00921\n",
      "INFO:tensorflow:global step 64: loss = 0.6924 (1.19 sec/step)\n",
      "INFO:tensorflow:global step 65: loss = 0.6908 (1.26 sec/step)\n",
      "INFO:tensorflow:global step 66: loss = 0.6955 (0.94 sec/step)\n",
      "INFO:tensorflow:global step 67: loss = 0.6899 (0.92 sec/step)\n",
      "INFO:tensorflow:global step 68: loss = 0.6932 (0.87 sec/step)\n",
      "INFO:tensorflow:global step 69: loss = 0.6924 (0.94 sec/step)\n",
      "INFO:tensorflow:global step 70: loss = 0.6929 (0.84 sec/step)\n",
      "INFO:tensorflow:global step 71: loss = 0.6943 (0.95 sec/step)\n",
      "INFO:tensorflow:global step 72: loss = 0.6960 (0.86 sec/step)\n",
      "INFO:tensorflow:global step 73: loss = 0.6872 (0.90 sec/step)\n",
      "INFO:tensorflow:global_step/sec: 1.00338\n",
      "INFO:tensorflow:global step 74: loss = 0.6888 (0.95 sec/step)\n",
      "INFO:tensorflow:global step 75: loss = 0.6885 (1.02 sec/step)\n",
      "INFO:tensorflow:global step 76: loss = 0.6858 (0.66 sec/step)\n",
      "INFO:tensorflow:global step 77: loss = 0.6954 (0.66 sec/step)\n",
      "INFO:tensorflow:global step 78: loss = 0.6905 (0.62 sec/step)\n",
      "INFO:tensorflow:global step 79: loss = 0.6805 (0.67 sec/step)\n",
      "INFO:tensorflow:global step 80: loss = 0.6956 (0.65 sec/step)\n",
      "INFO:tensorflow:global step 81: loss = 0.6919 (0.62 sec/step)\n",
      "INFO:tensorflow:global step 82: loss = 0.6934 (0.60 sec/step)\n",
      "INFO:tensorflow:global step 83: loss = 0.6832 (0.61 sec/step)\n",
      "INFO:tensorflow:global step 84: loss = 0.6974 (0.84 sec/step)\n",
      "INFO:tensorflow:global step 85: loss = 0.6938 (0.58 sec/step)\n",
      "INFO:tensorflow:global step 86: loss = 0.7057 (0.58 sec/step)\n",
      "INFO:tensorflow:global step 87: loss = 0.6860 (0.60 sec/step)\n",
      "INFO:tensorflow:global step 88: loss = 0.6921 (0.56 sec/step)\n",
      "INFO:tensorflow:global step 89: loss = 0.6922 (0.80 sec/step)\n",
      "INFO:tensorflow:global step 90: loss = 0.6966 (0.84 sec/step)\n",
      "INFO:tensorflow:global step 91: loss = 0.6916 (0.58 sec/step)\n",
      "INFO:tensorflow:global step 92: loss = 0.6870 (0.60 sec/step)\n",
      "INFO:tensorflow:global step 93: loss = 0.6965 (0.62 sec/step)\n",
      "INFO:tensorflow:global step 94: loss = 0.6828 (0.60 sec/step)\n",
      "INFO:tensorflow:global step 95: loss = 0.6893 (0.76 sec/step)\n",
      "INFO:tensorflow:global step 96: loss = 0.7006 (0.58 sec/step)\n",
      "INFO:tensorflow:global step 97: loss = 0.6892 (0.54 sec/step)\n",
      "INFO:tensorflow:global step 98: loss = 0.6966 (0.59 sec/step)\n",
      "INFO:tensorflow:global step 99: loss = 0.6908 (0.55 sec/step)\n",
      "INFO:tensorflow:global step 100: loss = 0.6922 (0.57 sec/step)\n",
      "INFO:tensorflow:global step 101: loss = 0.6905 (0.62 sec/step)\n",
      "INFO:tensorflow:global step 102: loss = 0.6964 (0.57 sec/step)\n",
      "INFO:tensorflow:global step 103: loss = 0.6906 (0.57 sec/step)\n",
      "INFO:tensorflow:global step 104: loss = 0.6882 (0.59 sec/step)\n",
      "INFO:tensorflow:global step 105: loss = 0.6928 (0.70 sec/step)\n",
      "INFO:tensorflow:global step 106: loss = 0.6889 (1.09 sec/step)\n",
      "INFO:tensorflow:global step 107: loss = 0.6894 (0.55 sec/step)\n",
      "INFO:tensorflow:global step 108: loss = 0.6941 (0.56 sec/step)\n",
      "INFO:tensorflow:global step 109: loss = 0.6913 (0.59 sec/step)\n",
      "INFO:tensorflow:global step 110: loss = 0.6877 (0.61 sec/step)\n",
      "INFO:tensorflow:global step 111: loss = 0.6889 (0.59 sec/step)\n",
      "INFO:tensorflow:global step 112: loss = 0.6883 (0.64 sec/step)\n",
      "INFO:tensorflow:global step 113: loss = 0.6941 (0.55 sec/step)\n",
      "INFO:tensorflow:global step 114: loss = 0.6889 (0.56 sec/step)\n",
      "INFO:tensorflow:global step 115: loss = 0.6879 (0.59 sec/step)\n",
      "INFO:tensorflow:global step 116: loss = 0.6985 (0.56 sec/step)\n",
      "INFO:tensorflow:global step 117: loss = 0.6943 (0.56 sec/step)\n",
      "INFO:tensorflow:global step 118: loss = 0.6940 (0.83 sec/step)\n",
      "INFO:tensorflow:global step 119: loss = 0.6914 (0.57 sec/step)\n",
      "INFO:tensorflow:global step 120: loss = 0.6905 (0.58 sec/step)\n",
      "INFO:tensorflow:global step 121: loss = 0.6885 (0.87 sec/step)\n",
      "INFO:tensorflow:global step 122: loss = 0.6907 (0.74 sec/step)\n",
      "INFO:tensorflow:global step 123: loss = 0.6888 (0.62 sec/step)\n",
      "INFO:tensorflow:global step 124: loss = 0.7004 (0.61 sec/step)\n",
      "INFO:tensorflow:global step 125: loss = 0.6931 (0.62 sec/step)\n",
      "INFO:tensorflow:global step 126: loss = 0.6960 (0.66 sec/step)\n",
      "INFO:tensorflow:global step 127: loss = 0.6884 (0.70 sec/step)\n",
      "INFO:tensorflow:global step 128: loss = 0.6980 (0.58 sec/step)\n",
      "INFO:tensorflow:global step 129: loss = 0.6941 (0.83 sec/step)\n",
      "INFO:tensorflow:global step 130: loss = 0.6825 (0.73 sec/step)\n",
      "INFO:tensorflow:global step 131: loss = 0.6927 (0.66 sec/step)\n",
      "INFO:tensorflow:global step 132: loss = 0.6863 (0.63 sec/step)\n",
      "INFO:tensorflow:global step 133: loss = 0.6950 (0.55 sec/step)\n",
      "INFO:tensorflow:global step 134: loss = 0.6876 (0.55 sec/step)\n",
      "INFO:tensorflow:global step 135: loss = 0.6942 (0.54 sec/step)\n",
      "INFO:tensorflow:global step 136: loss = 0.6896 (0.74 sec/step)\n",
      "INFO:tensorflow:global step 137: loss = 0.6932 (0.78 sec/step)\n",
      "INFO:tensorflow:global step 138: loss = 0.6945 (0.54 sec/step)\n",
      "INFO:tensorflow:global step 139: loss = 0.6901 (0.53 sec/step)\n",
      "INFO:tensorflow:global step 140: loss = 0.6913 (0.72 sec/step)\n",
      "INFO:tensorflow:global step 141: loss = 0.6902 (0.52 sec/step)\n",
      "INFO:tensorflow:global step 142: loss = 0.6885 (0.55 sec/step)\n",
      "INFO:tensorflow:global step 143: loss = 0.6851 (0.61 sec/step)\n",
      "INFO:tensorflow:global step 144: loss = 0.6916 (0.61 sec/step)\n",
      "INFO:tensorflow:global step 145: loss = 0.6920 (0.69 sec/step)\n",
      "INFO:tensorflow:global step 146: loss = 0.6896 (0.65 sec/step)\n",
      "INFO:tensorflow:global step 147: loss = 0.6890 (0.71 sec/step)\n",
      "INFO:tensorflow:global step 148: loss = 0.6910 (0.68 sec/step)\n",
      "INFO:tensorflow:global step 149: loss = 0.6901 (0.74 sec/step)\n",
      "INFO:tensorflow:global step 150: loss = 0.6888 (0.74 sec/step)\n",
      "INFO:tensorflow:global step 151: loss = 0.6975 (1.16 sec/step)\n",
      "INFO:tensorflow:global step 152: loss = 0.6902 (0.94 sec/step)\n",
      "INFO:tensorflow:global step 153: loss = 0.6956 (0.60 sec/step)\n",
      "INFO:tensorflow:global step 154: loss = 0.6926 (0.75 sec/step)\n",
      "INFO:tensorflow:global step 155: loss = 0.6887 (0.69 sec/step)\n",
      "INFO:tensorflow:global step 156: loss = 0.6880 (0.71 sec/step)\n",
      "INFO:tensorflow:global step 157: loss = 0.6856 (0.72 sec/step)\n",
      "INFO:tensorflow:global step 158: loss = 0.6939 (0.73 sec/step)\n",
      "INFO:tensorflow:global step 159: loss = 0.6842 (0.67 sec/step)\n",
      "INFO:tensorflow:global step 160: loss = 0.6968 (0.65 sec/step)\n",
      "INFO:tensorflow:global step 161: loss = 0.6935 (0.62 sec/step)\n",
      "INFO:tensorflow:global step 162: loss = 0.6808 (0.58 sec/step)\n",
      "INFO:tensorflow:global step 163: loss = 0.6932 (0.83 sec/step)\n",
      "INFO:tensorflow:global step 164: loss = 0.6922 (0.60 sec/step)\n",
      "INFO:tensorflow:global step 165: loss = 0.6885 (1.05 sec/step)\n",
      "INFO:tensorflow:global step 166: loss = 0.6843 (0.78 sec/step)\n",
      "INFO:tensorflow:global step 167: loss = 0.6981 (0.61 sec/step)\n",
      "INFO:tensorflow:global step 168: loss = 0.6936 (0.61 sec/step)\n",
      "INFO:tensorflow:global step 169: loss = 0.6898 (0.65 sec/step)\n",
      "INFO:tensorflow:global step 170: loss = 0.6868 (0.70 sec/step)\n",
      "INFO:tensorflow:global step 171: loss = 0.6888 (0.69 sec/step)\n",
      "INFO:tensorflow:global step 172: loss = 0.6818 (0.64 sec/step)\n",
      "INFO:tensorflow:global step 173: loss = 0.6829 (0.68 sec/step)\n",
      "INFO:tensorflow:global step 174: loss = 0.6916 (0.87 sec/step)\n",
      "INFO:tensorflow:global step 175: loss = 0.6917 (0.61 sec/step)\n",
      "INFO:tensorflow:global step 176: loss = 0.6865 (0.59 sec/step)\n",
      "INFO:tensorflow:global step 177: loss = 0.6835 (0.57 sec/step)\n",
      "INFO:tensorflow:global step 178: loss = 0.6736 (0.60 sec/step)\n",
      "INFO:tensorflow:global step 179: loss = 0.6959 (0.57 sec/step)\n",
      "INFO:tensorflow:global step 180: loss = 0.6880 (1.10 sec/step)\n",
      "INFO:tensorflow:global step 181: loss = 0.6808 (0.56 sec/step)\n",
      "INFO:tensorflow:global step 182: loss = 0.6746 (0.61 sec/step)\n",
      "INFO:tensorflow:global step 183: loss = 0.6771 (0.59 sec/step)\n",
      "INFO:tensorflow:global step 184: loss = 0.6994 (0.59 sec/step)\n",
      "INFO:tensorflow:global step 185: loss = 0.6801 (0.83 sec/step)\n",
      "INFO:tensorflow:global step 186: loss = 0.6971 (0.57 sec/step)\n",
      "INFO:tensorflow:global step 187: loss = 0.6834 (0.65 sec/step)\n",
      "INFO:tensorflow:global step 188: loss = 0.6866 (0.61 sec/step)\n",
      "INFO:tensorflow:global step 189: loss = 0.7059 (0.67 sec/step)\n",
      "INFO:tensorflow:global step 190: loss = 0.6864 (0.64 sec/step)\n",
      "INFO:tensorflow:global step 191: loss = 0.6805 (0.63 sec/step)\n",
      "INFO:tensorflow:global step 192: loss = 0.6864 (0.64 sec/step)\n",
      "INFO:tensorflow:global step 193: loss = 0.6909 (0.57 sec/step)\n",
      "INFO:tensorflow:global step 194: loss = 0.6889 (0.56 sec/step)\n",
      "INFO:tensorflow:global step 195: loss = 0.6921 (0.92 sec/step)\n",
      "INFO:tensorflow:global step 196: loss = 0.6898 (0.95 sec/step)\n",
      "INFO:tensorflow:global step 197: loss = 0.6842 (0.65 sec/step)\n",
      "INFO:tensorflow:global step 198: loss = 0.6885 (0.61 sec/step)\n",
      "INFO:tensorflow:global step 199: loss = 0.6834 (0.71 sec/step)\n",
      "INFO:tensorflow:global step 200: loss = 0.6803 (0.64 sec/step)\n",
      "INFO:tensorflow:global step 201: loss = 0.6887 (0.60 sec/step)\n",
      "INFO:tensorflow:global step 202: loss = 0.6801 (0.61 sec/step)\n",
      "INFO:tensorflow:global step 203: loss = 0.6825 (0.60 sec/step)\n",
      "INFO:tensorflow:global step 204: loss = 0.6979 (0.59 sec/step)\n",
      "INFO:tensorflow:global step 205: loss = 0.6840 (0.61 sec/step)\n",
      "INFO:tensorflow:global step 206: loss = 0.6959 (0.62 sec/step)\n",
      "INFO:tensorflow:global step 207: loss = 0.6998 (0.61 sec/step)\n",
      "INFO:tensorflow:global step 208: loss = 0.7008 (0.85 sec/step)\n",
      "INFO:tensorflow:global step 209: loss = 0.6993 (0.83 sec/step)\n",
      "INFO:tensorflow:global step 210: loss = 0.6873 (1.09 sec/step)\n",
      "INFO:tensorflow:global step 211: loss = 0.7046 (0.63 sec/step)\n",
      "INFO:tensorflow:global step 212: loss = 0.6883 (0.66 sec/step)\n",
      "INFO:tensorflow:global step 213: loss = 0.6841 (0.66 sec/step)\n",
      "INFO:tensorflow:global step 214: loss = 0.7006 (0.62 sec/step)\n",
      "INFO:tensorflow:global step 215: loss = 0.6856 (0.66 sec/step)\n",
      "INFO:tensorflow:global step 216: loss = 0.6841 (0.63 sec/step)\n",
      "INFO:tensorflow:global step 217: loss = 0.6825 (0.61 sec/step)\n",
      "INFO:tensorflow:global step 218: loss = 0.6891 (0.62 sec/step)\n",
      "INFO:tensorflow:global step 219: loss = 0.6807 (0.83 sec/step)\n",
      "INFO:tensorflow:global step 220: loss = 0.6915 (0.57 sec/step)\n",
      "INFO:tensorflow:global step 221: loss = 0.6907 (0.59 sec/step)\n",
      "INFO:tensorflow:global step 222: loss = 0.6856 (0.58 sec/step)\n",
      "INFO:tensorflow:global step 223: loss = 0.6871 (0.57 sec/step)\n",
      "INFO:tensorflow:global step 224: loss = 0.6857 (0.79 sec/step)\n",
      "INFO:tensorflow:global step 225: loss = 0.6749 (0.84 sec/step)\n",
      "INFO:tensorflow:global step 226: loss = 0.6885 (0.59 sec/step)\n",
      "INFO:tensorflow:global step 227: loss = 0.6868 (0.58 sec/step)\n",
      "INFO:tensorflow:global step 228: loss = 0.6782 (0.58 sec/step)\n",
      "INFO:tensorflow:global step 229: loss = 0.6750 (0.57 sec/step)\n",
      "INFO:tensorflow:global step 230: loss = 0.6972 (0.77 sec/step)\n",
      "INFO:tensorflow:global step 231: loss = 0.6895 (0.58 sec/step)\n",
      "INFO:tensorflow:global step 232: loss = 0.6833 (0.58 sec/step)\n",
      "INFO:tensorflow:global step 233: loss = 0.6825 (0.56 sec/step)\n",
      "INFO:tensorflow:global step 234: loss = 0.6935 (0.57 sec/step)\n",
      "INFO:tensorflow:global step 235: loss = 0.6946 (0.57 sec/step)\n",
      "INFO:tensorflow:global step 236: loss = 0.6814 (0.60 sec/step)\n",
      "INFO:tensorflow:global step 237: loss = 0.6831 (0.58 sec/step)\n",
      "INFO:tensorflow:global step 238: loss = 0.6818 (0.73 sec/step)\n",
      "INFO:tensorflow:global step 239: loss = 0.6899 (0.62 sec/step)\n",
      "INFO:tensorflow:global step 240: loss = 0.6854 (0.86 sec/step)\n",
      "INFO:tensorflow:global step 241: loss = 0.6897 (0.98 sec/step)\n",
      "INFO:tensorflow:global step 242: loss = 0.6837 (0.64 sec/step)\n",
      "INFO:tensorflow:global step 243: loss = 0.6874 (0.61 sec/step)\n",
      "INFO:tensorflow:global step 244: loss = 0.6824 (0.62 sec/step)\n",
      "INFO:tensorflow:global step 245: loss = 0.6877 (0.62 sec/step)\n",
      "INFO:tensorflow:global step 246: loss = 0.6810 (0.62 sec/step)\n",
      "INFO:tensorflow:global step 247: loss = 0.6831 (0.59 sec/step)\n",
      "INFO:tensorflow:global step 248: loss = 0.6937 (0.60 sec/step)\n",
      "INFO:tensorflow:global step 249: loss = 0.6842 (0.58 sec/step)\n",
      "INFO:tensorflow:global step 250: loss = 0.6810 (0.65 sec/step)\n",
      "INFO:tensorflow:global step 251: loss = 0.6844 (0.61 sec/step)\n",
      "INFO:tensorflow:global step 252: loss = 0.6800 (0.55 sec/step)\n",
      "INFO:tensorflow:global step 253: loss = 0.6849 (0.72 sec/step)\n",
      "INFO:tensorflow:global step 254: loss = 0.6890 (0.53 sec/step)\n",
      "INFO:tensorflow:global step 255: loss = 0.6823 (0.64 sec/step)\n",
      "INFO:tensorflow:global step 256: loss = 0.6903 (0.96 sec/step)\n",
      "INFO:tensorflow:global step 257: loss = 0.6797 (0.59 sec/step)\n",
      "INFO:tensorflow:global step 258: loss = 0.6884 (0.61 sec/step)\n",
      "INFO:tensorflow:global step 259: loss = 0.6902 (0.58 sec/step)\n",
      "INFO:tensorflow:global step 260: loss = 0.6898 (0.60 sec/step)\n",
      "INFO:tensorflow:global step 261: loss = 0.6905 (0.64 sec/step)\n",
      "INFO:tensorflow:global step 262: loss = 0.6756 (0.60 sec/step)\n",
      "INFO:tensorflow:global step 263: loss = 0.6835 (0.64 sec/step)\n",
      "INFO:tensorflow:global step 264: loss = 0.6798 (0.81 sec/step)\n",
      "INFO:tensorflow:global step 265: loss = 0.6743 (0.63 sec/step)\n",
      "INFO:tensorflow:global step 266: loss = 0.6697 (0.56 sec/step)\n",
      "INFO:tensorflow:global step 267: loss = 0.6720 (0.60 sec/step)\n",
      "INFO:tensorflow:global step 268: loss = 0.6765 (0.66 sec/step)\n",
      "INFO:tensorflow:global step 269: loss = 0.6647 (0.59 sec/step)\n",
      "INFO:tensorflow:global step 270: loss = 0.6753 (0.66 sec/step)\n",
      "INFO:tensorflow:global step 271: loss = 0.7278 (1.15 sec/step)\n",
      "INFO:tensorflow:global step 272: loss = 0.6713 (0.66 sec/step)\n",
      "INFO:tensorflow:global step 273: loss = 0.6838 (0.64 sec/step)\n",
      "INFO:tensorflow:global step 274: loss = 0.6843 (0.61 sec/step)\n",
      "INFO:tensorflow:global step 275: loss = 0.6624 (0.76 sec/step)\n",
      "INFO:tensorflow:global step 276: loss = 0.6900 (0.58 sec/step)\n",
      "INFO:tensorflow:global step 277: loss = 0.6834 (0.62 sec/step)\n",
      "INFO:tensorflow:global step 278: loss = 0.6867 (0.56 sec/step)\n",
      "INFO:tensorflow:global step 279: loss = 0.6802 (0.56 sec/step)\n",
      "INFO:tensorflow:global step 280: loss = 0.6867 (0.66 sec/step)\n",
      "INFO:tensorflow:global step 281: loss = 0.6840 (0.58 sec/step)\n",
      "INFO:tensorflow:global step 282: loss = 0.6907 (0.59 sec/step)\n",
      "INFO:tensorflow:global step 283: loss = 0.6990 (0.62 sec/step)\n",
      "INFO:tensorflow:global step 284: loss = 0.6768 (0.66 sec/step)\n",
      "INFO:tensorflow:global step 285: loss = 0.6956 (0.59 sec/step)\n",
      "INFO:tensorflow:global step 286: loss = 0.6941 (1.19 sec/step)\n",
      "INFO:tensorflow:global step 287: loss = 0.6750 (0.64 sec/step)\n",
      "INFO:tensorflow:global step 288: loss = 0.6901 (0.52 sec/step)\n",
      "INFO:tensorflow:global step 289: loss = 0.6790 (0.60 sec/step)\n",
      "INFO:tensorflow:global step 290: loss = 0.6667 (0.58 sec/step)\n",
      "INFO:tensorflow:global step 291: loss = 0.6947 (0.55 sec/step)\n",
      "INFO:tensorflow:global step 292: loss = 0.6708 (0.59 sec/step)\n",
      "INFO:tensorflow:global step 293: loss = 0.6767 (0.59 sec/step)\n",
      "INFO:tensorflow:global step 294: loss = 0.6689 (0.58 sec/step)\n",
      "INFO:tensorflow:global step 295: loss = 0.6836 (0.57 sec/step)\n",
      "INFO:tensorflow:global step 296: loss = 0.6614 (0.57 sec/step)\n",
      "INFO:tensorflow:global step 297: loss = 0.6737 (0.53 sec/step)\n",
      "INFO:tensorflow:global step 298: loss = 0.6788 (0.78 sec/step)\n",
      "INFO:tensorflow:global step 299: loss = 0.6897 (0.63 sec/step)\n",
      "INFO:tensorflow:global step 300: loss = 0.6895 (0.62 sec/step)\n",
      "INFO:tensorflow:global step 301: loss = 0.6793 (0.54 sec/step)\n",
      "INFO:tensorflow:global step 302: loss = 0.6893 (0.98 sec/step)\n",
      "INFO:tensorflow:global step 303: loss = 0.6857 (0.73 sec/step)\n",
      "INFO:tensorflow:global step 304: loss = 0.6681 (0.70 sec/step)\n",
      "INFO:tensorflow:global step 305: loss = 0.6634 (0.61 sec/step)\n",
      "INFO:tensorflow:global step 306: loss = 0.6807 (0.63 sec/step)\n",
      "INFO:tensorflow:global step 307: loss = 0.6709 (0.63 sec/step)\n",
      "INFO:tensorflow:global step 308: loss = 0.6833 (0.60 sec/step)\n",
      "INFO:tensorflow:global step 309: loss = 0.6739 (0.78 sec/step)\n",
      "INFO:tensorflow:global step 310: loss = 0.6825 (0.56 sec/step)\n",
      "INFO:tensorflow:global step 311: loss = 0.6863 (0.55 sec/step)\n",
      "INFO:tensorflow:global step 312: loss = 0.6492 (0.66 sec/step)\n",
      "INFO:tensorflow:global step 313: loss = 0.6746 (0.70 sec/step)\n",
      "INFO:tensorflow:global step 314: loss = 0.6732 (0.73 sec/step)\n",
      "INFO:tensorflow:global step 315: loss = 0.6784 (0.71 sec/step)\n",
      "INFO:tensorflow:global step 316: loss = 0.6787 (0.97 sec/step)\n",
      "INFO:tensorflow:global step 317: loss = 0.7141 (1.17 sec/step)\n",
      "INFO:tensorflow:global step 318: loss = 0.6655 (0.75 sec/step)\n",
      "INFO:tensorflow:global step 319: loss = 0.6726 (0.77 sec/step)\n",
      "INFO:tensorflow:global step 320: loss = 0.6740 (0.96 sec/step)\n",
      "INFO:tensorflow:global step 321: loss = 0.6778 (0.75 sec/step)\n",
      "INFO:tensorflow:global step 322: loss = 0.6767 (0.62 sec/step)\n",
      "INFO:tensorflow:global step 323: loss = 0.6694 (0.62 sec/step)\n",
      "INFO:tensorflow:global step 324: loss = 0.6769 (0.58 sec/step)\n",
      "INFO:tensorflow:global step 325: loss = 0.6837 (0.56 sec/step)\n",
      "INFO:tensorflow:global step 326: loss = 0.6680 (0.57 sec/step)\n",
      "INFO:tensorflow:global step 327: loss = 0.6639 (0.55 sec/step)\n",
      "INFO:tensorflow:global step 328: loss = 0.6763 (0.55 sec/step)\n",
      "INFO:tensorflow:global step 329: loss = 0.6689 (0.53 sec/step)\n",
      "INFO:tensorflow:global step 330: loss = 0.6639 (0.54 sec/step)\n",
      "INFO:tensorflow:global step 331: loss = 0.6716 (1.15 sec/step)\n",
      "INFO:tensorflow:global step 332: loss = 0.7005 (0.59 sec/step)\n",
      "INFO:tensorflow:global step 333: loss = 0.6820 (0.53 sec/step)\n",
      "INFO:tensorflow:global step 334: loss = 0.6884 (0.53 sec/step)\n",
      "INFO:tensorflow:global step 335: loss = 0.6804 (0.52 sec/step)\n",
      "INFO:tensorflow:global step 336: loss = 0.6659 (0.53 sec/step)\n",
      "INFO:tensorflow:global step 337: loss = 0.6735 (0.54 sec/step)\n",
      "INFO:tensorflow:global step 338: loss = 0.6925 (0.53 sec/step)\n",
      "INFO:tensorflow:global step 339: loss = 0.6740 (0.53 sec/step)\n",
      "INFO:tensorflow:global step 340: loss = 0.6741 (0.52 sec/step)\n",
      "INFO:tensorflow:global step 341: loss = 0.6722 (0.52 sec/step)\n",
      "INFO:tensorflow:global step 342: loss = 0.6696 (0.52 sec/step)\n",
      "INFO:tensorflow:global step 343: loss = 0.6668 (0.74 sec/step)\n",
      "INFO:tensorflow:global step 344: loss = 0.6646 (0.54 sec/step)\n",
      "INFO:tensorflow:global step 345: loss = 0.6688 (0.67 sec/step)\n",
      "INFO:tensorflow:global step 346: loss = 0.6534 (0.67 sec/step)\n",
      "INFO:tensorflow:global step 347: loss = 0.6899 (0.86 sec/step)\n",
      "INFO:tensorflow:global step 348: loss = 0.6832 (0.86 sec/step)\n",
      "INFO:tensorflow:global step 349: loss = 0.6882 (0.66 sec/step)\n",
      "INFO:tensorflow:global step 350: loss = 0.6585 (0.71 sec/step)\n",
      "INFO:tensorflow:global step 351: loss = 0.6866 (0.68 sec/step)\n",
      "INFO:tensorflow:global step 352: loss = 0.6776 (0.69 sec/step)\n",
      "INFO:tensorflow:global step 353: loss = 0.6516 (0.70 sec/step)\n",
      "INFO:tensorflow:global step 354: loss = 0.6633 (0.86 sec/step)\n",
      "INFO:tensorflow:global step 355: loss = 0.6505 (0.67 sec/step)\n",
      "INFO:tensorflow:global step 356: loss = 0.6599 (0.65 sec/step)\n",
      "INFO:tensorflow:global step 357: loss = 0.6584 (0.70 sec/step)\n",
      "INFO:tensorflow:global step 358: loss = 0.6885 (0.63 sec/step)\n",
      "INFO:tensorflow:global step 359: loss = 0.6712 (0.67 sec/step)\n",
      "INFO:tensorflow:global step 360: loss = 0.6313 (0.56 sec/step)\n",
      "INFO:tensorflow:global step 361: loss = 0.6607 (0.92 sec/step)\n",
      "INFO:tensorflow:global step 362: loss = 0.6701 (0.88 sec/step)\n",
      "INFO:tensorflow:global step 363: loss = 0.6811 (0.58 sec/step)\n",
      "INFO:tensorflow:global step 364: loss = 0.6709 (0.56 sec/step)\n",
      "INFO:tensorflow:global step 365: loss = 0.6591 (0.86 sec/step)\n",
      "INFO:tensorflow:global step 366: loss = 0.6465 (0.57 sec/step)\n",
      "INFO:tensorflow:global step 367: loss = 0.6594 (0.59 sec/step)\n",
      "INFO:tensorflow:global step 368: loss = 0.6697 (0.57 sec/step)\n",
      "INFO:tensorflow:global step 369: loss = 0.6747 (0.69 sec/step)\n",
      "INFO:tensorflow:global step 370: loss = 0.6689 (0.63 sec/step)\n",
      "INFO:tensorflow:global step 371: loss = 0.6519 (0.65 sec/step)\n",
      "INFO:tensorflow:global step 372: loss = 0.6513 (0.68 sec/step)\n",
      "INFO:tensorflow:global step 373: loss = 0.6688 (0.62 sec/step)\n",
      "INFO:tensorflow:global step 374: loss = 0.6785 (0.63 sec/step)\n",
      "INFO:tensorflow:global step 375: loss = 0.6466 (0.64 sec/step)\n",
      "INFO:tensorflow:global step 376: loss = 0.6698 (1.02 sec/step)\n",
      "INFO:tensorflow:global step 377: loss = 0.6919 (0.97 sec/step)\n",
      "INFO:tensorflow:global step 378: loss = 0.6391 (0.64 sec/step)\n",
      "INFO:tensorflow:global step 379: loss = 0.6645 (0.64 sec/step)\n",
      "INFO:tensorflow:global step 380: loss = 0.6427 (0.67 sec/step)\n",
      "INFO:tensorflow:global step 381: loss = 0.6836 (0.63 sec/step)\n",
      "INFO:tensorflow:global step 382: loss = 0.6539 (0.64 sec/step)\n",
      "INFO:tensorflow:global step 383: loss = 0.6677 (0.69 sec/step)\n",
      "INFO:tensorflow:global step 384: loss = 0.6408 (0.63 sec/step)\n",
      "INFO:tensorflow:global step 385: loss = 0.6509 (0.60 sec/step)\n",
      "INFO:tensorflow:global step 386: loss = 0.6590 (0.69 sec/step)\n",
      "INFO:tensorflow:global step 387: loss = 0.6519 (0.65 sec/step)\n",
      "INFO:tensorflow:global step 388: loss = 0.6487 (0.91 sec/step)\n",
      "INFO:tensorflow:global step 389: loss = 0.6310 (0.60 sec/step)\n",
      "INFO:tensorflow:global step 390: loss = 0.6269 (1.07 sec/step)\n",
      "INFO:tensorflow:global step 391: loss = 0.6631 (0.91 sec/step)\n",
      "INFO:tensorflow:global step 392: loss = 0.6530 (0.59 sec/step)\n",
      "INFO:tensorflow:global step 393: loss = 0.6063 (0.70 sec/step)\n",
      "INFO:tensorflow:global step 394: loss = 0.6559 (0.65 sec/step)\n",
      "INFO:tensorflow:global step 395: loss = 0.6517 (0.64 sec/step)\n",
      "INFO:tensorflow:global step 396: loss = 0.6447 (0.62 sec/step)\n",
      "INFO:tensorflow:global step 397: loss = 0.6744 (0.68 sec/step)\n",
      "INFO:tensorflow:global step 398: loss = 0.6488 (0.69 sec/step)\n",
      "INFO:tensorflow:global step 399: loss = 0.6768 (0.93 sec/step)\n",
      "INFO:tensorflow:global step 400: loss = 0.6204 (0.58 sec/step)\n",
      "INFO:tensorflow:global step 401: loss = 0.6289 (0.59 sec/step)\n",
      "INFO:tensorflow:global step 402: loss = 0.6747 (0.58 sec/step)\n",
      "INFO:tensorflow:global step 403: loss = 0.6604 (0.55 sec/step)\n",
      "INFO:tensorflow:global step 404: loss = 0.6483 (0.57 sec/step)\n",
      "INFO:tensorflow:global step 405: loss = 0.6353 (0.97 sec/step)\n",
      "INFO:tensorflow:global step 406: loss = 0.6880 (0.68 sec/step)\n",
      "INFO:tensorflow:global step 407: loss = 0.6719 (0.73 sec/step)\n",
      "INFO:tensorflow:global step 408: loss = 0.6513 (0.65 sec/step)\n",
      "INFO:tensorflow:global step 409: loss = 0.6492 (0.57 sec/step)\n",
      "INFO:tensorflow:global step 410: loss = 0.6568 (0.79 sec/step)\n",
      "INFO:tensorflow:global step 411: loss = 0.6829 (0.56 sec/step)\n",
      "INFO:tensorflow:global step 412: loss = 0.6599 (0.54 sec/step)\n",
      "INFO:tensorflow:global step 413: loss = 0.6246 (0.56 sec/step)\n",
      "INFO:tensorflow:global step 414: loss = 0.6432 (0.55 sec/step)\n",
      "INFO:tensorflow:global step 415: loss = 0.6210 (0.56 sec/step)\n",
      "INFO:tensorflow:global step 416: loss = 0.6618 (0.54 sec/step)\n",
      "INFO:tensorflow:global step 417: loss = 0.6638 (0.56 sec/step)\n",
      "INFO:tensorflow:global step 418: loss = 0.6677 (0.55 sec/step)\n",
      "INFO:tensorflow:global step 419: loss = 0.6270 (0.55 sec/step)\n",
      "INFO:tensorflow:global step 420: loss = 0.6682 (0.54 sec/step)\n",
      "INFO:tensorflow:global step 421: loss = 0.6312 (1.38 sec/step)\n",
      "INFO:tensorflow:global step 422: loss = 0.6632 (0.67 sec/step)\n",
      "INFO:tensorflow:global step 423: loss = 0.6404 (0.65 sec/step)\n",
      "INFO:tensorflow:global step 424: loss = 0.6574 (0.62 sec/step)\n",
      "INFO:tensorflow:global step 425: loss = 0.6490 (0.64 sec/step)\n",
      "INFO:tensorflow:global step 426: loss = 0.6750 (0.62 sec/step)\n",
      "INFO:tensorflow:global step 427: loss = 0.6246 (0.67 sec/step)\n",
      "INFO:tensorflow:global step 428: loss = 0.6681 (0.67 sec/step)\n",
      "INFO:tensorflow:global step 429: loss = 0.6579 (0.60 sec/step)\n",
      "INFO:tensorflow:global step 430: loss = 0.6132 (0.67 sec/step)\n",
      "INFO:tensorflow:global step 431: loss = 0.6296 (0.77 sec/step)\n",
      "INFO:tensorflow:global step 432: loss = 0.6894 (0.70 sec/step)\n",
      "INFO:tensorflow:global step 433: loss = 0.6602 (0.90 sec/step)\n",
      "INFO:tensorflow:global step 434: loss = 0.6540 (1.03 sec/step)\n",
      "INFO:tensorflow:global step 435: loss = 0.6316 (1.02 sec/step)\n",
      "INFO:tensorflow:global step 436: loss = 0.6306 (0.66 sec/step)\n",
      "INFO:tensorflow:global step 437: loss = 0.6593 (0.61 sec/step)\n",
      "INFO:tensorflow:global step 438: loss = 0.6422 (0.57 sec/step)\n",
      "INFO:tensorflow:global step 439: loss = 0.6222 (0.60 sec/step)\n",
      "INFO:tensorflow:global step 440: loss = 0.6484 (0.57 sec/step)\n",
      "INFO:tensorflow:global step 441: loss = 0.6422 (0.55 sec/step)\n",
      "INFO:tensorflow:global step 442: loss = 0.6496 (0.56 sec/step)\n",
      "INFO:tensorflow:global step 443: loss = 0.6573 (0.60 sec/step)\n",
      "INFO:tensorflow:global step 444: loss = 0.6235 (0.81 sec/step)\n",
      "INFO:tensorflow:global step 445: loss = 0.6579 (0.59 sec/step)\n",
      "INFO:tensorflow:global step 446: loss = 0.6506 (0.68 sec/step)\n",
      "INFO:tensorflow:global step 447: loss = 0.6316 (0.62 sec/step)\n",
      "INFO:tensorflow:global step 448: loss = 0.6448 (0.63 sec/step)\n",
      "INFO:tensorflow:global step 449: loss = 0.6755 (0.80 sec/step)\n",
      "INFO:tensorflow:global step 450: loss = 0.6345 (0.97 sec/step)\n",
      "INFO:tensorflow:global step 451: loss = 0.6235 (0.68 sec/step)\n",
      "INFO:tensorflow:global step 452: loss = 0.6462 (0.65 sec/step)\n",
      "INFO:tensorflow:global step 453: loss = 0.6458 (0.68 sec/step)\n",
      "INFO:tensorflow:global step 454: loss = 0.6131 (0.65 sec/step)\n",
      "INFO:tensorflow:global step 455: loss = 0.6579 (0.79 sec/step)\n",
      "INFO:tensorflow:global step 456: loss = 0.6305 (0.57 sec/step)\n",
      "INFO:tensorflow:global step 457: loss = 0.6418 (0.56 sec/step)\n",
      "INFO:tensorflow:global step 458: loss = 0.6686 (0.55 sec/step)\n",
      "INFO:tensorflow:global step 459: loss = 0.6130 (0.56 sec/step)\n",
      "INFO:tensorflow:global step 460: loss = 0.6269 (0.55 sec/step)\n"
     ]
    },
    {
     "ename": "KeyboardInterrupt",
     "evalue": "",
     "output_type": "error",
     "traceback": [
      "\u001b[0;31m---------------------------------------------------------------------------\u001b[0m",
      "\u001b[0;31mKeyboardInterrupt\u001b[0m                         Traceback (most recent call last)",
      "\u001b[0;32m<ipython-input-7-4eb92e113a90>\u001b[0m in \u001b[0;36m<module>\u001b[0;34m()\u001b[0m\n\u001b[0;32m----> 1\u001b[0;31m \u001b[0mopt\u001b[0m \u001b[0;34m=\u001b[0m \u001b[0mtrainer\u001b[0m\u001b[0;34m.\u001b[0m\u001b[0mtrain\u001b[0m\u001b[0;34m(\u001b[0m\u001b[0mshared_queue\u001b[0m\u001b[0;34m,\u001b[0m \u001b[0mLOG_DIR\u001b[0m\u001b[0;34m)\u001b[0m\u001b[0;34m\u001b[0m\u001b[0m\n\u001b[0m",
      "\u001b[0;32m/Users/chris/dev/tf-dragonn/tfdragonn/tensorflow/trainers.py\u001b[0m in \u001b[0;36mtrain\u001b[0;34m(self, examples_queue, log_dir)\u001b[0m\n\u001b[1;32m    179\u001b[0m         \u001b[0;31m# but aren't all our summaries already under graphkeys.summaries?\u001b[0m\u001b[0;34m\u001b[0m\u001b[0;34m\u001b[0m\u001b[0m\n\u001b[1;32m    180\u001b[0m \u001b[0;34m\u001b[0m\u001b[0m\n\u001b[0;32m--> 181\u001b[0;31m         \u001b[0;31m# TODO(cprobert): implement early stopping?\u001b[0m\u001b[0;34m\u001b[0m\u001b[0;34m\u001b[0m\u001b[0m\n\u001b[0m\u001b[1;32m    182\u001b[0m         slim.learning.train(\n\u001b[1;32m    183\u001b[0m             \u001b[0mtrain_op\u001b[0m\u001b[0;34m,\u001b[0m \u001b[0mlog_dir\u001b[0m\u001b[0;34m,\u001b[0m \u001b[0mnumber_of_steps\u001b[0m\u001b[0;34m=\u001b[0m\u001b[0mtotal_steps\u001b[0m\u001b[0;34m,\u001b[0m \u001b[0msave_summaries_secs\u001b[0m\u001b[0;34m=\u001b[0m\u001b[0;36m10\u001b[0m\u001b[0;34m,\u001b[0m\u001b[0;34m\u001b[0m\u001b[0m\n",
      "\u001b[0;32m/Users/chris/anaconda3/envs/tflow/lib/python2.7/site-packages/tensorflow/contrib/slim/python/slim/learning.pyc\u001b[0m in \u001b[0;36mtrain\u001b[0;34m(train_op, logdir, train_step_fn, train_step_kwargs, log_every_n_steps, graph, master, is_chief, global_step, number_of_steps, init_op, init_feed_dict, local_init_op, init_fn, ready_op, summary_op, save_summaries_secs, summary_writer, startup_delay_steps, saver, save_interval_secs, sync_optimizer, session_config, trace_every_n_steps)\u001b[0m\n\u001b[1;32m    780\u001b[0m           \u001b[0;32mwhile\u001b[0m \u001b[0;32mnot\u001b[0m \u001b[0msv\u001b[0m\u001b[0;34m.\u001b[0m\u001b[0mshould_stop\u001b[0m\u001b[0;34m(\u001b[0m\u001b[0;34m)\u001b[0m\u001b[0;34m:\u001b[0m\u001b[0;34m\u001b[0m\u001b[0m\n\u001b[1;32m    781\u001b[0m             total_loss, should_stop = train_step_fn(\n\u001b[0;32m--> 782\u001b[0;31m                 sess, train_op, global_step, train_step_kwargs)\n\u001b[0m\u001b[1;32m    783\u001b[0m             \u001b[0;32mif\u001b[0m \u001b[0mshould_stop\u001b[0m\u001b[0;34m:\u001b[0m\u001b[0;34m\u001b[0m\u001b[0m\n\u001b[1;32m    784\u001b[0m               \u001b[0mlogging\u001b[0m\u001b[0;34m.\u001b[0m\u001b[0minfo\u001b[0m\u001b[0;34m(\u001b[0m\u001b[0;34m'Stopping Training.'\u001b[0m\u001b[0;34m)\u001b[0m\u001b[0;34m\u001b[0m\u001b[0m\n",
      "\u001b[0;32m/Users/chris/anaconda3/envs/tflow/lib/python2.7/site-packages/tensorflow/contrib/slim/python/slim/learning.pyc\u001b[0m in \u001b[0;36mtrain_step\u001b[0;34m(sess, train_op, global_step, train_step_kwargs)\u001b[0m\n\u001b[1;32m    528\u001b[0m   total_loss, np_global_step = sess.run([train_op, global_step],\n\u001b[1;32m    529\u001b[0m                                         \u001b[0moptions\u001b[0m\u001b[0;34m=\u001b[0m\u001b[0mtrace_run_options\u001b[0m\u001b[0;34m,\u001b[0m\u001b[0;34m\u001b[0m\u001b[0m\n\u001b[0;32m--> 530\u001b[0;31m                                         run_metadata=run_metadata)\n\u001b[0m\u001b[1;32m    531\u001b[0m   \u001b[0mtime_elapsed\u001b[0m \u001b[0;34m=\u001b[0m \u001b[0mtime\u001b[0m\u001b[0;34m.\u001b[0m\u001b[0mtime\u001b[0m\u001b[0;34m(\u001b[0m\u001b[0;34m)\u001b[0m \u001b[0;34m-\u001b[0m \u001b[0mstart_time\u001b[0m\u001b[0;34m\u001b[0m\u001b[0m\n\u001b[1;32m    532\u001b[0m \u001b[0;34m\u001b[0m\u001b[0m\n",
      "\u001b[0;32m/Users/chris/anaconda3/envs/tflow/lib/python2.7/site-packages/tensorflow/python/client/session.pyc\u001b[0m in \u001b[0;36mrun\u001b[0;34m(self, fetches, feed_dict, options, run_metadata)\u001b[0m\n\u001b[1;32m    764\u001b[0m     \u001b[0;32mtry\u001b[0m\u001b[0;34m:\u001b[0m\u001b[0;34m\u001b[0m\u001b[0m\n\u001b[1;32m    765\u001b[0m       result = self._run(None, fetches, feed_dict, options_ptr,\n\u001b[0;32m--> 766\u001b[0;31m                          run_metadata_ptr)\n\u001b[0m\u001b[1;32m    767\u001b[0m       \u001b[0;32mif\u001b[0m \u001b[0mrun_metadata\u001b[0m\u001b[0;34m:\u001b[0m\u001b[0;34m\u001b[0m\u001b[0m\n\u001b[1;32m    768\u001b[0m         \u001b[0mproto_data\u001b[0m \u001b[0;34m=\u001b[0m \u001b[0mtf_session\u001b[0m\u001b[0;34m.\u001b[0m\u001b[0mTF_GetBuffer\u001b[0m\u001b[0;34m(\u001b[0m\u001b[0mrun_metadata_ptr\u001b[0m\u001b[0;34m)\u001b[0m\u001b[0;34m\u001b[0m\u001b[0m\n",
      "\u001b[0;32m/Users/chris/anaconda3/envs/tflow/lib/python2.7/site-packages/tensorflow/python/client/session.pyc\u001b[0m in \u001b[0;36m_run\u001b[0;34m(self, handle, fetches, feed_dict, options, run_metadata)\u001b[0m\n\u001b[1;32m    962\u001b[0m     \u001b[0;32mif\u001b[0m \u001b[0mfinal_fetches\u001b[0m \u001b[0;32mor\u001b[0m \u001b[0mfinal_targets\u001b[0m\u001b[0;34m:\u001b[0m\u001b[0;34m\u001b[0m\u001b[0m\n\u001b[1;32m    963\u001b[0m       results = self._do_run(handle, final_targets, final_fetches,\n\u001b[0;32m--> 964\u001b[0;31m                              feed_dict_string, options, run_metadata)\n\u001b[0m\u001b[1;32m    965\u001b[0m     \u001b[0;32melse\u001b[0m\u001b[0;34m:\u001b[0m\u001b[0;34m\u001b[0m\u001b[0m\n\u001b[1;32m    966\u001b[0m       \u001b[0mresults\u001b[0m \u001b[0;34m=\u001b[0m \u001b[0;34m[\u001b[0m\u001b[0;34m]\u001b[0m\u001b[0;34m\u001b[0m\u001b[0m\n",
      "\u001b[0;32m/Users/chris/anaconda3/envs/tflow/lib/python2.7/site-packages/tensorflow/python/client/session.pyc\u001b[0m in \u001b[0;36m_do_run\u001b[0;34m(self, handle, target_list, fetch_list, feed_dict, options, run_metadata)\u001b[0m\n\u001b[1;32m   1012\u001b[0m     \u001b[0;32mif\u001b[0m \u001b[0mhandle\u001b[0m \u001b[0;32mis\u001b[0m \u001b[0mNone\u001b[0m\u001b[0;34m:\u001b[0m\u001b[0;34m\u001b[0m\u001b[0m\n\u001b[1;32m   1013\u001b[0m       return self._do_call(_run_fn, self._session, feed_dict, fetch_list,\n\u001b[0;32m-> 1014\u001b[0;31m                            target_list, options, run_metadata)\n\u001b[0m\u001b[1;32m   1015\u001b[0m     \u001b[0;32melse\u001b[0m\u001b[0;34m:\u001b[0m\u001b[0;34m\u001b[0m\u001b[0m\n\u001b[1;32m   1016\u001b[0m       return self._do_call(_prun_fn, self._session, handle, feed_dict,\n",
      "\u001b[0;32m/Users/chris/anaconda3/envs/tflow/lib/python2.7/site-packages/tensorflow/python/client/session.pyc\u001b[0m in \u001b[0;36m_do_call\u001b[0;34m(self, fn, *args)\u001b[0m\n\u001b[1;32m   1019\u001b[0m   \u001b[0;32mdef\u001b[0m \u001b[0m_do_call\u001b[0m\u001b[0;34m(\u001b[0m\u001b[0mself\u001b[0m\u001b[0;34m,\u001b[0m \u001b[0mfn\u001b[0m\u001b[0;34m,\u001b[0m \u001b[0;34m*\u001b[0m\u001b[0margs\u001b[0m\u001b[0;34m)\u001b[0m\u001b[0;34m:\u001b[0m\u001b[0;34m\u001b[0m\u001b[0m\n\u001b[1;32m   1020\u001b[0m     \u001b[0;32mtry\u001b[0m\u001b[0;34m:\u001b[0m\u001b[0;34m\u001b[0m\u001b[0m\n\u001b[0;32m-> 1021\u001b[0;31m       \u001b[0;32mreturn\u001b[0m \u001b[0mfn\u001b[0m\u001b[0;34m(\u001b[0m\u001b[0;34m*\u001b[0m\u001b[0margs\u001b[0m\u001b[0;34m)\u001b[0m\u001b[0;34m\u001b[0m\u001b[0m\n\u001b[0m\u001b[1;32m   1022\u001b[0m     \u001b[0;32mexcept\u001b[0m \u001b[0merrors\u001b[0m\u001b[0;34m.\u001b[0m\u001b[0mOpError\u001b[0m \u001b[0;32mas\u001b[0m \u001b[0me\u001b[0m\u001b[0;34m:\u001b[0m\u001b[0;34m\u001b[0m\u001b[0m\n\u001b[1;32m   1023\u001b[0m       \u001b[0mmessage\u001b[0m \u001b[0;34m=\u001b[0m \u001b[0mcompat\u001b[0m\u001b[0;34m.\u001b[0m\u001b[0mas_text\u001b[0m\u001b[0;34m(\u001b[0m\u001b[0me\u001b[0m\u001b[0;34m.\u001b[0m\u001b[0mmessage\u001b[0m\u001b[0;34m)\u001b[0m\u001b[0;34m\u001b[0m\u001b[0m\n",
      "\u001b[0;32m/Users/chris/anaconda3/envs/tflow/lib/python2.7/site-packages/tensorflow/python/client/session.pyc\u001b[0m in \u001b[0;36m_run_fn\u001b[0;34m(session, feed_dict, fetch_list, target_list, options, run_metadata)\u001b[0m\n\u001b[1;32m   1001\u001b[0m         return tf_session.TF_Run(session, options,\n\u001b[1;32m   1002\u001b[0m                                  \u001b[0mfeed_dict\u001b[0m\u001b[0;34m,\u001b[0m \u001b[0mfetch_list\u001b[0m\u001b[0;34m,\u001b[0m \u001b[0mtarget_list\u001b[0m\u001b[0;34m,\u001b[0m\u001b[0;34m\u001b[0m\u001b[0m\n\u001b[0;32m-> 1003\u001b[0;31m                                  status, run_metadata)\n\u001b[0m\u001b[1;32m   1004\u001b[0m \u001b[0;34m\u001b[0m\u001b[0m\n\u001b[1;32m   1005\u001b[0m     \u001b[0;32mdef\u001b[0m \u001b[0m_prun_fn\u001b[0m\u001b[0;34m(\u001b[0m\u001b[0msession\u001b[0m\u001b[0;34m,\u001b[0m \u001b[0mhandle\u001b[0m\u001b[0;34m,\u001b[0m \u001b[0mfeed_dict\u001b[0m\u001b[0;34m,\u001b[0m \u001b[0mfetch_list\u001b[0m\u001b[0;34m)\u001b[0m\u001b[0;34m:\u001b[0m\u001b[0;34m\u001b[0m\u001b[0m\n",
      "\u001b[0;31mKeyboardInterrupt\u001b[0m: "
     ]
    }
   ],
   "source": [
    "opt = trainer.train(shared_queue, LOG_DIR)"
   ]
  },
  {
   "cell_type": "code",
   "execution_count": 9,
   "metadata": {
    "collapsed": false
   },
   "outputs": [],
   "source": [
    "opt.compute_gradients?"
   ]
  },
  {
   "cell_type": "code",
   "execution_count": null,
   "metadata": {
    "collapsed": false
   },
   "outputs": [],
   "source": [
    "s = tf.InteractiveSession()\n",
    "s.run(tf.global_variables_initializer())\n",
    "s.run(tf.local_variables_initializer())\n",
    "_ = tf.train.start_queue_runners(s)"
   ]
  },
  {
   "cell_type": "code",
   "execution_count": null,
   "metadata": {
    "collapsed": false
   },
   "outputs": [],
   "source": [
    "labels = shared_queue.outputs['labels']#.eval()\n",
    "dataset_idxs = shared_queue.outputs['dataset-index']#.eval()\n",
    "\n",
    "fc_out = tf.random_normal([32, NUM_TASKS])\n",
    "logits = fc_out"
   ]
  },
  {
   "cell_type": "code",
   "execution_count": null,
   "metadata": {
    "collapsed": false
   },
   "outputs": [],
   "source": [
    "labels[dataset_idxs == 1,:].eval()"
   ]
  },
  {
   "cell_type": "code",
   "execution_count": null,
   "metadata": {
    "collapsed": false
   },
   "outputs": [],
   "source": [
    "tf.nn.softmax_cross_entropy_with_logits(fc_out, )"
   ]
  },
  {
   "cell_type": "code",
   "execution_count": 11,
   "metadata": {
    "collapsed": false
   },
   "outputs": [],
   "source": [
    "from tensorflow.contrib import slim"
   ]
  },
  {
   "cell_type": "code",
   "execution_count": 13,
   "metadata": {
    "collapsed": false
   },
   "outputs": [
    {
     "data": {
      "text/plain": [
       "[<tensorflow.python.ops.variables.Variable at 0x11b340ad0>,\n",
       " <tensorflow.python.ops.variables.Variable at 0x105799950>,\n",
       " <tensorflow.python.ops.variables.Variable at 0x105799990>,\n",
       " <tensorflow.python.ops.variables.Variable at 0x1057e9550>,\n",
       " <tensorflow.python.ops.variables.Variable at 0x1057e9210>,\n",
       " <tensorflow.python.ops.variables.Variable at 0x1184df5d0>,\n",
       " <tensorflow.python.ops.variables.Variable at 0x118519e50>,\n",
       " <tensorflow.python.ops.variables.Variable at 0x1174026d0>,\n",
       " <tensorflow.python.ops.variables.Variable at 0x11852c410>,\n",
       " <tensorflow.python.ops.variables.Variable at 0x118573350>,\n",
       " <tensorflow.python.ops.variables.Variable at 0x117402790>,\n",
       " <tensorflow.python.ops.variables.Variable at 0x118fef4d0>,\n",
       " <tensorflow.python.ops.variables.Variable at 0x11903cdd0>,\n",
       " <tensorflow.python.ops.variables.Variable at 0x117402750>,\n",
       " <tensorflow.python.ops.variables.Variable at 0x11903ce50>,\n",
       " <tensorflow.python.ops.variables.Variable at 0x11903cc50>]"
      ]
     },
     "execution_count": 13,
     "metadata": {},
     "output_type": "execute_result"
    }
   ],
   "source": [
    "slim.get_model_variables()"
   ]
  },
  {
   "cell_type": "code",
   "execution_count": 14,
   "metadata": {
    "collapsed": true
   },
   "outputs": [],
   "source": [
    "v = slim.get_model_variables()[0]"
   ]
  },
  {
   "cell_type": "code",
   "execution_count": 20,
   "metadata": {
    "collapsed": false
   },
   "outputs": [],
   "source": [
    "opt.get_slot?"
   ]
  },
  {
   "cell_type": "code",
   "execution_count": null,
   "metadata": {
    "collapsed": false
   },
   "outputs": [],
   "source": [
    "for dset_idx in range(3):\n",
    "    print(tf.boolean_mask(labels, tf.equal(dataset_idxs, dset_idx)).eval().shape)"
   ]
  },
  {
   "cell_type": "code",
   "execution_count": null,
   "metadata": {
    "collapsed": false
   },
   "outputs": [],
   "source": [
    "tf.equal(labels, -1)"
   ]
  },
  {
   "cell_type": "code",
   "execution_count": null,
   "metadata": {
    "collapsed": false
   },
   "outputs": [],
   "source": [
    "ret = tf.ones_like(labels)\n",
    "tf.where(tf.equal(labels, -1), tf.zeros_like(labels), tf.ones_like())"
   ]
  },
  {
   "cell_type": "code",
   "execution_count": null,
   "metadata": {
    "collapsed": false
   },
   "outputs": [],
   "source": [
    "sigmoid_xentropy_loss = slim.losses.sigmoid_cross_entropy(logits, labels)"
   ]
  },
  {
   "cell_type": "code",
   "execution_count": null,
   "metadata": {
    "collapsed": false
   },
   "outputs": [],
   "source": [
    "sigmoid_xentropy_loss"
   ]
  },
  {
   "cell_type": "code",
   "execution_count": null,
   "metadata": {
    "collapsed": false
   },
   "outputs": [],
   "source": [
    "labels.dtype"
   ]
  },
  {
   "cell_type": "code",
   "execution_count": null,
   "metadata": {
    "collapsed": true
   },
   "outputs": [],
   "source": [
    "tf.zeros_like?"
   ]
  },
  {
   "cell_type": "code",
   "execution_count": 9,
   "metadata": {
    "collapsed": false
   },
   "outputs": [
    {
     "data": {
      "text/plain": [
       "['intervals/start',\n",
       " 'labels',\n",
       " 'data/dnase_data_dir',\n",
       " 'dataset',\n",
       " 'intervals/chrom',\n",
       " 'dataset-index',\n",
       " 'data/genome_data_dir',\n",
       " 'intervals/end']"
      ]
     },
     "execution_count": 9,
     "metadata": {},
     "output_type": "execute_result"
    }
   ],
   "source": [
    "shared_queue.outputs.keys()"
   ]
  },
  {
   "cell_type": "code",
   "execution_count": null,
   "metadata": {
    "collapsed": true
   },
   "outputs": [],
   "source": [
    "shared_queue."
   ]
  }
 ],
 "metadata": {
  "anaconda-cloud": {},
  "kernelspec": {
   "display_name": "Python [conda env:tflow]",
   "language": "python",
   "name": "conda-env-tflow-py"
  },
  "language_info": {
   "codemirror_mode": {
    "name": "ipython",
    "version": 2
   },
   "file_extension": ".py",
   "mimetype": "text/x-python",
   "name": "python",
   "nbconvert_exporter": "python",
   "pygments_lexer": "ipython2",
   "version": "2.7.12"
  }
 },
 "nbformat": 4,
 "nbformat_minor": 1
}
